{
 "cells": [
  {
   "cell_type": "code",
   "execution_count": 1,
   "metadata": {},
   "outputs": [],
   "source": [
    "import glob\n",
    "\n",
    "fresh_apples = glob.glob('freshapples/*.*')"
   ]
  },
  {
   "cell_type": "code",
   "execution_count": 2,
   "metadata": {},
   "outputs": [],
   "source": [
    "from PIL import Image\n",
    "import numpy as np\n",
    "from pylab import *"
   ]
  },
  {
   "cell_type": "code",
   "execution_count": 3,
   "metadata": {},
   "outputs": [
    {
     "data": {
      "text/plain": [
       "1693"
      ]
     },
     "execution_count": 3,
     "metadata": {},
     "output_type": "execute_result"
    }
   ],
   "source": [
    "len(fresh_apples)"
   ]
  },
  {
   "cell_type": "code",
   "execution_count": 4,
   "metadata": {},
   "outputs": [
    {
     "data": {
      "text/plain": [
       "['freshapples\\\\rotated_by_15_Screen Shot 2018-06-08 at 4.59.36 PM.png',\n",
       " 'freshapples\\\\rotated_by_15_Screen Shot 2018-06-08 at 4.59.44 PM.png',\n",
       " 'freshapples\\\\rotated_by_15_Screen Shot 2018-06-08 at 4.59.57 PM.png',\n",
       " 'freshapples\\\\rotated_by_15_Screen Shot 2018-06-08 at 5.00.03 PM.png',\n",
       " 'freshapples\\\\rotated_by_15_Screen Shot 2018-06-08 at 5.00.12 PM.png',\n",
       " 'freshapples\\\\rotated_by_15_Screen Shot 2018-06-08 at 5.00.18 PM.png',\n",
       " 'freshapples\\\\rotated_by_15_Screen Shot 2018-06-08 at 5.00.26 PM.png',\n",
       " 'freshapples\\\\rotated_by_15_Screen Shot 2018-06-08 at 5.00.50 PM.png',\n",
       " 'freshapples\\\\rotated_by_15_Screen Shot 2018-06-08 at 5.01.08 PM.png',\n",
       " 'freshapples\\\\rotated_by_15_Screen Shot 2018-06-08 at 5.01.15 PM.png',\n",
       " 'freshapples\\\\rotated_by_15_Screen Shot 2018-06-08 at 5.01.22 PM.png',\n",
       " 'freshapples\\\\rotated_by_15_Screen Shot 2018-06-08 at 5.01.29 PM.png',\n",
       " 'freshapples\\\\rotated_by_15_Screen Shot 2018-06-08 at 5.01.34 PM.png',\n",
       " 'freshapples\\\\rotated_by_15_Screen Shot 2018-06-08 at 5.01.41 PM.png',\n",
       " 'freshapples\\\\rotated_by_15_Screen Shot 2018-06-08 at 5.02.24 PM.png',\n",
       " 'freshapples\\\\rotated_by_15_Screen Shot 2018-06-08 at 5.02.31 PM.png',\n",
       " 'freshapples\\\\rotated_by_15_Screen Shot 2018-06-08 at 5.02.38 PM.png',\n",
       " 'freshapples\\\\rotated_by_15_Screen Shot 2018-06-08 at 5.02.43 PM.png',\n",
       " 'freshapples\\\\rotated_by_15_Screen Shot 2018-06-08 at 5.02.48 PM.png',\n",
       " 'freshapples\\\\rotated_by_15_Screen Shot 2018-06-08 at 5.03.05 PM.png',\n",
       " 'freshapples\\\\rotated_by_15_Screen Shot 2018-06-08 at 5.03.10 PM.png',\n",
       " 'freshapples\\\\rotated_by_15_Screen Shot 2018-06-08 at 5.03.17 PM.png',\n",
       " 'freshapples\\\\rotated_by_15_Screen Shot 2018-06-08 at 5.03.26 PM.png',\n",
       " 'freshapples\\\\rotated_by_15_Screen Shot 2018-06-08 at 5.03.34 PM.png',\n",
       " 'freshapples\\\\rotated_by_15_Screen Shot 2018-06-08 at 5.03.40 PM.png',\n",
       " 'freshapples\\\\rotated_by_15_Screen Shot 2018-06-08 at 5.03.59 PM.png',\n",
       " 'freshapples\\\\rotated_by_15_Screen Shot 2018-06-08 at 5.04.05 PM.png',\n",
       " 'freshapples\\\\rotated_by_15_Screen Shot 2018-06-08 at 5.04.11 PM.png',\n",
       " 'freshapples\\\\rotated_by_15_Screen Shot 2018-06-08 at 5.04.16 PM.png',\n",
       " 'freshapples\\\\rotated_by_15_Screen Shot 2018-06-08 at 5.04.24 PM.png',\n",
       " 'freshapples\\\\rotated_by_15_Screen Shot 2018-06-08 at 5.04.31 PM.png',\n",
       " 'freshapples\\\\rotated_by_15_Screen Shot 2018-06-08 at 5.04.48 PM.png',\n",
       " 'freshapples\\\\rotated_by_15_Screen Shot 2018-06-08 at 5.05.06 PM.png',\n",
       " 'freshapples\\\\rotated_by_15_Screen Shot 2018-06-08 at 5.05.12 PM.png',\n",
       " 'freshapples\\\\rotated_by_15_Screen Shot 2018-06-08 at 5.05.18 PM.png',\n",
       " 'freshapples\\\\rotated_by_15_Screen Shot 2018-06-08 at 5.05.27 PM.png',\n",
       " 'freshapples\\\\rotated_by_15_Screen Shot 2018-06-08 at 5.05.34 PM.png',\n",
       " 'freshapples\\\\rotated_by_15_Screen Shot 2018-06-08 at 5.05.41 PM.png',\n",
       " 'freshapples\\\\rotated_by_15_Screen Shot 2018-06-08 at 5.05.48 PM.png',\n",
       " 'freshapples\\\\rotated_by_15_Screen Shot 2018-06-08 at 5.06.10 PM.png',\n",
       " 'freshapples\\\\rotated_by_15_Screen Shot 2018-06-08 at 5.06.19 PM.png',\n",
       " 'freshapples\\\\rotated_by_15_Screen Shot 2018-06-08 at 5.06.33 PM.png',\n",
       " 'freshapples\\\\rotated_by_15_Screen Shot 2018-06-08 at 5.06.40 PM.png',\n",
       " 'freshapples\\\\rotated_by_15_Screen Shot 2018-06-08 at 5.06.47 PM.png',\n",
       " 'freshapples\\\\rotated_by_15_Screen Shot 2018-06-08 at 5.06.54 PM.png',\n",
       " 'freshapples\\\\rotated_by_15_Screen Shot 2018-06-08 at 5.07.18 PM.png',\n",
       " 'freshapples\\\\rotated_by_15_Screen Shot 2018-06-08 at 5.07.26 PM.png',\n",
       " 'freshapples\\\\rotated_by_15_Screen Shot 2018-06-08 at 5.07.32 PM.png',\n",
       " 'freshapples\\\\rotated_by_15_Screen Shot 2018-06-08 at 5.08.37 PM.png',\n",
       " 'freshapples\\\\rotated_by_15_Screen Shot 2018-06-08 at 5.08.52 PM.png',\n",
       " 'freshapples\\\\rotated_by_15_Screen Shot 2018-06-08 at 5.08.58 PM.png',\n",
       " 'freshapples\\\\rotated_by_15_Screen Shot 2018-06-08 at 5.09.03 PM.png',\n",
       " 'freshapples\\\\rotated_by_15_Screen Shot 2018-06-08 at 5.09.10 PM.png',\n",
       " 'freshapples\\\\rotated_by_15_Screen Shot 2018-06-08 at 5.09.17 PM.png',\n",
       " 'freshapples\\\\rotated_by_15_Screen Shot 2018-06-08 at 5.09.25 PM.png',\n",
       " 'freshapples\\\\rotated_by_15_Screen Shot 2018-06-08 at 5.09.31 PM.png',\n",
       " 'freshapples\\\\rotated_by_15_Screen Shot 2018-06-08 at 5.09.47 PM.png',\n",
       " 'freshapples\\\\rotated_by_15_Screen Shot 2018-06-08 at 5.09.54 PM.png',\n",
       " 'freshapples\\\\rotated_by_15_Screen Shot 2018-06-08 at 5.10.03 PM.png',\n",
       " 'freshapples\\\\rotated_by_15_Screen Shot 2018-06-08 at 5.10.11 PM.png',\n",
       " 'freshapples\\\\rotated_by_15_Screen Shot 2018-06-08 at 5.10.21 PM.png',\n",
       " 'freshapples\\\\rotated_by_15_Screen Shot 2018-06-08 at 5.10.37 PM.png',\n",
       " 'freshapples\\\\rotated_by_15_Screen Shot 2018-06-08 at 5.10.43 PM.png',\n",
       " 'freshapples\\\\rotated_by_15_Screen Shot 2018-06-08 at 5.10.53 PM.png',\n",
       " 'freshapples\\\\rotated_by_15_Screen Shot 2018-06-08 at 5.11.08 PM.png',\n",
       " 'freshapples\\\\rotated_by_15_Screen Shot 2018-06-08 at 5.11.16 PM.png',\n",
       " 'freshapples\\\\rotated_by_15_Screen Shot 2018-06-08 at 5.11.24 PM.png',\n",
       " 'freshapples\\\\rotated_by_15_Screen Shot 2018-06-08 at 5.11.35 PM.png',\n",
       " 'freshapples\\\\rotated_by_15_Screen Shot 2018-06-08 at 5.11.41 PM.png',\n",
       " 'freshapples\\\\rotated_by_15_Screen Shot 2018-06-08 at 5.11.52 PM.png',\n",
       " 'freshapples\\\\rotated_by_15_Screen Shot 2018-06-08 at 5.11.59 PM.png',\n",
       " 'freshapples\\\\rotated_by_15_Screen Shot 2018-06-08 at 5.12.14 PM.png',\n",
       " 'freshapples\\\\rotated_by_15_Screen Shot 2018-06-08 at 5.12.20 PM.png',\n",
       " 'freshapples\\\\rotated_by_15_Screen Shot 2018-06-08 at 5.12.29 PM.png',\n",
       " 'freshapples\\\\rotated_by_15_Screen Shot 2018-06-08 at 5.12.34 PM.png',\n",
       " 'freshapples\\\\rotated_by_15_Screen Shot 2018-06-08 at 5.12.41 PM.png',\n",
       " 'freshapples\\\\rotated_by_15_Screen Shot 2018-06-08 at 5.12.47 PM.png',\n",
       " 'freshapples\\\\rotated_by_15_Screen Shot 2018-06-08 at 5.12.56 PM.png',\n",
       " 'freshapples\\\\rotated_by_15_Screen Shot 2018-06-08 at 5.13.02 PM.png',\n",
       " 'freshapples\\\\rotated_by_15_Screen Shot 2018-06-08 at 5.13.10 PM.png',\n",
       " 'freshapples\\\\rotated_by_15_Screen Shot 2018-06-08 at 5.13.18 PM.png',\n",
       " 'freshapples\\\\rotated_by_15_Screen Shot 2018-06-08 at 5.13.25 PM.png',\n",
       " 'freshapples\\\\rotated_by_15_Screen Shot 2018-06-08 at 5.13.31 PM.png',\n",
       " 'freshapples\\\\rotated_by_15_Screen Shot 2018-06-08 at 5.13.40 PM.png',\n",
       " 'freshapples\\\\rotated_by_15_Screen Shot 2018-06-08 at 5.13.45 PM.png',\n",
       " 'freshapples\\\\rotated_by_15_Screen Shot 2018-06-08 at 5.13.54 PM.png',\n",
       " 'freshapples\\\\rotated_by_15_Screen Shot 2018-06-08 at 5.14.01 PM.png',\n",
       " 'freshapples\\\\rotated_by_15_Screen Shot 2018-06-08 at 5.14.07 PM.png',\n",
       " 'freshapples\\\\rotated_by_15_Screen Shot 2018-06-08 at 5.14.44 PM.png',\n",
       " 'freshapples\\\\rotated_by_15_Screen Shot 2018-06-08 at 5.14.56 PM.png',\n",
       " 'freshapples\\\\rotated_by_15_Screen Shot 2018-06-08 at 5.15.01 PM.png',\n",
       " 'freshapples\\\\rotated_by_15_Screen Shot 2018-06-08 at 5.15.09 PM.png',\n",
       " 'freshapples\\\\rotated_by_15_Screen Shot 2018-06-08 at 5.15.14 PM.png',\n",
       " 'freshapples\\\\rotated_by_15_Screen Shot 2018-06-08 at 5.15.21 PM.png',\n",
       " 'freshapples\\\\rotated_by_15_Screen Shot 2018-06-08 at 5.15.28 PM.png',\n",
       " 'freshapples\\\\rotated_by_15_Screen Shot 2018-06-08 at 5.15.34 PM.png',\n",
       " 'freshapples\\\\rotated_by_15_Screen Shot 2018-06-08 at 5.15.39 PM.png',\n",
       " 'freshapples\\\\rotated_by_15_Screen Shot 2018-06-08 at 5.15.45 PM.png',\n",
       " 'freshapples\\\\rotated_by_15_Screen Shot 2018-06-08 at 5.15.52 PM.png',\n",
       " 'freshapples\\\\rotated_by_15_Screen Shot 2018-06-08 at 5.16.06 PM.png',\n",
       " 'freshapples\\\\rotated_by_15_Screen Shot 2018-06-08 at 5.16.16 PM.png',\n",
       " 'freshapples\\\\rotated_by_15_Screen Shot 2018-06-08 at 5.16.28 PM.png',\n",
       " 'freshapples\\\\rotated_by_15_Screen Shot 2018-06-08 at 5.16.33 PM.png',\n",
       " 'freshapples\\\\rotated_by_15_Screen Shot 2018-06-08 at 5.16.37 PM.png',\n",
       " 'freshapples\\\\rotated_by_15_Screen Shot 2018-06-08 at 5.16.44 PM.png',\n",
       " 'freshapples\\\\rotated_by_15_Screen Shot 2018-06-08 at 5.16.49 PM.png',\n",
       " 'freshapples\\\\rotated_by_15_Screen Shot 2018-06-08 at 5.16.57 PM.png',\n",
       " 'freshapples\\\\rotated_by_15_Screen Shot 2018-06-08 at 5.17.10 PM.png',\n",
       " 'freshapples\\\\rotated_by_15_Screen Shot 2018-06-08 at 5.17.22 PM.png',\n",
       " 'freshapples\\\\rotated_by_15_Screen Shot 2018-06-08 at 5.17.34 PM.png',\n",
       " 'freshapples\\\\rotated_by_15_Screen Shot 2018-06-08 at 5.17.42 PM.png',\n",
       " 'freshapples\\\\rotated_by_15_Screen Shot 2018-06-08 at 5.18.12 PM.png',\n",
       " 'freshapples\\\\rotated_by_15_Screen Shot 2018-06-08 at 5.18.16 PM.png',\n",
       " 'freshapples\\\\rotated_by_15_Screen Shot 2018-06-08 at 5.18.26 PM.png',\n",
       " 'freshapples\\\\rotated_by_15_Screen Shot 2018-06-08 at 5.18.42 PM.png',\n",
       " 'freshapples\\\\rotated_by_15_Screen Shot 2018-06-08 at 5.18.51 PM.png',\n",
       " 'freshapples\\\\rotated_by_15_Screen Shot 2018-06-08 at 5.18.58 PM.png',\n",
       " 'freshapples\\\\rotated_by_15_Screen Shot 2018-06-08 at 5.19.15 PM.png',\n",
       " 'freshapples\\\\rotated_by_15_Screen Shot 2018-06-08 at 5.19.28 PM.png',\n",
       " 'freshapples\\\\rotated_by_15_Screen Shot 2018-06-08 at 5.19.35 PM.png',\n",
       " 'freshapples\\\\rotated_by_15_Screen Shot 2018-06-08 at 5.19.47 PM.png',\n",
       " 'freshapples\\\\rotated_by_15_Screen Shot 2018-06-08 at 5.19.58 PM.png',\n",
       " 'freshapples\\\\rotated_by_15_Screen Shot 2018-06-08 at 5.20.08 PM.png',\n",
       " 'freshapples\\\\rotated_by_15_Screen Shot 2018-06-08 at 5.20.17 PM.png',\n",
       " 'freshapples\\\\rotated_by_15_Screen Shot 2018-06-08 at 5.20.26 PM.png',\n",
       " 'freshapples\\\\rotated_by_15_Screen Shot 2018-06-08 at 5.20.32 PM.png',\n",
       " 'freshapples\\\\rotated_by_15_Screen Shot 2018-06-08 at 5.20.51 PM.png',\n",
       " 'freshapples\\\\rotated_by_15_Screen Shot 2018-06-08 at 5.20.56 PM.png',\n",
       " 'freshapples\\\\rotated_by_15_Screen Shot 2018-06-08 at 5.21.06 PM.png',\n",
       " 'freshapples\\\\rotated_by_15_Screen Shot 2018-06-08 at 5.21.22 PM.png',\n",
       " 'freshapples\\\\rotated_by_15_Screen Shot 2018-06-08 at 5.21.31 PM.png',\n",
       " 'freshapples\\\\rotated_by_15_Screen Shot 2018-06-08 at 5.21.40 PM.png',\n",
       " 'freshapples\\\\rotated_by_15_Screen Shot 2018-06-08 at 5.21.44 PM.png',\n",
       " 'freshapples\\\\rotated_by_15_Screen Shot 2018-06-08 at 5.21.51 PM.png',\n",
       " 'freshapples\\\\rotated_by_15_Screen Shot 2018-06-08 at 5.21.56 PM.png',\n",
       " 'freshapples\\\\rotated_by_15_Screen Shot 2018-06-08 at 5.22.15 PM.png',\n",
       " 'freshapples\\\\rotated_by_15_Screen Shot 2018-06-08 at 5.22.20 PM.png',\n",
       " 'freshapples\\\\rotated_by_15_Screen Shot 2018-06-08 at 5.22.27 PM.png',\n",
       " 'freshapples\\\\rotated_by_15_Screen Shot 2018-06-08 at 5.22.35 PM.png',\n",
       " 'freshapples\\\\rotated_by_15_Screen Shot 2018-06-08 at 5.22.48 PM.png',\n",
       " 'freshapples\\\\rotated_by_15_Screen Shot 2018-06-08 at 5.22.58 PM.png',\n",
       " 'freshapples\\\\rotated_by_15_Screen Shot 2018-06-08 at 5.23.07 PM.png',\n",
       " 'freshapples\\\\rotated_by_15_Screen Shot 2018-06-08 at 5.23.14 PM.png',\n",
       " 'freshapples\\\\rotated_by_15_Screen Shot 2018-06-08 at 5.23.23 PM.png',\n",
       " 'freshapples\\\\rotated_by_15_Screen Shot 2018-06-08 at 5.23.26 PM.png',\n",
       " 'freshapples\\\\rotated_by_15_Screen Shot 2018-06-08 at 5.23.31 PM.png',\n",
       " 'freshapples\\\\rotated_by_15_Screen Shot 2018-06-08 at 5.23.51 PM.png',\n",
       " 'freshapples\\\\rotated_by_15_Screen Shot 2018-06-08 at 5.24.12 PM.png',\n",
       " 'freshapples\\\\rotated_by_15_Screen Shot 2018-06-08 at 5.24.19 PM.png',\n",
       " 'freshapples\\\\rotated_by_15_Screen Shot 2018-06-08 at 5.24.35 PM.png',\n",
       " 'freshapples\\\\rotated_by_15_Screen Shot 2018-06-08 at 5.25.02 PM.png',\n",
       " 'freshapples\\\\rotated_by_15_Screen Shot 2018-06-08 at 5.25.22 PM.png',\n",
       " 'freshapples\\\\rotated_by_15_Screen Shot 2018-06-08 at 5.25.28 PM.png',\n",
       " 'freshapples\\\\rotated_by_15_Screen Shot 2018-06-08 at 5.25.37 PM.png',\n",
       " 'freshapples\\\\rotated_by_15_Screen Shot 2018-06-08 at 5.26.05 PM.png',\n",
       " 'freshapples\\\\rotated_by_15_Screen Shot 2018-06-08 at 5.26.24 PM.png',\n",
       " 'freshapples\\\\rotated_by_15_Screen Shot 2018-06-08 at 5.26.29 PM.png',\n",
       " 'freshapples\\\\rotated_by_15_Screen Shot 2018-06-08 at 5.26.36 PM.png',\n",
       " 'freshapples\\\\rotated_by_15_Screen Shot 2018-06-08 at 5.26.41 PM.png',\n",
       " 'freshapples\\\\rotated_by_15_Screen Shot 2018-06-08 at 5.26.47 PM.png',\n",
       " 'freshapples\\\\rotated_by_15_Screen Shot 2018-06-08 at 5.26.52 PM.png',\n",
       " 'freshapples\\\\rotated_by_15_Screen Shot 2018-06-08 at 5.26.58 PM.png',\n",
       " 'freshapples\\\\rotated_by_15_Screen Shot 2018-06-08 at 5.27.06 PM.png',\n",
       " 'freshapples\\\\rotated_by_15_Screen Shot 2018-06-08 at 5.27.13 PM.png',\n",
       " 'freshapples\\\\rotated_by_15_Screen Shot 2018-06-08 at 5.27.34 PM.png',\n",
       " 'freshapples\\\\rotated_by_15_Screen Shot 2018-06-08 at 5.27.49 PM.png',\n",
       " 'freshapples\\\\rotated_by_15_Screen Shot 2018-06-08 at 5.28.04 PM.png',\n",
       " 'freshapples\\\\rotated_by_15_Screen Shot 2018-06-08 at 5.28.15 PM.png',\n",
       " 'freshapples\\\\rotated_by_15_Screen Shot 2018-06-08 at 5.28.24 PM.png',\n",
       " 'freshapples\\\\rotated_by_15_Screen Shot 2018-06-08 at 5.28.32 PM.png',\n",
       " 'freshapples\\\\rotated_by_15_Screen Shot 2018-06-08 at 5.28.38 PM.png',\n",
       " 'freshapples\\\\rotated_by_15_Screen Shot 2018-06-08 at 5.28.42 PM.png',\n",
       " 'freshapples\\\\rotated_by_15_Screen Shot 2018-06-08 at 5.28.48 PM.png',\n",
       " 'freshapples\\\\rotated_by_15_Screen Shot 2018-06-08 at 5.29.07 PM.png',\n",
       " 'freshapples\\\\rotated_by_15_Screen Shot 2018-06-08 at 5.29.13 PM.png',\n",
       " 'freshapples\\\\rotated_by_15_Screen Shot 2018-06-08 at 5.29.18 PM.png',\n",
       " 'freshapples\\\\rotated_by_15_Screen Shot 2018-06-08 at 5.29.24 PM.png',\n",
       " 'freshapples\\\\rotated_by_15_Screen Shot 2018-06-08 at 5.29.31 PM.png',\n",
       " 'freshapples\\\\rotated_by_15_Screen Shot 2018-06-08 at 5.32.33 PM.png',\n",
       " 'freshapples\\\\rotated_by_15_Screen Shot 2018-06-08 at 5.32.38 PM.png',\n",
       " 'freshapples\\\\rotated_by_15_Screen Shot 2018-06-08 at 5.32.43 PM.png',\n",
       " 'freshapples\\\\rotated_by_15_Screen Shot 2018-06-08 at 5.32.50 PM.png',\n",
       " 'freshapples\\\\rotated_by_15_Screen Shot 2018-06-08 at 5.33.05 PM.png',\n",
       " 'freshapples\\\\rotated_by_15_Screen Shot 2018-06-08 at 5.33.11 PM.png',\n",
       " 'freshapples\\\\rotated_by_15_Screen Shot 2018-06-08 at 5.33.18 PM.png',\n",
       " 'freshapples\\\\rotated_by_15_Screen Shot 2018-06-08 at 5.33.27 PM.png',\n",
       " 'freshapples\\\\rotated_by_15_Screen Shot 2018-06-08 at 5.33.33 PM.png',\n",
       " 'freshapples\\\\rotated_by_15_Screen Shot 2018-06-08 at 5.33.47 PM.png',\n",
       " 'freshapples\\\\rotated_by_15_Screen Shot 2018-06-08 at 5.33.55 PM.png',\n",
       " 'freshapples\\\\rotated_by_15_Screen Shot 2018-06-08 at 5.34.01 PM.png',\n",
       " 'freshapples\\\\rotated_by_15_Screen Shot 2018-06-08 at 5.34.07 PM.png',\n",
       " 'freshapples\\\\rotated_by_15_Screen Shot 2018-06-08 at 5.34.14 PM.png',\n",
       " 'freshapples\\\\rotated_by_15_Screen Shot 2018-06-08 at 5.34.21 PM.png',\n",
       " 'freshapples\\\\rotated_by_30_Screen Shot 2018-06-08 at 4.59.36 PM.png',\n",
       " 'freshapples\\\\rotated_by_30_Screen Shot 2018-06-08 at 4.59.44 PM.png',\n",
       " 'freshapples\\\\rotated_by_30_Screen Shot 2018-06-08 at 4.59.49 PM.png',\n",
       " 'freshapples\\\\rotated_by_30_Screen Shot 2018-06-08 at 4.59.57 PM.png',\n",
       " 'freshapples\\\\rotated_by_30_Screen Shot 2018-06-08 at 5.00.03 PM.png',\n",
       " 'freshapples\\\\rotated_by_30_Screen Shot 2018-06-08 at 5.00.12 PM.png',\n",
       " 'freshapples\\\\rotated_by_30_Screen Shot 2018-06-08 at 5.00.18 PM.png',\n",
       " 'freshapples\\\\rotated_by_30_Screen Shot 2018-06-08 at 5.00.26 PM.png',\n",
       " 'freshapples\\\\rotated_by_30_Screen Shot 2018-06-08 at 5.00.43 PM.png',\n",
       " 'freshapples\\\\rotated_by_30_Screen Shot 2018-06-08 at 5.00.50 PM.png',\n",
       " 'freshapples\\\\rotated_by_30_Screen Shot 2018-06-08 at 5.01.01 PM.png',\n",
       " 'freshapples\\\\rotated_by_30_Screen Shot 2018-06-08 at 5.01.15 PM.png',\n",
       " 'freshapples\\\\rotated_by_30_Screen Shot 2018-06-08 at 5.01.22 PM.png',\n",
       " 'freshapples\\\\rotated_by_30_Screen Shot 2018-06-08 at 5.01.29 PM.png',\n",
       " 'freshapples\\\\rotated_by_30_Screen Shot 2018-06-08 at 5.01.34 PM.png',\n",
       " 'freshapples\\\\rotated_by_30_Screen Shot 2018-06-08 at 5.01.41 PM.png',\n",
       " 'freshapples\\\\rotated_by_30_Screen Shot 2018-06-08 at 5.02.08 PM.png',\n",
       " 'freshapples\\\\rotated_by_30_Screen Shot 2018-06-08 at 5.02.24 PM.png',\n",
       " 'freshapples\\\\rotated_by_30_Screen Shot 2018-06-08 at 5.02.38 PM.png',\n",
       " 'freshapples\\\\rotated_by_30_Screen Shot 2018-06-08 at 5.02.43 PM.png',\n",
       " 'freshapples\\\\rotated_by_30_Screen Shot 2018-06-08 at 5.02.48 PM.png',\n",
       " 'freshapples\\\\rotated_by_30_Screen Shot 2018-06-08 at 5.03.05 PM.png',\n",
       " 'freshapples\\\\rotated_by_30_Screen Shot 2018-06-08 at 5.03.10 PM.png',\n",
       " 'freshapples\\\\rotated_by_30_Screen Shot 2018-06-08 at 5.03.17 PM.png',\n",
       " 'freshapples\\\\rotated_by_30_Screen Shot 2018-06-08 at 5.03.26 PM.png',\n",
       " 'freshapples\\\\rotated_by_30_Screen Shot 2018-06-08 at 5.03.47 PM.png',\n",
       " 'freshapples\\\\rotated_by_30_Screen Shot 2018-06-08 at 5.03.59 PM.png',\n",
       " 'freshapples\\\\rotated_by_30_Screen Shot 2018-06-08 at 5.04.05 PM.png',\n",
       " 'freshapples\\\\rotated_by_30_Screen Shot 2018-06-08 at 5.04.11 PM.png',\n",
       " 'freshapples\\\\rotated_by_30_Screen Shot 2018-06-08 at 5.04.16 PM.png',\n",
       " 'freshapples\\\\rotated_by_30_Screen Shot 2018-06-08 at 5.04.24 PM.png',\n",
       " 'freshapples\\\\rotated_by_30_Screen Shot 2018-06-08 at 5.04.31 PM.png',\n",
       " 'freshapples\\\\rotated_by_30_Screen Shot 2018-06-08 at 5.04.48 PM.png',\n",
       " 'freshapples\\\\rotated_by_30_Screen Shot 2018-06-08 at 5.04.59 PM.png',\n",
       " 'freshapples\\\\rotated_by_30_Screen Shot 2018-06-08 at 5.05.12 PM.png',\n",
       " 'freshapples\\\\rotated_by_30_Screen Shot 2018-06-08 at 5.05.18 PM.png',\n",
       " 'freshapples\\\\rotated_by_30_Screen Shot 2018-06-08 at 5.05.27 PM.png',\n",
       " 'freshapples\\\\rotated_by_30_Screen Shot 2018-06-08 at 5.05.41 PM.png',\n",
       " 'freshapples\\\\rotated_by_30_Screen Shot 2018-06-08 at 5.05.48 PM.png',\n",
       " 'freshapples\\\\rotated_by_30_Screen Shot 2018-06-08 at 5.06.19 PM.png',\n",
       " 'freshapples\\\\rotated_by_30_Screen Shot 2018-06-08 at 5.06.23 PM.png',\n",
       " 'freshapples\\\\rotated_by_30_Screen Shot 2018-06-08 at 5.06.28 PM.png',\n",
       " 'freshapples\\\\rotated_by_30_Screen Shot 2018-06-08 at 5.06.33 PM.png',\n",
       " 'freshapples\\\\rotated_by_30_Screen Shot 2018-06-08 at 5.06.40 PM.png',\n",
       " 'freshapples\\\\rotated_by_30_Screen Shot 2018-06-08 at 5.06.47 PM.png',\n",
       " 'freshapples\\\\rotated_by_30_Screen Shot 2018-06-08 at 5.06.54 PM.png',\n",
       " 'freshapples\\\\rotated_by_30_Screen Shot 2018-06-08 at 5.07.18 PM.png',\n",
       " 'freshapples\\\\rotated_by_30_Screen Shot 2018-06-08 at 5.07.32 PM.png',\n",
       " 'freshapples\\\\rotated_by_30_Screen Shot 2018-06-08 at 5.08.05 PM.png',\n",
       " 'freshapples\\\\rotated_by_30_Screen Shot 2018-06-08 at 5.08.52 PM.png',\n",
       " 'freshapples\\\\rotated_by_30_Screen Shot 2018-06-08 at 5.08.58 PM.png',\n",
       " 'freshapples\\\\rotated_by_30_Screen Shot 2018-06-08 at 5.09.03 PM.png',\n",
       " 'freshapples\\\\rotated_by_30_Screen Shot 2018-06-08 at 5.09.17 PM.png',\n",
       " 'freshapples\\\\rotated_by_30_Screen Shot 2018-06-08 at 5.09.25 PM.png',\n",
       " 'freshapples\\\\rotated_by_30_Screen Shot 2018-06-08 at 5.09.31 PM.png',\n",
       " 'freshapples\\\\rotated_by_30_Screen Shot 2018-06-08 at 5.09.40 PM.png',\n",
       " 'freshapples\\\\rotated_by_30_Screen Shot 2018-06-08 at 5.09.47 PM.png',\n",
       " 'freshapples\\\\rotated_by_30_Screen Shot 2018-06-08 at 5.09.54 PM.png',\n",
       " 'freshapples\\\\rotated_by_30_Screen Shot 2018-06-08 at 5.10.03 PM.png',\n",
       " 'freshapples\\\\rotated_by_30_Screen Shot 2018-06-08 at 5.10.21 PM.png',\n",
       " 'freshapples\\\\rotated_by_30_Screen Shot 2018-06-08 at 5.10.29 PM.png',\n",
       " 'freshapples\\\\rotated_by_30_Screen Shot 2018-06-08 at 5.10.37 PM.png',\n",
       " 'freshapples\\\\rotated_by_30_Screen Shot 2018-06-08 at 5.10.43 PM.png',\n",
       " 'freshapples\\\\rotated_by_30_Screen Shot 2018-06-08 at 5.10.53 PM.png',\n",
       " 'freshapples\\\\rotated_by_30_Screen Shot 2018-06-08 at 5.11.02 PM.png',\n",
       " 'freshapples\\\\rotated_by_30_Screen Shot 2018-06-08 at 5.11.08 PM.png',\n",
       " 'freshapples\\\\rotated_by_30_Screen Shot 2018-06-08 at 5.11.16 PM.png',\n",
       " 'freshapples\\\\rotated_by_30_Screen Shot 2018-06-08 at 5.11.41 PM.png',\n",
       " 'freshapples\\\\rotated_by_30_Screen Shot 2018-06-08 at 5.11.52 PM.png',\n",
       " 'freshapples\\\\rotated_by_30_Screen Shot 2018-06-08 at 5.11.59 PM.png',\n",
       " 'freshapples\\\\rotated_by_30_Screen Shot 2018-06-08 at 5.12.14 PM.png',\n",
       " 'freshapples\\\\rotated_by_30_Screen Shot 2018-06-08 at 5.12.20 PM.png',\n",
       " 'freshapples\\\\rotated_by_30_Screen Shot 2018-06-08 at 5.12.29 PM.png',\n",
       " 'freshapples\\\\rotated_by_30_Screen Shot 2018-06-08 at 5.12.34 PM.png',\n",
       " 'freshapples\\\\rotated_by_30_Screen Shot 2018-06-08 at 5.12.41 PM.png',\n",
       " 'freshapples\\\\rotated_by_30_Screen Shot 2018-06-08 at 5.12.47 PM.png',\n",
       " 'freshapples\\\\rotated_by_30_Screen Shot 2018-06-08 at 5.12.56 PM.png',\n",
       " 'freshapples\\\\rotated_by_30_Screen Shot 2018-06-08 at 5.13.02 PM.png',\n",
       " 'freshapples\\\\rotated_by_30_Screen Shot 2018-06-08 at 5.13.10 PM.png',\n",
       " 'freshapples\\\\rotated_by_30_Screen Shot 2018-06-08 at 5.13.18 PM.png',\n",
       " 'freshapples\\\\rotated_by_30_Screen Shot 2018-06-08 at 5.13.25 PM.png',\n",
       " 'freshapples\\\\rotated_by_30_Screen Shot 2018-06-08 at 5.13.31 PM.png',\n",
       " 'freshapples\\\\rotated_by_30_Screen Shot 2018-06-08 at 5.13.40 PM.png',\n",
       " 'freshapples\\\\rotated_by_30_Screen Shot 2018-06-08 at 5.13.45 PM.png',\n",
       " 'freshapples\\\\rotated_by_30_Screen Shot 2018-06-08 at 5.13.54 PM.png',\n",
       " 'freshapples\\\\rotated_by_30_Screen Shot 2018-06-08 at 5.14.01 PM.png',\n",
       " 'freshapples\\\\rotated_by_30_Screen Shot 2018-06-08 at 5.14.07 PM.png',\n",
       " 'freshapples\\\\rotated_by_30_Screen Shot 2018-06-08 at 5.14.20 PM.png',\n",
       " 'freshapples\\\\rotated_by_30_Screen Shot 2018-06-08 at 5.14.44 PM.png',\n",
       " 'freshapples\\\\rotated_by_30_Screen Shot 2018-06-08 at 5.14.48 PM.png',\n",
       " 'freshapples\\\\rotated_by_30_Screen Shot 2018-06-08 at 5.14.56 PM.png',\n",
       " 'freshapples\\\\rotated_by_30_Screen Shot 2018-06-08 at 5.15.01 PM.png',\n",
       " 'freshapples\\\\rotated_by_30_Screen Shot 2018-06-08 at 5.15.09 PM.png',\n",
       " 'freshapples\\\\rotated_by_30_Screen Shot 2018-06-08 at 5.15.14 PM.png',\n",
       " 'freshapples\\\\rotated_by_30_Screen Shot 2018-06-08 at 5.15.21 PM.png',\n",
       " 'freshapples\\\\rotated_by_30_Screen Shot 2018-06-08 at 5.15.28 PM.png',\n",
       " 'freshapples\\\\rotated_by_30_Screen Shot 2018-06-08 at 5.15.34 PM.png',\n",
       " 'freshapples\\\\rotated_by_30_Screen Shot 2018-06-08 at 5.15.39 PM.png',\n",
       " 'freshapples\\\\rotated_by_30_Screen Shot 2018-06-08 at 5.15.45 PM.png',\n",
       " 'freshapples\\\\rotated_by_30_Screen Shot 2018-06-08 at 5.15.52 PM.png',\n",
       " 'freshapples\\\\rotated_by_30_Screen Shot 2018-06-08 at 5.16.06 PM.png',\n",
       " 'freshapples\\\\rotated_by_30_Screen Shot 2018-06-08 at 5.16.28 PM.png',\n",
       " 'freshapples\\\\rotated_by_30_Screen Shot 2018-06-08 at 5.16.33 PM.png',\n",
       " 'freshapples\\\\rotated_by_30_Screen Shot 2018-06-08 at 5.16.44 PM.png',\n",
       " 'freshapples\\\\rotated_by_30_Screen Shot 2018-06-08 at 5.16.57 PM.png',\n",
       " 'freshapples\\\\rotated_by_30_Screen Shot 2018-06-08 at 5.17.04 PM.png',\n",
       " 'freshapples\\\\rotated_by_30_Screen Shot 2018-06-08 at 5.17.10 PM.png',\n",
       " 'freshapples\\\\rotated_by_30_Screen Shot 2018-06-08 at 5.17.22 PM.png',\n",
       " 'freshapples\\\\rotated_by_30_Screen Shot 2018-06-08 at 5.17.34 PM.png',\n",
       " 'freshapples\\\\rotated_by_30_Screen Shot 2018-06-08 at 5.17.42 PM.png',\n",
       " 'freshapples\\\\rotated_by_30_Screen Shot 2018-06-08 at 5.17.58 PM.png',\n",
       " 'freshapples\\\\rotated_by_30_Screen Shot 2018-06-08 at 5.18.12 PM.png',\n",
       " 'freshapples\\\\rotated_by_30_Screen Shot 2018-06-08 at 5.18.16 PM.png',\n",
       " 'freshapples\\\\rotated_by_30_Screen Shot 2018-06-08 at 5.18.26 PM.png',\n",
       " 'freshapples\\\\rotated_by_30_Screen Shot 2018-06-08 at 5.18.37 PM.png',\n",
       " 'freshapples\\\\rotated_by_30_Screen Shot 2018-06-08 at 5.18.42 PM.png',\n",
       " 'freshapples\\\\rotated_by_30_Screen Shot 2018-06-08 at 5.18.51 PM.png',\n",
       " 'freshapples\\\\rotated_by_30_Screen Shot 2018-06-08 at 5.18.58 PM.png',\n",
       " 'freshapples\\\\rotated_by_30_Screen Shot 2018-06-08 at 5.19.15 PM.png',\n",
       " 'freshapples\\\\rotated_by_30_Screen Shot 2018-06-08 at 5.19.35 PM.png',\n",
       " 'freshapples\\\\rotated_by_30_Screen Shot 2018-06-08 at 5.19.47 PM.png',\n",
       " 'freshapples\\\\rotated_by_30_Screen Shot 2018-06-08 at 5.19.58 PM.png',\n",
       " 'freshapples\\\\rotated_by_30_Screen Shot 2018-06-08 at 5.20.08 PM.png',\n",
       " 'freshapples\\\\rotated_by_30_Screen Shot 2018-06-08 at 5.20.26 PM.png',\n",
       " 'freshapples\\\\rotated_by_30_Screen Shot 2018-06-08 at 5.20.32 PM.png',\n",
       " 'freshapples\\\\rotated_by_30_Screen Shot 2018-06-08 at 5.20.51 PM.png',\n",
       " 'freshapples\\\\rotated_by_30_Screen Shot 2018-06-08 at 5.20.56 PM.png',\n",
       " 'freshapples\\\\rotated_by_30_Screen Shot 2018-06-08 at 5.21.06 PM.png',\n",
       " 'freshapples\\\\rotated_by_30_Screen Shot 2018-06-08 at 5.21.22 PM.png',\n",
       " 'freshapples\\\\rotated_by_30_Screen Shot 2018-06-08 at 5.21.31 PM.png',\n",
       " 'freshapples\\\\rotated_by_30_Screen Shot 2018-06-08 at 5.21.35 PM.png',\n",
       " 'freshapples\\\\rotated_by_30_Screen Shot 2018-06-08 at 5.21.44 PM.png',\n",
       " 'freshapples\\\\rotated_by_30_Screen Shot 2018-06-08 at 5.21.51 PM.png',\n",
       " 'freshapples\\\\rotated_by_30_Screen Shot 2018-06-08 at 5.22.15 PM.png',\n",
       " 'freshapples\\\\rotated_by_30_Screen Shot 2018-06-08 at 5.22.20 PM.png',\n",
       " 'freshapples\\\\rotated_by_30_Screen Shot 2018-06-08 at 5.22.27 PM.png',\n",
       " 'freshapples\\\\rotated_by_30_Screen Shot 2018-06-08 at 5.22.35 PM.png',\n",
       " 'freshapples\\\\rotated_by_30_Screen Shot 2018-06-08 at 5.22.53 PM.png',\n",
       " 'freshapples\\\\rotated_by_30_Screen Shot 2018-06-08 at 5.22.58 PM.png',\n",
       " 'freshapples\\\\rotated_by_30_Screen Shot 2018-06-08 at 5.23.07 PM.png',\n",
       " 'freshapples\\\\rotated_by_30_Screen Shot 2018-06-08 at 5.23.14 PM.png',\n",
       " 'freshapples\\\\rotated_by_30_Screen Shot 2018-06-08 at 5.23.23 PM.png',\n",
       " 'freshapples\\\\rotated_by_30_Screen Shot 2018-06-08 at 5.23.26 PM.png',\n",
       " 'freshapples\\\\rotated_by_30_Screen Shot 2018-06-08 at 5.23.31 PM.png',\n",
       " 'freshapples\\\\rotated_by_30_Screen Shot 2018-06-08 at 5.24.04 PM.png',\n",
       " 'freshapples\\\\rotated_by_30_Screen Shot 2018-06-08 at 5.24.26 PM.png',\n",
       " 'freshapples\\\\rotated_by_30_Screen Shot 2018-06-08 at 5.25.02 PM.png',\n",
       " 'freshapples\\\\rotated_by_30_Screen Shot 2018-06-08 at 5.25.22 PM.png',\n",
       " 'freshapples\\\\rotated_by_30_Screen Shot 2018-06-08 at 5.25.28 PM.png',\n",
       " 'freshapples\\\\rotated_by_30_Screen Shot 2018-06-08 at 5.25.33 PM.png',\n",
       " 'freshapples\\\\rotated_by_30_Screen Shot 2018-06-08 at 5.25.37 PM.png',\n",
       " 'freshapples\\\\rotated_by_30_Screen Shot 2018-06-08 at 5.25.43 PM.png',\n",
       " 'freshapples\\\\rotated_by_30_Screen Shot 2018-06-08 at 5.25.49 PM.png',\n",
       " 'freshapples\\\\rotated_by_30_Screen Shot 2018-06-08 at 5.25.54 PM.png',\n",
       " 'freshapples\\\\rotated_by_30_Screen Shot 2018-06-08 at 5.26.05 PM.png',\n",
       " 'freshapples\\\\rotated_by_30_Screen Shot 2018-06-08 at 5.26.19 PM.png',\n",
       " 'freshapples\\\\rotated_by_30_Screen Shot 2018-06-08 at 5.26.24 PM.png',\n",
       " 'freshapples\\\\rotated_by_30_Screen Shot 2018-06-08 at 5.26.29 PM.png',\n",
       " 'freshapples\\\\rotated_by_30_Screen Shot 2018-06-08 at 5.26.36 PM.png',\n",
       " 'freshapples\\\\rotated_by_30_Screen Shot 2018-06-08 at 5.26.47 PM.png',\n",
       " 'freshapples\\\\rotated_by_30_Screen Shot 2018-06-08 at 5.26.52 PM.png',\n",
       " 'freshapples\\\\rotated_by_30_Screen Shot 2018-06-08 at 5.26.58 PM.png',\n",
       " 'freshapples\\\\rotated_by_30_Screen Shot 2018-06-08 at 5.27.06 PM.png',\n",
       " 'freshapples\\\\rotated_by_30_Screen Shot 2018-06-08 at 5.27.13 PM.png',\n",
       " 'freshapples\\\\rotated_by_30_Screen Shot 2018-06-08 at 5.27.19 PM.png',\n",
       " 'freshapples\\\\rotated_by_30_Screen Shot 2018-06-08 at 5.27.27 PM.png',\n",
       " 'freshapples\\\\rotated_by_30_Screen Shot 2018-06-08 at 5.27.34 PM.png',\n",
       " 'freshapples\\\\rotated_by_30_Screen Shot 2018-06-08 at 5.28.04 PM.png',\n",
       " 'freshapples\\\\rotated_by_30_Screen Shot 2018-06-08 at 5.28.10 PM.png',\n",
       " 'freshapples\\\\rotated_by_30_Screen Shot 2018-06-08 at 5.28.15 PM.png',\n",
       " 'freshapples\\\\rotated_by_30_Screen Shot 2018-06-08 at 5.28.24 PM.png',\n",
       " 'freshapples\\\\rotated_by_30_Screen Shot 2018-06-08 at 5.28.38 PM.png',\n",
       " 'freshapples\\\\rotated_by_30_Screen Shot 2018-06-08 at 5.28.42 PM.png',\n",
       " 'freshapples\\\\rotated_by_30_Screen Shot 2018-06-08 at 5.28.48 PM.png',\n",
       " 'freshapples\\\\rotated_by_30_Screen Shot 2018-06-08 at 5.29.07 PM.png',\n",
       " 'freshapples\\\\rotated_by_30_Screen Shot 2018-06-08 at 5.29.13 PM.png',\n",
       " 'freshapples\\\\rotated_by_30_Screen Shot 2018-06-08 at 5.29.24 PM.png',\n",
       " 'freshapples\\\\rotated_by_30_Screen Shot 2018-06-08 at 5.29.31 PM.png',\n",
       " 'freshapples\\\\rotated_by_30_Screen Shot 2018-06-08 at 5.32.33 PM.png',\n",
       " 'freshapples\\\\rotated_by_30_Screen Shot 2018-06-08 at 5.32.38 PM.png',\n",
       " 'freshapples\\\\rotated_by_30_Screen Shot 2018-06-08 at 5.32.43 PM.png',\n",
       " 'freshapples\\\\rotated_by_30_Screen Shot 2018-06-08 at 5.33.05 PM.png',\n",
       " 'freshapples\\\\rotated_by_30_Screen Shot 2018-06-08 at 5.33.11 PM.png',\n",
       " 'freshapples\\\\rotated_by_30_Screen Shot 2018-06-08 at 5.33.18 PM.png',\n",
       " 'freshapples\\\\rotated_by_30_Screen Shot 2018-06-08 at 5.33.27 PM.png',\n",
       " 'freshapples\\\\rotated_by_30_Screen Shot 2018-06-08 at 5.33.33 PM.png',\n",
       " 'freshapples\\\\rotated_by_30_Screen Shot 2018-06-08 at 5.33.47 PM.png',\n",
       " 'freshapples\\\\rotated_by_30_Screen Shot 2018-06-08 at 5.33.55 PM.png',\n",
       " 'freshapples\\\\rotated_by_30_Screen Shot 2018-06-08 at 5.34.01 PM.png',\n",
       " 'freshapples\\\\rotated_by_30_Screen Shot 2018-06-08 at 5.34.07 PM.png',\n",
       " 'freshapples\\\\rotated_by_30_Screen Shot 2018-06-08 at 5.34.14 PM.png',\n",
       " 'freshapples\\\\rotated_by_30_Screen Shot 2018-06-08 at 5.34.21 PM.png',\n",
       " 'freshapples\\\\rotated_by_45_Screen Shot 2018-06-08 at 4.59.36 PM.png',\n",
       " 'freshapples\\\\rotated_by_45_Screen Shot 2018-06-08 at 4.59.44 PM.png',\n",
       " 'freshapples\\\\rotated_by_45_Screen Shot 2018-06-08 at 4.59.49 PM.png',\n",
       " 'freshapples\\\\rotated_by_45_Screen Shot 2018-06-08 at 4.59.57 PM.png',\n",
       " 'freshapples\\\\rotated_by_45_Screen Shot 2018-06-08 at 5.00.03 PM.png',\n",
       " 'freshapples\\\\rotated_by_45_Screen Shot 2018-06-08 at 5.00.18 PM.png',\n",
       " 'freshapples\\\\rotated_by_45_Screen Shot 2018-06-08 at 5.00.35 PM.png',\n",
       " 'freshapples\\\\rotated_by_45_Screen Shot 2018-06-08 at 5.00.43 PM.png',\n",
       " 'freshapples\\\\rotated_by_45_Screen Shot 2018-06-08 at 5.00.50 PM.png',\n",
       " 'freshapples\\\\rotated_by_45_Screen Shot 2018-06-08 at 5.01.01 PM.png',\n",
       " 'freshapples\\\\rotated_by_45_Screen Shot 2018-06-08 at 5.01.08 PM.png',\n",
       " 'freshapples\\\\rotated_by_45_Screen Shot 2018-06-08 at 5.01.15 PM.png',\n",
       " 'freshapples\\\\rotated_by_45_Screen Shot 2018-06-08 at 5.01.29 PM.png',\n",
       " 'freshapples\\\\rotated_by_45_Screen Shot 2018-06-08 at 5.01.34 PM.png',\n",
       " 'freshapples\\\\rotated_by_45_Screen Shot 2018-06-08 at 5.02.08 PM.png',\n",
       " 'freshapples\\\\rotated_by_45_Screen Shot 2018-06-08 at 5.02.31 PM.png',\n",
       " 'freshapples\\\\rotated_by_45_Screen Shot 2018-06-08 at 5.02.38 PM.png',\n",
       " 'freshapples\\\\rotated_by_45_Screen Shot 2018-06-08 at 5.02.48 PM.png',\n",
       " 'freshapples\\\\rotated_by_45_Screen Shot 2018-06-08 at 5.03.05 PM.png',\n",
       " 'freshapples\\\\rotated_by_45_Screen Shot 2018-06-08 at 5.03.10 PM.png',\n",
       " 'freshapples\\\\rotated_by_45_Screen Shot 2018-06-08 at 5.03.17 PM.png',\n",
       " 'freshapples\\\\rotated_by_45_Screen Shot 2018-06-08 at 5.03.26 PM.png',\n",
       " 'freshapples\\\\rotated_by_45_Screen Shot 2018-06-08 at 5.03.34 PM.png',\n",
       " 'freshapples\\\\rotated_by_45_Screen Shot 2018-06-08 at 5.03.47 PM.png',\n",
       " 'freshapples\\\\rotated_by_45_Screen Shot 2018-06-08 at 5.03.59 PM.png',\n",
       " 'freshapples\\\\rotated_by_45_Screen Shot 2018-06-08 at 5.04.16 PM.png',\n",
       " 'freshapples\\\\rotated_by_45_Screen Shot 2018-06-08 at 5.04.24 PM.png',\n",
       " 'freshapples\\\\rotated_by_45_Screen Shot 2018-06-08 at 5.04.31 PM.png',\n",
       " 'freshapples\\\\rotated_by_45_Screen Shot 2018-06-08 at 5.04.42 PM.png',\n",
       " 'freshapples\\\\rotated_by_45_Screen Shot 2018-06-08 at 5.04.48 PM.png',\n",
       " 'freshapples\\\\rotated_by_45_Screen Shot 2018-06-08 at 5.04.59 PM.png',\n",
       " 'freshapples\\\\rotated_by_45_Screen Shot 2018-06-08 at 5.05.06 PM.png',\n",
       " 'freshapples\\\\rotated_by_45_Screen Shot 2018-06-08 at 5.05.34 PM.png',\n",
       " 'freshapples\\\\rotated_by_45_Screen Shot 2018-06-08 at 5.05.41 PM.png',\n",
       " 'freshapples\\\\rotated_by_45_Screen Shot 2018-06-08 at 5.05.48 PM.png',\n",
       " 'freshapples\\\\rotated_by_45_Screen Shot 2018-06-08 at 5.06.10 PM.png',\n",
       " 'freshapples\\\\rotated_by_45_Screen Shot 2018-06-08 at 5.06.19 PM.png',\n",
       " 'freshapples\\\\rotated_by_45_Screen Shot 2018-06-08 at 5.06.23 PM.png',\n",
       " 'freshapples\\\\rotated_by_45_Screen Shot 2018-06-08 at 5.06.33 PM.png',\n",
       " 'freshapples\\\\rotated_by_45_Screen Shot 2018-06-08 at 5.06.40 PM.png',\n",
       " 'freshapples\\\\rotated_by_45_Screen Shot 2018-06-08 at 5.06.47 PM.png',\n",
       " 'freshapples\\\\rotated_by_45_Screen Shot 2018-06-08 at 5.06.54 PM.png',\n",
       " 'freshapples\\\\rotated_by_45_Screen Shot 2018-06-08 at 5.07.05 PM.png',\n",
       " 'freshapples\\\\rotated_by_45_Screen Shot 2018-06-08 at 5.07.18 PM.png',\n",
       " 'freshapples\\\\rotated_by_45_Screen Shot 2018-06-08 at 5.07.26 PM.png',\n",
       " 'freshapples\\\\rotated_by_45_Screen Shot 2018-06-08 at 5.07.32 PM.png',\n",
       " 'freshapples\\\\rotated_by_45_Screen Shot 2018-06-08 at 5.07.52 PM.png',\n",
       " 'freshapples\\\\rotated_by_45_Screen Shot 2018-06-08 at 5.08.05 PM.png',\n",
       " 'freshapples\\\\rotated_by_45_Screen Shot 2018-06-08 at 5.08.37 PM.png',\n",
       " 'freshapples\\\\rotated_by_45_Screen Shot 2018-06-08 at 5.08.46 PM.png',\n",
       " 'freshapples\\\\rotated_by_45_Screen Shot 2018-06-08 at 5.08.52 PM.png',\n",
       " 'freshapples\\\\rotated_by_45_Screen Shot 2018-06-08 at 5.08.58 PM.png',\n",
       " 'freshapples\\\\rotated_by_45_Screen Shot 2018-06-08 at 5.09.03 PM.png',\n",
       " 'freshapples\\\\rotated_by_45_Screen Shot 2018-06-08 at 5.09.10 PM.png',\n",
       " 'freshapples\\\\rotated_by_45_Screen Shot 2018-06-08 at 5.09.17 PM.png',\n",
       " 'freshapples\\\\rotated_by_45_Screen Shot 2018-06-08 at 5.09.31 PM.png',\n",
       " 'freshapples\\\\rotated_by_45_Screen Shot 2018-06-08 at 5.09.40 PM.png',\n",
       " 'freshapples\\\\rotated_by_45_Screen Shot 2018-06-08 at 5.09.47 PM.png',\n",
       " 'freshapples\\\\rotated_by_45_Screen Shot 2018-06-08 at 5.09.54 PM.png',\n",
       " 'freshapples\\\\rotated_by_45_Screen Shot 2018-06-08 at 5.10.03 PM.png',\n",
       " 'freshapples\\\\rotated_by_45_Screen Shot 2018-06-08 at 5.10.21 PM.png',\n",
       " 'freshapples\\\\rotated_by_45_Screen Shot 2018-06-08 at 5.10.29 PM.png',\n",
       " 'freshapples\\\\rotated_by_45_Screen Shot 2018-06-08 at 5.10.37 PM.png',\n",
       " 'freshapples\\\\rotated_by_45_Screen Shot 2018-06-08 at 5.10.43 PM.png',\n",
       " 'freshapples\\\\rotated_by_45_Screen Shot 2018-06-08 at 5.10.53 PM.png',\n",
       " 'freshapples\\\\rotated_by_45_Screen Shot 2018-06-08 at 5.11.02 PM.png',\n",
       " 'freshapples\\\\rotated_by_45_Screen Shot 2018-06-08 at 5.11.08 PM.png',\n",
       " 'freshapples\\\\rotated_by_45_Screen Shot 2018-06-08 at 5.11.16 PM.png',\n",
       " 'freshapples\\\\rotated_by_45_Screen Shot 2018-06-08 at 5.11.35 PM.png',\n",
       " 'freshapples\\\\rotated_by_45_Screen Shot 2018-06-08 at 5.11.52 PM.png',\n",
       " 'freshapples\\\\rotated_by_45_Screen Shot 2018-06-08 at 5.11.59 PM.png',\n",
       " 'freshapples\\\\rotated_by_45_Screen Shot 2018-06-08 at 5.12.14 PM.png',\n",
       " 'freshapples\\\\rotated_by_45_Screen Shot 2018-06-08 at 5.12.20 PM.png',\n",
       " 'freshapples\\\\rotated_by_45_Screen Shot 2018-06-08 at 5.12.29 PM.png',\n",
       " 'freshapples\\\\rotated_by_45_Screen Shot 2018-06-08 at 5.12.34 PM.png',\n",
       " 'freshapples\\\\rotated_by_45_Screen Shot 2018-06-08 at 5.12.41 PM.png',\n",
       " 'freshapples\\\\rotated_by_45_Screen Shot 2018-06-08 at 5.12.47 PM.png',\n",
       " 'freshapples\\\\rotated_by_45_Screen Shot 2018-06-08 at 5.12.56 PM.png',\n",
       " 'freshapples\\\\rotated_by_45_Screen Shot 2018-06-08 at 5.13.02 PM.png',\n",
       " 'freshapples\\\\rotated_by_45_Screen Shot 2018-06-08 at 5.13.10 PM.png',\n",
       " 'freshapples\\\\rotated_by_45_Screen Shot 2018-06-08 at 5.13.18 PM.png',\n",
       " 'freshapples\\\\rotated_by_45_Screen Shot 2018-06-08 at 5.13.25 PM.png',\n",
       " 'freshapples\\\\rotated_by_45_Screen Shot 2018-06-08 at 5.13.31 PM.png',\n",
       " 'freshapples\\\\rotated_by_45_Screen Shot 2018-06-08 at 5.13.40 PM.png',\n",
       " 'freshapples\\\\rotated_by_45_Screen Shot 2018-06-08 at 5.13.45 PM.png',\n",
       " 'freshapples\\\\rotated_by_45_Screen Shot 2018-06-08 at 5.13.54 PM.png',\n",
       " 'freshapples\\\\rotated_by_45_Screen Shot 2018-06-08 at 5.14.07 PM.png',\n",
       " 'freshapples\\\\rotated_by_45_Screen Shot 2018-06-08 at 5.14.20 PM.png',\n",
       " 'freshapples\\\\rotated_by_45_Screen Shot 2018-06-08 at 5.14.48 PM.png',\n",
       " 'freshapples\\\\rotated_by_45_Screen Shot 2018-06-08 at 5.14.56 PM.png',\n",
       " 'freshapples\\\\rotated_by_45_Screen Shot 2018-06-08 at 5.15.01 PM.png',\n",
       " 'freshapples\\\\rotated_by_45_Screen Shot 2018-06-08 at 5.15.09 PM.png',\n",
       " 'freshapples\\\\rotated_by_45_Screen Shot 2018-06-08 at 5.15.14 PM.png',\n",
       " 'freshapples\\\\rotated_by_45_Screen Shot 2018-06-08 at 5.15.28 PM.png',\n",
       " 'freshapples\\\\rotated_by_45_Screen Shot 2018-06-08 at 5.15.34 PM.png',\n",
       " 'freshapples\\\\rotated_by_45_Screen Shot 2018-06-08 at 5.15.39 PM.png',\n",
       " 'freshapples\\\\rotated_by_45_Screen Shot 2018-06-08 at 5.15.45 PM.png',\n",
       " 'freshapples\\\\rotated_by_45_Screen Shot 2018-06-08 at 5.15.52 PM.png',\n",
       " 'freshapples\\\\rotated_by_45_Screen Shot 2018-06-08 at 5.16.06 PM.png',\n",
       " 'freshapples\\\\rotated_by_45_Screen Shot 2018-06-08 at 5.16.16 PM.png',\n",
       " 'freshapples\\\\rotated_by_45_Screen Shot 2018-06-08 at 5.16.28 PM.png',\n",
       " 'freshapples\\\\rotated_by_45_Screen Shot 2018-06-08 at 5.16.33 PM.png',\n",
       " 'freshapples\\\\rotated_by_45_Screen Shot 2018-06-08 at 5.16.37 PM.png',\n",
       " 'freshapples\\\\rotated_by_45_Screen Shot 2018-06-08 at 5.16.44 PM.png',\n",
       " 'freshapples\\\\rotated_by_45_Screen Shot 2018-06-08 at 5.16.49 PM.png',\n",
       " 'freshapples\\\\rotated_by_45_Screen Shot 2018-06-08 at 5.16.57 PM.png',\n",
       " 'freshapples\\\\rotated_by_45_Screen Shot 2018-06-08 at 5.17.04 PM.png',\n",
       " 'freshapples\\\\rotated_by_45_Screen Shot 2018-06-08 at 5.17.22 PM.png',\n",
       " 'freshapples\\\\rotated_by_45_Screen Shot 2018-06-08 at 5.17.34 PM.png',\n",
       " 'freshapples\\\\rotated_by_45_Screen Shot 2018-06-08 at 5.17.42 PM.png',\n",
       " 'freshapples\\\\rotated_by_45_Screen Shot 2018-06-08 at 5.17.58 PM.png',\n",
       " 'freshapples\\\\rotated_by_45_Screen Shot 2018-06-08 at 5.18.12 PM.png',\n",
       " 'freshapples\\\\rotated_by_45_Screen Shot 2018-06-08 at 5.18.16 PM.png',\n",
       " 'freshapples\\\\rotated_by_45_Screen Shot 2018-06-08 at 5.18.51 PM.png',\n",
       " 'freshapples\\\\rotated_by_45_Screen Shot 2018-06-08 at 5.18.58 PM.png',\n",
       " 'freshapples\\\\rotated_by_45_Screen Shot 2018-06-08 at 5.19.15 PM.png',\n",
       " 'freshapples\\\\rotated_by_45_Screen Shot 2018-06-08 at 5.19.28 PM.png',\n",
       " 'freshapples\\\\rotated_by_45_Screen Shot 2018-06-08 at 5.19.35 PM.png',\n",
       " 'freshapples\\\\rotated_by_45_Screen Shot 2018-06-08 at 5.19.58 PM.png',\n",
       " 'freshapples\\\\rotated_by_45_Screen Shot 2018-06-08 at 5.20.08 PM.png',\n",
       " 'freshapples\\\\rotated_by_45_Screen Shot 2018-06-08 at 5.20.17 PM.png',\n",
       " 'freshapples\\\\rotated_by_45_Screen Shot 2018-06-08 at 5.20.42 PM.png',\n",
       " 'freshapples\\\\rotated_by_45_Screen Shot 2018-06-08 at 5.20.56 PM.png',\n",
       " 'freshapples\\\\rotated_by_45_Screen Shot 2018-06-08 at 5.21.06 PM.png',\n",
       " 'freshapples\\\\rotated_by_45_Screen Shot 2018-06-08 at 5.21.22 PM.png',\n",
       " 'freshapples\\\\rotated_by_45_Screen Shot 2018-06-08 at 5.21.31 PM.png',\n",
       " 'freshapples\\\\rotated_by_45_Screen Shot 2018-06-08 at 5.21.35 PM.png',\n",
       " 'freshapples\\\\rotated_by_45_Screen Shot 2018-06-08 at 5.21.40 PM.png',\n",
       " 'freshapples\\\\rotated_by_45_Screen Shot 2018-06-08 at 5.21.51 PM.png',\n",
       " 'freshapples\\\\rotated_by_45_Screen Shot 2018-06-08 at 5.21.56 PM.png',\n",
       " 'freshapples\\\\rotated_by_45_Screen Shot 2018-06-08 at 5.22.15 PM.png',\n",
       " 'freshapples\\\\rotated_by_45_Screen Shot 2018-06-08 at 5.22.27 PM.png',\n",
       " 'freshapples\\\\rotated_by_45_Screen Shot 2018-06-08 at 5.22.35 PM.png',\n",
       " 'freshapples\\\\rotated_by_45_Screen Shot 2018-06-08 at 5.22.48 PM.png',\n",
       " 'freshapples\\\\rotated_by_45_Screen Shot 2018-06-08 at 5.22.53 PM.png',\n",
       " 'freshapples\\\\rotated_by_45_Screen Shot 2018-06-08 at 5.22.58 PM.png',\n",
       " 'freshapples\\\\rotated_by_45_Screen Shot 2018-06-08 at 5.23.07 PM.png',\n",
       " 'freshapples\\\\rotated_by_45_Screen Shot 2018-06-08 at 5.23.14 PM.png',\n",
       " 'freshapples\\\\rotated_by_45_Screen Shot 2018-06-08 at 5.23.23 PM.png',\n",
       " 'freshapples\\\\rotated_by_45_Screen Shot 2018-06-08 at 5.23.26 PM.png',\n",
       " 'freshapples\\\\rotated_by_45_Screen Shot 2018-06-08 at 5.23.31 PM.png',\n",
       " 'freshapples\\\\rotated_by_45_Screen Shot 2018-06-08 at 5.23.51 PM.png',\n",
       " 'freshapples\\\\rotated_by_45_Screen Shot 2018-06-08 at 5.24.12 PM.png',\n",
       " 'freshapples\\\\rotated_by_45_Screen Shot 2018-06-08 at 5.24.19 PM.png',\n",
       " 'freshapples\\\\rotated_by_45_Screen Shot 2018-06-08 at 5.24.26 PM.png',\n",
       " 'freshapples\\\\rotated_by_45_Screen Shot 2018-06-08 at 5.25.02 PM.png',\n",
       " 'freshapples\\\\rotated_by_45_Screen Shot 2018-06-08 at 5.25.22 PM.png',\n",
       " 'freshapples\\\\rotated_by_45_Screen Shot 2018-06-08 at 5.25.28 PM.png',\n",
       " 'freshapples\\\\rotated_by_45_Screen Shot 2018-06-08 at 5.25.33 PM.png',\n",
       " 'freshapples\\\\rotated_by_45_Screen Shot 2018-06-08 at 5.25.37 PM.png',\n",
       " 'freshapples\\\\rotated_by_45_Screen Shot 2018-06-08 at 5.25.43 PM.png',\n",
       " 'freshapples\\\\rotated_by_45_Screen Shot 2018-06-08 at 5.25.49 PM.png',\n",
       " 'freshapples\\\\rotated_by_45_Screen Shot 2018-06-08 at 5.26.05 PM.png',\n",
       " 'freshapples\\\\rotated_by_45_Screen Shot 2018-06-08 at 5.26.13 PM.png',\n",
       " 'freshapples\\\\rotated_by_45_Screen Shot 2018-06-08 at 5.26.24 PM.png',\n",
       " 'freshapples\\\\rotated_by_45_Screen Shot 2018-06-08 at 5.26.29 PM.png',\n",
       " 'freshapples\\\\rotated_by_45_Screen Shot 2018-06-08 at 5.26.36 PM.png',\n",
       " 'freshapples\\\\rotated_by_45_Screen Shot 2018-06-08 at 5.26.47 PM.png',\n",
       " 'freshapples\\\\rotated_by_45_Screen Shot 2018-06-08 at 5.26.58 PM.png',\n",
       " 'freshapples\\\\rotated_by_45_Screen Shot 2018-06-08 at 5.27.06 PM.png',\n",
       " 'freshapples\\\\rotated_by_45_Screen Shot 2018-06-08 at 5.27.13 PM.png',\n",
       " 'freshapples\\\\rotated_by_45_Screen Shot 2018-06-08 at 5.27.19 PM.png',\n",
       " 'freshapples\\\\rotated_by_45_Screen Shot 2018-06-08 at 5.27.27 PM.png',\n",
       " 'freshapples\\\\rotated_by_45_Screen Shot 2018-06-08 at 5.27.34 PM.png',\n",
       " 'freshapples\\\\rotated_by_45_Screen Shot 2018-06-08 at 5.27.54 PM.png',\n",
       " 'freshapples\\\\rotated_by_45_Screen Shot 2018-06-08 at 5.28.10 PM.png',\n",
       " 'freshapples\\\\rotated_by_45_Screen Shot 2018-06-08 at 5.28.15 PM.png',\n",
       " 'freshapples\\\\rotated_by_45_Screen Shot 2018-06-08 at 5.28.24 PM.png',\n",
       " 'freshapples\\\\rotated_by_45_Screen Shot 2018-06-08 at 5.28.32 PM.png',\n",
       " 'freshapples\\\\rotated_by_45_Screen Shot 2018-06-08 at 5.28.38 PM.png',\n",
       " 'freshapples\\\\rotated_by_45_Screen Shot 2018-06-08 at 5.28.42 PM.png',\n",
       " 'freshapples\\\\rotated_by_45_Screen Shot 2018-06-08 at 5.28.48 PM.png',\n",
       " 'freshapples\\\\rotated_by_45_Screen Shot 2018-06-08 at 5.29.07 PM.png',\n",
       " 'freshapples\\\\rotated_by_45_Screen Shot 2018-06-08 at 5.29.13 PM.png',\n",
       " 'freshapples\\\\rotated_by_45_Screen Shot 2018-06-08 at 5.29.18 PM.png',\n",
       " 'freshapples\\\\rotated_by_45_Screen Shot 2018-06-08 at 5.29.31 PM.png',\n",
       " 'freshapples\\\\rotated_by_45_Screen Shot 2018-06-08 at 5.32.33 PM.png',\n",
       " 'freshapples\\\\rotated_by_45_Screen Shot 2018-06-08 at 5.32.38 PM.png',\n",
       " 'freshapples\\\\rotated_by_45_Screen Shot 2018-06-08 at 5.32.43 PM.png',\n",
       " 'freshapples\\\\rotated_by_45_Screen Shot 2018-06-08 at 5.32.50 PM.png',\n",
       " 'freshapples\\\\rotated_by_45_Screen Shot 2018-06-08 at 5.33.05 PM.png',\n",
       " 'freshapples\\\\rotated_by_45_Screen Shot 2018-06-08 at 5.33.11 PM.png',\n",
       " 'freshapples\\\\rotated_by_45_Screen Shot 2018-06-08 at 5.33.18 PM.png',\n",
       " 'freshapples\\\\rotated_by_45_Screen Shot 2018-06-08 at 5.33.27 PM.png',\n",
       " 'freshapples\\\\rotated_by_45_Screen Shot 2018-06-08 at 5.33.33 PM.png',\n",
       " 'freshapples\\\\rotated_by_45_Screen Shot 2018-06-08 at 5.33.47 PM.png',\n",
       " 'freshapples\\\\rotated_by_45_Screen Shot 2018-06-08 at 5.34.01 PM.png',\n",
       " 'freshapples\\\\rotated_by_45_Screen Shot 2018-06-08 at 5.34.07 PM.png',\n",
       " 'freshapples\\\\rotated_by_60_Screen Shot 2018-06-08 at 4.59.44 PM.png',\n",
       " 'freshapples\\\\rotated_by_60_Screen Shot 2018-06-08 at 4.59.49 PM.png',\n",
       " 'freshapples\\\\rotated_by_60_Screen Shot 2018-06-08 at 5.00.03 PM.png',\n",
       " 'freshapples\\\\rotated_by_60_Screen Shot 2018-06-08 at 5.00.18 PM.png',\n",
       " 'freshapples\\\\rotated_by_60_Screen Shot 2018-06-08 at 5.00.26 PM.png',\n",
       " 'freshapples\\\\rotated_by_60_Screen Shot 2018-06-08 at 5.00.35 PM.png',\n",
       " 'freshapples\\\\rotated_by_60_Screen Shot 2018-06-08 at 5.00.43 PM.png',\n",
       " 'freshapples\\\\rotated_by_60_Screen Shot 2018-06-08 at 5.00.50 PM.png',\n",
       " 'freshapples\\\\rotated_by_60_Screen Shot 2018-06-08 at 5.01.01 PM.png',\n",
       " 'freshapples\\\\rotated_by_60_Screen Shot 2018-06-08 at 5.01.08 PM.png',\n",
       " 'freshapples\\\\rotated_by_60_Screen Shot 2018-06-08 at 5.01.15 PM.png',\n",
       " 'freshapples\\\\rotated_by_60_Screen Shot 2018-06-08 at 5.01.29 PM.png',\n",
       " 'freshapples\\\\rotated_by_60_Screen Shot 2018-06-08 at 5.01.34 PM.png',\n",
       " 'freshapples\\\\rotated_by_60_Screen Shot 2018-06-08 at 5.01.41 PM.png',\n",
       " 'freshapples\\\\rotated_by_60_Screen Shot 2018-06-08 at 5.02.08 PM.png',\n",
       " 'freshapples\\\\rotated_by_60_Screen Shot 2018-06-08 at 5.02.24 PM.png',\n",
       " 'freshapples\\\\rotated_by_60_Screen Shot 2018-06-08 at 5.02.31 PM.png',\n",
       " 'freshapples\\\\rotated_by_60_Screen Shot 2018-06-08 at 5.02.38 PM.png',\n",
       " 'freshapples\\\\rotated_by_60_Screen Shot 2018-06-08 at 5.02.43 PM.png',\n",
       " 'freshapples\\\\rotated_by_60_Screen Shot 2018-06-08 at 5.03.05 PM.png',\n",
       " 'freshapples\\\\rotated_by_60_Screen Shot 2018-06-08 at 5.03.10 PM.png',\n",
       " 'freshapples\\\\rotated_by_60_Screen Shot 2018-06-08 at 5.03.26 PM.png',\n",
       " 'freshapples\\\\rotated_by_60_Screen Shot 2018-06-08 at 5.03.34 PM.png',\n",
       " 'freshapples\\\\rotated_by_60_Screen Shot 2018-06-08 at 5.03.40 PM.png',\n",
       " 'freshapples\\\\rotated_by_60_Screen Shot 2018-06-08 at 5.03.47 PM.png',\n",
       " 'freshapples\\\\rotated_by_60_Screen Shot 2018-06-08 at 5.03.59 PM.png',\n",
       " 'freshapples\\\\rotated_by_60_Screen Shot 2018-06-08 at 5.04.05 PM.png',\n",
       " 'freshapples\\\\rotated_by_60_Screen Shot 2018-06-08 at 5.04.11 PM.png',\n",
       " 'freshapples\\\\rotated_by_60_Screen Shot 2018-06-08 at 5.04.24 PM.png',\n",
       " 'freshapples\\\\rotated_by_60_Screen Shot 2018-06-08 at 5.04.31 PM.png',\n",
       " 'freshapples\\\\rotated_by_60_Screen Shot 2018-06-08 at 5.04.42 PM.png',\n",
       " 'freshapples\\\\rotated_by_60_Screen Shot 2018-06-08 at 5.04.48 PM.png',\n",
       " 'freshapples\\\\rotated_by_60_Screen Shot 2018-06-08 at 5.04.59 PM.png',\n",
       " 'freshapples\\\\rotated_by_60_Screen Shot 2018-06-08 at 5.05.06 PM.png',\n",
       " 'freshapples\\\\rotated_by_60_Screen Shot 2018-06-08 at 5.05.12 PM.png',\n",
       " 'freshapples\\\\rotated_by_60_Screen Shot 2018-06-08 at 5.05.27 PM.png',\n",
       " 'freshapples\\\\rotated_by_60_Screen Shot 2018-06-08 at 5.05.48 PM.png',\n",
       " 'freshapples\\\\rotated_by_60_Screen Shot 2018-06-08 at 5.06.19 PM.png',\n",
       " 'freshapples\\\\rotated_by_60_Screen Shot 2018-06-08 at 5.06.23 PM.png',\n",
       " 'freshapples\\\\rotated_by_60_Screen Shot 2018-06-08 at 5.06.28 PM.png',\n",
       " 'freshapples\\\\rotated_by_60_Screen Shot 2018-06-08 at 5.06.33 PM.png',\n",
       " 'freshapples\\\\rotated_by_60_Screen Shot 2018-06-08 at 5.06.40 PM.png',\n",
       " 'freshapples\\\\rotated_by_60_Screen Shot 2018-06-08 at 5.06.47 PM.png',\n",
       " 'freshapples\\\\rotated_by_60_Screen Shot 2018-06-08 at 5.07.05 PM.png',\n",
       " 'freshapples\\\\rotated_by_60_Screen Shot 2018-06-08 at 5.07.18 PM.png',\n",
       " 'freshapples\\\\rotated_by_60_Screen Shot 2018-06-08 at 5.07.26 PM.png',\n",
       " 'freshapples\\\\rotated_by_60_Screen Shot 2018-06-08 at 5.07.52 PM.png',\n",
       " 'freshapples\\\\rotated_by_60_Screen Shot 2018-06-08 at 5.08.37 PM.png',\n",
       " 'freshapples\\\\rotated_by_60_Screen Shot 2018-06-08 at 5.08.46 PM.png',\n",
       " 'freshapples\\\\rotated_by_60_Screen Shot 2018-06-08 at 5.08.52 PM.png',\n",
       " 'freshapples\\\\rotated_by_60_Screen Shot 2018-06-08 at 5.09.03 PM.png',\n",
       " 'freshapples\\\\rotated_by_60_Screen Shot 2018-06-08 at 5.09.10 PM.png',\n",
       " 'freshapples\\\\rotated_by_60_Screen Shot 2018-06-08 at 5.09.25 PM.png',\n",
       " 'freshapples\\\\rotated_by_60_Screen Shot 2018-06-08 at 5.09.31 PM.png',\n",
       " 'freshapples\\\\rotated_by_60_Screen Shot 2018-06-08 at 5.09.40 PM.png',\n",
       " 'freshapples\\\\rotated_by_60_Screen Shot 2018-06-08 at 5.09.47 PM.png',\n",
       " 'freshapples\\\\rotated_by_60_Screen Shot 2018-06-08 at 5.09.54 PM.png',\n",
       " 'freshapples\\\\rotated_by_60_Screen Shot 2018-06-08 at 5.10.03 PM.png',\n",
       " 'freshapples\\\\rotated_by_60_Screen Shot 2018-06-08 at 5.10.11 PM.png',\n",
       " 'freshapples\\\\rotated_by_60_Screen Shot 2018-06-08 at 5.10.21 PM.png',\n",
       " 'freshapples\\\\rotated_by_60_Screen Shot 2018-06-08 at 5.10.29 PM.png',\n",
       " 'freshapples\\\\rotated_by_60_Screen Shot 2018-06-08 at 5.10.43 PM.png',\n",
       " 'freshapples\\\\rotated_by_60_Screen Shot 2018-06-08 at 5.10.53 PM.png',\n",
       " 'freshapples\\\\rotated_by_60_Screen Shot 2018-06-08 at 5.11.08 PM.png',\n",
       " 'freshapples\\\\rotated_by_60_Screen Shot 2018-06-08 at 5.11.16 PM.png',\n",
       " 'freshapples\\\\rotated_by_60_Screen Shot 2018-06-08 at 5.11.24 PM.png',\n",
       " 'freshapples\\\\rotated_by_60_Screen Shot 2018-06-08 at 5.11.35 PM.png',\n",
       " 'freshapples\\\\rotated_by_60_Screen Shot 2018-06-08 at 5.11.41 PM.png',\n",
       " 'freshapples\\\\rotated_by_60_Screen Shot 2018-06-08 at 5.11.52 PM.png',\n",
       " 'freshapples\\\\rotated_by_60_Screen Shot 2018-06-08 at 5.11.59 PM.png',\n",
       " 'freshapples\\\\rotated_by_60_Screen Shot 2018-06-08 at 5.12.14 PM.png',\n",
       " 'freshapples\\\\rotated_by_60_Screen Shot 2018-06-08 at 5.12.20 PM.png',\n",
       " 'freshapples\\\\rotated_by_60_Screen Shot 2018-06-08 at 5.12.29 PM.png',\n",
       " 'freshapples\\\\rotated_by_60_Screen Shot 2018-06-08 at 5.12.34 PM.png',\n",
       " 'freshapples\\\\rotated_by_60_Screen Shot 2018-06-08 at 5.12.41 PM.png',\n",
       " 'freshapples\\\\rotated_by_60_Screen Shot 2018-06-08 at 5.12.47 PM.png',\n",
       " 'freshapples\\\\rotated_by_60_Screen Shot 2018-06-08 at 5.12.56 PM.png',\n",
       " 'freshapples\\\\rotated_by_60_Screen Shot 2018-06-08 at 5.13.02 PM.png',\n",
       " 'freshapples\\\\rotated_by_60_Screen Shot 2018-06-08 at 5.13.10 PM.png',\n",
       " 'freshapples\\\\rotated_by_60_Screen Shot 2018-06-08 at 5.13.18 PM.png',\n",
       " 'freshapples\\\\rotated_by_60_Screen Shot 2018-06-08 at 5.13.25 PM.png',\n",
       " 'freshapples\\\\rotated_by_60_Screen Shot 2018-06-08 at 5.13.31 PM.png',\n",
       " 'freshapples\\\\rotated_by_60_Screen Shot 2018-06-08 at 5.13.40 PM.png',\n",
       " 'freshapples\\\\rotated_by_60_Screen Shot 2018-06-08 at 5.13.45 PM.png',\n",
       " 'freshapples\\\\rotated_by_60_Screen Shot 2018-06-08 at 5.13.54 PM.png',\n",
       " 'freshapples\\\\rotated_by_60_Screen Shot 2018-06-08 at 5.14.01 PM.png',\n",
       " 'freshapples\\\\rotated_by_60_Screen Shot 2018-06-08 at 5.14.20 PM.png',\n",
       " 'freshapples\\\\rotated_by_60_Screen Shot 2018-06-08 at 5.14.48 PM.png',\n",
       " 'freshapples\\\\rotated_by_60_Screen Shot 2018-06-08 at 5.14.56 PM.png',\n",
       " 'freshapples\\\\rotated_by_60_Screen Shot 2018-06-08 at 5.15.01 PM.png',\n",
       " 'freshapples\\\\rotated_by_60_Screen Shot 2018-06-08 at 5.15.09 PM.png',\n",
       " 'freshapples\\\\rotated_by_60_Screen Shot 2018-06-08 at 5.15.14 PM.png',\n",
       " 'freshapples\\\\rotated_by_60_Screen Shot 2018-06-08 at 5.15.21 PM.png',\n",
       " 'freshapples\\\\rotated_by_60_Screen Shot 2018-06-08 at 5.15.34 PM.png',\n",
       " 'freshapples\\\\rotated_by_60_Screen Shot 2018-06-08 at 5.15.39 PM.png',\n",
       " 'freshapples\\\\rotated_by_60_Screen Shot 2018-06-08 at 5.15.45 PM.png',\n",
       " 'freshapples\\\\rotated_by_60_Screen Shot 2018-06-08 at 5.15.52 PM.png',\n",
       " 'freshapples\\\\rotated_by_60_Screen Shot 2018-06-08 at 5.16.28 PM.png',\n",
       " 'freshapples\\\\rotated_by_60_Screen Shot 2018-06-08 at 5.16.33 PM.png',\n",
       " 'freshapples\\\\rotated_by_60_Screen Shot 2018-06-08 at 5.16.37 PM.png',\n",
       " 'freshapples\\\\rotated_by_60_Screen Shot 2018-06-08 at 5.16.44 PM.png',\n",
       " 'freshapples\\\\rotated_by_60_Screen Shot 2018-06-08 at 5.16.49 PM.png',\n",
       " 'freshapples\\\\rotated_by_60_Screen Shot 2018-06-08 at 5.16.57 PM.png',\n",
       " 'freshapples\\\\rotated_by_60_Screen Shot 2018-06-08 at 5.17.04 PM.png',\n",
       " 'freshapples\\\\rotated_by_60_Screen Shot 2018-06-08 at 5.17.10 PM.png',\n",
       " 'freshapples\\\\rotated_by_60_Screen Shot 2018-06-08 at 5.17.22 PM.png',\n",
       " 'freshapples\\\\rotated_by_60_Screen Shot 2018-06-08 at 5.17.34 PM.png',\n",
       " 'freshapples\\\\rotated_by_60_Screen Shot 2018-06-08 at 5.17.42 PM.png',\n",
       " 'freshapples\\\\rotated_by_60_Screen Shot 2018-06-08 at 5.17.58 PM.png',\n",
       " 'freshapples\\\\rotated_by_60_Screen Shot 2018-06-08 at 5.18.12 PM.png',\n",
       " 'freshapples\\\\rotated_by_60_Screen Shot 2018-06-08 at 5.18.16 PM.png',\n",
       " 'freshapples\\\\rotated_by_60_Screen Shot 2018-06-08 at 5.18.26 PM.png',\n",
       " 'freshapples\\\\rotated_by_60_Screen Shot 2018-06-08 at 5.18.37 PM.png',\n",
       " 'freshapples\\\\rotated_by_60_Screen Shot 2018-06-08 at 5.18.42 PM.png',\n",
       " 'freshapples\\\\rotated_by_60_Screen Shot 2018-06-08 at 5.19.15 PM.png',\n",
       " 'freshapples\\\\rotated_by_60_Screen Shot 2018-06-08 at 5.19.28 PM.png',\n",
       " 'freshapples\\\\rotated_by_60_Screen Shot 2018-06-08 at 5.19.35 PM.png',\n",
       " 'freshapples\\\\rotated_by_60_Screen Shot 2018-06-08 at 5.19.47 PM.png',\n",
       " 'freshapples\\\\rotated_by_60_Screen Shot 2018-06-08 at 5.19.58 PM.png',\n",
       " 'freshapples\\\\rotated_by_60_Screen Shot 2018-06-08 at 5.20.08 PM.png',\n",
       " 'freshapples\\\\rotated_by_60_Screen Shot 2018-06-08 at 5.20.17 PM.png',\n",
       " 'freshapples\\\\rotated_by_60_Screen Shot 2018-06-08 at 5.20.26 PM.png',\n",
       " 'freshapples\\\\rotated_by_60_Screen Shot 2018-06-08 at 5.20.42 PM.png',\n",
       " 'freshapples\\\\rotated_by_60_Screen Shot 2018-06-08 at 5.20.56 PM.png',\n",
       " 'freshapples\\\\rotated_by_60_Screen Shot 2018-06-08 at 5.21.06 PM.png',\n",
       " 'freshapples\\\\rotated_by_60_Screen Shot 2018-06-08 at 5.21.31 PM.png',\n",
       " 'freshapples\\\\rotated_by_60_Screen Shot 2018-06-08 at 5.21.35 PM.png',\n",
       " 'freshapples\\\\rotated_by_60_Screen Shot 2018-06-08 at 5.21.40 PM.png',\n",
       " 'freshapples\\\\rotated_by_60_Screen Shot 2018-06-08 at 5.21.51 PM.png',\n",
       " 'freshapples\\\\rotated_by_60_Screen Shot 2018-06-08 at 5.22.15 PM.png',\n",
       " 'freshapples\\\\rotated_by_60_Screen Shot 2018-06-08 at 5.22.20 PM.png',\n",
       " 'freshapples\\\\rotated_by_60_Screen Shot 2018-06-08 at 5.22.27 PM.png',\n",
       " 'freshapples\\\\rotated_by_60_Screen Shot 2018-06-08 at 5.22.35 PM.png',\n",
       " 'freshapples\\\\rotated_by_60_Screen Shot 2018-06-08 at 5.22.48 PM.png',\n",
       " 'freshapples\\\\rotated_by_60_Screen Shot 2018-06-08 at 5.22.53 PM.png',\n",
       " 'freshapples\\\\rotated_by_60_Screen Shot 2018-06-08 at 5.22.58 PM.png',\n",
       " 'freshapples\\\\rotated_by_60_Screen Shot 2018-06-08 at 5.23.14 PM.png',\n",
       " 'freshapples\\\\rotated_by_60_Screen Shot 2018-06-08 at 5.23.23 PM.png',\n",
       " 'freshapples\\\\rotated_by_60_Screen Shot 2018-06-08 at 5.23.31 PM.png',\n",
       " 'freshapples\\\\rotated_by_60_Screen Shot 2018-06-08 at 5.23.51 PM.png',\n",
       " 'freshapples\\\\rotated_by_60_Screen Shot 2018-06-08 at 5.24.04 PM.png',\n",
       " 'freshapples\\\\rotated_by_60_Screen Shot 2018-06-08 at 5.24.12 PM.png',\n",
       " 'freshapples\\\\rotated_by_60_Screen Shot 2018-06-08 at 5.24.19 PM.png',\n",
       " 'freshapples\\\\rotated_by_60_Screen Shot 2018-06-08 at 5.24.26 PM.png',\n",
       " 'freshapples\\\\rotated_by_60_Screen Shot 2018-06-08 at 5.24.35 PM.png',\n",
       " 'freshapples\\\\rotated_by_60_Screen Shot 2018-06-08 at 5.25.02 PM.png',\n",
       " 'freshapples\\\\rotated_by_60_Screen Shot 2018-06-08 at 5.25.22 PM.png',\n",
       " 'freshapples\\\\rotated_by_60_Screen Shot 2018-06-08 at 5.25.28 PM.png',\n",
       " 'freshapples\\\\rotated_by_60_Screen Shot 2018-06-08 at 5.25.33 PM.png',\n",
       " 'freshapples\\\\rotated_by_60_Screen Shot 2018-06-08 at 5.25.37 PM.png',\n",
       " 'freshapples\\\\rotated_by_60_Screen Shot 2018-06-08 at 5.25.43 PM.png',\n",
       " 'freshapples\\\\rotated_by_60_Screen Shot 2018-06-08 at 5.25.49 PM.png',\n",
       " 'freshapples\\\\rotated_by_60_Screen Shot 2018-06-08 at 5.26.05 PM.png',\n",
       " 'freshapples\\\\rotated_by_60_Screen Shot 2018-06-08 at 5.26.13 PM.png',\n",
       " 'freshapples\\\\rotated_by_60_Screen Shot 2018-06-08 at 5.26.29 PM.png',\n",
       " 'freshapples\\\\rotated_by_60_Screen Shot 2018-06-08 at 5.26.36 PM.png',\n",
       " 'freshapples\\\\rotated_by_60_Screen Shot 2018-06-08 at 5.26.41 PM.png',\n",
       " 'freshapples\\\\rotated_by_60_Screen Shot 2018-06-08 at 5.26.47 PM.png',\n",
       " 'freshapples\\\\rotated_by_60_Screen Shot 2018-06-08 at 5.26.52 PM.png',\n",
       " 'freshapples\\\\rotated_by_60_Screen Shot 2018-06-08 at 5.26.58 PM.png',\n",
       " 'freshapples\\\\rotated_by_60_Screen Shot 2018-06-08 at 5.27.19 PM.png',\n",
       " 'freshapples\\\\rotated_by_60_Screen Shot 2018-06-08 at 5.27.27 PM.png',\n",
       " 'freshapples\\\\rotated_by_60_Screen Shot 2018-06-08 at 5.27.34 PM.png',\n",
       " 'freshapples\\\\rotated_by_60_Screen Shot 2018-06-08 at 5.27.54 PM.png',\n",
       " 'freshapples\\\\rotated_by_60_Screen Shot 2018-06-08 at 5.28.04 PM.png',\n",
       " 'freshapples\\\\rotated_by_60_Screen Shot 2018-06-08 at 5.28.10 PM.png',\n",
       " 'freshapples\\\\rotated_by_60_Screen Shot 2018-06-08 at 5.28.15 PM.png',\n",
       " 'freshapples\\\\rotated_by_60_Screen Shot 2018-06-08 at 5.28.24 PM.png',\n",
       " 'freshapples\\\\rotated_by_60_Screen Shot 2018-06-08 at 5.28.38 PM.png',\n",
       " 'freshapples\\\\rotated_by_60_Screen Shot 2018-06-08 at 5.28.42 PM.png',\n",
       " 'freshapples\\\\rotated_by_60_Screen Shot 2018-06-08 at 5.28.48 PM.png',\n",
       " 'freshapples\\\\rotated_by_60_Screen Shot 2018-06-08 at 5.28.59 PM.png',\n",
       " 'freshapples\\\\rotated_by_60_Screen Shot 2018-06-08 at 5.29.07 PM.png',\n",
       " 'freshapples\\\\rotated_by_60_Screen Shot 2018-06-08 at 5.29.13 PM.png',\n",
       " 'freshapples\\\\rotated_by_60_Screen Shot 2018-06-08 at 5.29.24 PM.png',\n",
       " 'freshapples\\\\rotated_by_60_Screen Shot 2018-06-08 at 5.29.31 PM.png',\n",
       " 'freshapples\\\\rotated_by_60_Screen Shot 2018-06-08 at 5.32.38 PM.png',\n",
       " 'freshapples\\\\rotated_by_60_Screen Shot 2018-06-08 at 5.32.50 PM.png',\n",
       " 'freshapples\\\\rotated_by_60_Screen Shot 2018-06-08 at 5.33.05 PM.png',\n",
       " 'freshapples\\\\rotated_by_60_Screen Shot 2018-06-08 at 5.33.11 PM.png',\n",
       " 'freshapples\\\\rotated_by_60_Screen Shot 2018-06-08 at 5.33.18 PM.png',\n",
       " 'freshapples\\\\rotated_by_60_Screen Shot 2018-06-08 at 5.33.27 PM.png',\n",
       " 'freshapples\\\\rotated_by_60_Screen Shot 2018-06-08 at 5.33.55 PM.png',\n",
       " 'freshapples\\\\rotated_by_60_Screen Shot 2018-06-08 at 5.34.01 PM.png',\n",
       " 'freshapples\\\\rotated_by_60_Screen Shot 2018-06-08 at 5.34.14 PM.png',\n",
       " 'freshapples\\\\rotated_by_60_Screen Shot 2018-06-08 at 5.34.21 PM.png',\n",
       " 'freshapples\\\\rotated_by_75_Screen Shot 2018-06-08 at 4.59.44 PM.png',\n",
       " 'freshapples\\\\rotated_by_75_Screen Shot 2018-06-08 at 4.59.49 PM.png',\n",
       " 'freshapples\\\\rotated_by_75_Screen Shot 2018-06-08 at 4.59.57 PM.png',\n",
       " 'freshapples\\\\rotated_by_75_Screen Shot 2018-06-08 at 5.00.03 PM.png',\n",
       " 'freshapples\\\\rotated_by_75_Screen Shot 2018-06-08 at 5.00.12 PM.png',\n",
       " 'freshapples\\\\rotated_by_75_Screen Shot 2018-06-08 at 5.00.18 PM.png',\n",
       " 'freshapples\\\\rotated_by_75_Screen Shot 2018-06-08 at 5.00.43 PM.png',\n",
       " 'freshapples\\\\rotated_by_75_Screen Shot 2018-06-08 at 5.01.08 PM.png',\n",
       " 'freshapples\\\\rotated_by_75_Screen Shot 2018-06-08 at 5.01.15 PM.png',\n",
       " 'freshapples\\\\rotated_by_75_Screen Shot 2018-06-08 at 5.01.22 PM.png',\n",
       " 'freshapples\\\\rotated_by_75_Screen Shot 2018-06-08 at 5.01.29 PM.png',\n",
       " 'freshapples\\\\rotated_by_75_Screen Shot 2018-06-08 at 5.01.34 PM.png',\n",
       " 'freshapples\\\\rotated_by_75_Screen Shot 2018-06-08 at 5.01.41 PM.png',\n",
       " 'freshapples\\\\rotated_by_75_Screen Shot 2018-06-08 at 5.02.08 PM.png',\n",
       " 'freshapples\\\\rotated_by_75_Screen Shot 2018-06-08 at 5.02.24 PM.png',\n",
       " 'freshapples\\\\rotated_by_75_Screen Shot 2018-06-08 at 5.02.38 PM.png',\n",
       " 'freshapples\\\\rotated_by_75_Screen Shot 2018-06-08 at 5.02.43 PM.png',\n",
       " 'freshapples\\\\rotated_by_75_Screen Shot 2018-06-08 at 5.02.48 PM.png',\n",
       " 'freshapples\\\\rotated_by_75_Screen Shot 2018-06-08 at 5.02.54 PM.png',\n",
       " 'freshapples\\\\rotated_by_75_Screen Shot 2018-06-08 at 5.03.05 PM.png',\n",
       " 'freshapples\\\\rotated_by_75_Screen Shot 2018-06-08 at 5.03.10 PM.png',\n",
       " 'freshapples\\\\rotated_by_75_Screen Shot 2018-06-08 at 5.03.17 PM.png',\n",
       " 'freshapples\\\\rotated_by_75_Screen Shot 2018-06-08 at 5.03.26 PM.png',\n",
       " 'freshapples\\\\rotated_by_75_Screen Shot 2018-06-08 at 5.03.34 PM.png',\n",
       " 'freshapples\\\\rotated_by_75_Screen Shot 2018-06-08 at 5.03.40 PM.png',\n",
       " 'freshapples\\\\rotated_by_75_Screen Shot 2018-06-08 at 5.03.47 PM.png',\n",
       " 'freshapples\\\\rotated_by_75_Screen Shot 2018-06-08 at 5.03.59 PM.png',\n",
       " 'freshapples\\\\rotated_by_75_Screen Shot 2018-06-08 at 5.04.05 PM.png',\n",
       " 'freshapples\\\\rotated_by_75_Screen Shot 2018-06-08 at 5.04.16 PM.png',\n",
       " 'freshapples\\\\rotated_by_75_Screen Shot 2018-06-08 at 5.04.24 PM.png',\n",
       " 'freshapples\\\\rotated_by_75_Screen Shot 2018-06-08 at 5.04.31 PM.png',\n",
       " 'freshapples\\\\rotated_by_75_Screen Shot 2018-06-08 at 5.04.48 PM.png',\n",
       " 'freshapples\\\\rotated_by_75_Screen Shot 2018-06-08 at 5.04.59 PM.png',\n",
       " 'freshapples\\\\rotated_by_75_Screen Shot 2018-06-08 at 5.05.06 PM.png',\n",
       " 'freshapples\\\\rotated_by_75_Screen Shot 2018-06-08 at 5.05.18 PM.png',\n",
       " 'freshapples\\\\rotated_by_75_Screen Shot 2018-06-08 at 5.05.27 PM.png',\n",
       " 'freshapples\\\\rotated_by_75_Screen Shot 2018-06-08 at 5.05.41 PM.png',\n",
       " 'freshapples\\\\rotated_by_75_Screen Shot 2018-06-08 at 5.05.48 PM.png',\n",
       " 'freshapples\\\\rotated_by_75_Screen Shot 2018-06-08 at 5.06.10 PM.png',\n",
       " 'freshapples\\\\rotated_by_75_Screen Shot 2018-06-08 at 5.06.19 PM.png',\n",
       " 'freshapples\\\\rotated_by_75_Screen Shot 2018-06-08 at 5.06.33 PM.png',\n",
       " 'freshapples\\\\rotated_by_75_Screen Shot 2018-06-08 at 5.06.47 PM.png',\n",
       " 'freshapples\\\\rotated_by_75_Screen Shot 2018-06-08 at 5.07.05 PM.png',\n",
       " 'freshapples\\\\rotated_by_75_Screen Shot 2018-06-08 at 5.07.18 PM.png',\n",
       " 'freshapples\\\\rotated_by_75_Screen Shot 2018-06-08 at 5.07.26 PM.png',\n",
       " 'freshapples\\\\rotated_by_75_Screen Shot 2018-06-08 at 5.07.32 PM.png',\n",
       " 'freshapples\\\\rotated_by_75_Screen Shot 2018-06-08 at 5.07.52 PM.png',\n",
       " 'freshapples\\\\rotated_by_75_Screen Shot 2018-06-08 at 5.08.05 PM.png',\n",
       " 'freshapples\\\\rotated_by_75_Screen Shot 2018-06-08 at 5.08.46 PM.png',\n",
       " 'freshapples\\\\rotated_by_75_Screen Shot 2018-06-08 at 5.08.52 PM.png',\n",
       " 'freshapples\\\\rotated_by_75_Screen Shot 2018-06-08 at 5.08.58 PM.png',\n",
       " 'freshapples\\\\rotated_by_75_Screen Shot 2018-06-08 at 5.09.03 PM.png',\n",
       " 'freshapples\\\\rotated_by_75_Screen Shot 2018-06-08 at 5.09.17 PM.png',\n",
       " 'freshapples\\\\rotated_by_75_Screen Shot 2018-06-08 at 5.09.31 PM.png',\n",
       " 'freshapples\\\\rotated_by_75_Screen Shot 2018-06-08 at 5.09.47 PM.png',\n",
       " 'freshapples\\\\rotated_by_75_Screen Shot 2018-06-08 at 5.09.54 PM.png',\n",
       " 'freshapples\\\\rotated_by_75_Screen Shot 2018-06-08 at 5.10.03 PM.png',\n",
       " 'freshapples\\\\rotated_by_75_Screen Shot 2018-06-08 at 5.10.11 PM.png',\n",
       " 'freshapples\\\\rotated_by_75_Screen Shot 2018-06-08 at 5.10.21 PM.png',\n",
       " 'freshapples\\\\rotated_by_75_Screen Shot 2018-06-08 at 5.10.29 PM.png',\n",
       " 'freshapples\\\\rotated_by_75_Screen Shot 2018-06-08 at 5.10.37 PM.png',\n",
       " 'freshapples\\\\rotated_by_75_Screen Shot 2018-06-08 at 5.10.43 PM.png',\n",
       " 'freshapples\\\\rotated_by_75_Screen Shot 2018-06-08 at 5.10.53 PM.png',\n",
       " 'freshapples\\\\rotated_by_75_Screen Shot 2018-06-08 at 5.11.02 PM.png',\n",
       " 'freshapples\\\\rotated_by_75_Screen Shot 2018-06-08 at 5.11.08 PM.png',\n",
       " 'freshapples\\\\rotated_by_75_Screen Shot 2018-06-08 at 5.11.16 PM.png',\n",
       " 'freshapples\\\\rotated_by_75_Screen Shot 2018-06-08 at 5.11.24 PM.png',\n",
       " 'freshapples\\\\rotated_by_75_Screen Shot 2018-06-08 at 5.11.35 PM.png',\n",
       " 'freshapples\\\\rotated_by_75_Screen Shot 2018-06-08 at 5.11.41 PM.png',\n",
       " 'freshapples\\\\rotated_by_75_Screen Shot 2018-06-08 at 5.11.52 PM.png',\n",
       " 'freshapples\\\\rotated_by_75_Screen Shot 2018-06-08 at 5.11.59 PM.png',\n",
       " 'freshapples\\\\rotated_by_75_Screen Shot 2018-06-08 at 5.12.14 PM.png',\n",
       " 'freshapples\\\\rotated_by_75_Screen Shot 2018-06-08 at 5.12.20 PM.png',\n",
       " 'freshapples\\\\rotated_by_75_Screen Shot 2018-06-08 at 5.12.29 PM.png',\n",
       " 'freshapples\\\\rotated_by_75_Screen Shot 2018-06-08 at 5.12.34 PM.png',\n",
       " 'freshapples\\\\rotated_by_75_Screen Shot 2018-06-08 at 5.12.41 PM.png',\n",
       " 'freshapples\\\\rotated_by_75_Screen Shot 2018-06-08 at 5.12.47 PM.png',\n",
       " 'freshapples\\\\rotated_by_75_Screen Shot 2018-06-08 at 5.13.02 PM.png',\n",
       " 'freshapples\\\\rotated_by_75_Screen Shot 2018-06-08 at 5.13.10 PM.png',\n",
       " 'freshapples\\\\rotated_by_75_Screen Shot 2018-06-08 at 5.13.18 PM.png',\n",
       " 'freshapples\\\\rotated_by_75_Screen Shot 2018-06-08 at 5.13.25 PM.png',\n",
       " 'freshapples\\\\rotated_by_75_Screen Shot 2018-06-08 at 5.13.31 PM.png',\n",
       " 'freshapples\\\\rotated_by_75_Screen Shot 2018-06-08 at 5.13.40 PM.png',\n",
       " 'freshapples\\\\rotated_by_75_Screen Shot 2018-06-08 at 5.13.45 PM.png',\n",
       " 'freshapples\\\\rotated_by_75_Screen Shot 2018-06-08 at 5.14.01 PM.png',\n",
       " 'freshapples\\\\rotated_by_75_Screen Shot 2018-06-08 at 5.14.07 PM.png',\n",
       " 'freshapples\\\\rotated_by_75_Screen Shot 2018-06-08 at 5.14.20 PM.png',\n",
       " 'freshapples\\\\rotated_by_75_Screen Shot 2018-06-08 at 5.14.56 PM.png',\n",
       " 'freshapples\\\\rotated_by_75_Screen Shot 2018-06-08 at 5.15.09 PM.png',\n",
       " 'freshapples\\\\rotated_by_75_Screen Shot 2018-06-08 at 5.15.21 PM.png',\n",
       " 'freshapples\\\\rotated_by_75_Screen Shot 2018-06-08 at 5.15.28 PM.png',\n",
       " 'freshapples\\\\rotated_by_75_Screen Shot 2018-06-08 at 5.15.34 PM.png',\n",
       " 'freshapples\\\\rotated_by_75_Screen Shot 2018-06-08 at 5.15.39 PM.png',\n",
       " 'freshapples\\\\rotated_by_75_Screen Shot 2018-06-08 at 5.15.45 PM.png',\n",
       " 'freshapples\\\\rotated_by_75_Screen Shot 2018-06-08 at 5.15.52 PM.png',\n",
       " 'freshapples\\\\rotated_by_75_Screen Shot 2018-06-08 at 5.16.06 PM.png',\n",
       " 'freshapples\\\\rotated_by_75_Screen Shot 2018-06-08 at 5.16.16 PM.png',\n",
       " 'freshapples\\\\rotated_by_75_Screen Shot 2018-06-08 at 5.16.28 PM.png',\n",
       " 'freshapples\\\\rotated_by_75_Screen Shot 2018-06-08 at 5.16.33 PM.png',\n",
       " 'freshapples\\\\rotated_by_75_Screen Shot 2018-06-08 at 5.16.44 PM.png',\n",
       " 'freshapples\\\\rotated_by_75_Screen Shot 2018-06-08 at 5.16.57 PM.png',\n",
       " 'freshapples\\\\rotated_by_75_Screen Shot 2018-06-08 at 5.17.04 PM.png',\n",
       " 'freshapples\\\\rotated_by_75_Screen Shot 2018-06-08 at 5.17.10 PM.png',\n",
       " 'freshapples\\\\rotated_by_75_Screen Shot 2018-06-08 at 5.17.34 PM.png',\n",
       " 'freshapples\\\\rotated_by_75_Screen Shot 2018-06-08 at 5.17.42 PM.png',\n",
       " 'freshapples\\\\rotated_by_75_Screen Shot 2018-06-08 at 5.17.58 PM.png',\n",
       " 'freshapples\\\\rotated_by_75_Screen Shot 2018-06-08 at 5.18.12 PM.png',\n",
       " 'freshapples\\\\rotated_by_75_Screen Shot 2018-06-08 at 5.18.16 PM.png',\n",
       " 'freshapples\\\\rotated_by_75_Screen Shot 2018-06-08 at 5.18.26 PM.png',\n",
       " 'freshapples\\\\rotated_by_75_Screen Shot 2018-06-08 at 5.18.42 PM.png',\n",
       " 'freshapples\\\\rotated_by_75_Screen Shot 2018-06-08 at 5.18.51 PM.png',\n",
       " 'freshapples\\\\rotated_by_75_Screen Shot 2018-06-08 at 5.18.58 PM.png',\n",
       " 'freshapples\\\\rotated_by_75_Screen Shot 2018-06-08 at 5.19.28 PM.png',\n",
       " 'freshapples\\\\rotated_by_75_Screen Shot 2018-06-08 at 5.19.47 PM.png',\n",
       " 'freshapples\\\\rotated_by_75_Screen Shot 2018-06-08 at 5.19.58 PM.png',\n",
       " 'freshapples\\\\rotated_by_75_Screen Shot 2018-06-08 at 5.20.17 PM.png',\n",
       " 'freshapples\\\\rotated_by_75_Screen Shot 2018-06-08 at 5.20.26 PM.png',\n",
       " 'freshapples\\\\rotated_by_75_Screen Shot 2018-06-08 at 5.20.32 PM.png',\n",
       " 'freshapples\\\\rotated_by_75_Screen Shot 2018-06-08 at 5.20.51 PM.png',\n",
       " 'freshapples\\\\rotated_by_75_Screen Shot 2018-06-08 at 5.21.22 PM.png',\n",
       " 'freshapples\\\\rotated_by_75_Screen Shot 2018-06-08 at 5.21.31 PM.png',\n",
       " 'freshapples\\\\rotated_by_75_Screen Shot 2018-06-08 at 5.21.35 PM.png',\n",
       " 'freshapples\\\\rotated_by_75_Screen Shot 2018-06-08 at 5.21.44 PM.png',\n",
       " 'freshapples\\\\rotated_by_75_Screen Shot 2018-06-08 at 5.21.51 PM.png',\n",
       " 'freshapples\\\\rotated_by_75_Screen Shot 2018-06-08 at 5.21.56 PM.png',\n",
       " 'freshapples\\\\rotated_by_75_Screen Shot 2018-06-08 at 5.22.15 PM.png',\n",
       " 'freshapples\\\\rotated_by_75_Screen Shot 2018-06-08 at 5.22.20 PM.png',\n",
       " 'freshapples\\\\rotated_by_75_Screen Shot 2018-06-08 at 5.22.35 PM.png',\n",
       " 'freshapples\\\\rotated_by_75_Screen Shot 2018-06-08 at 5.22.48 PM.png',\n",
       " 'freshapples\\\\rotated_by_75_Screen Shot 2018-06-08 at 5.22.53 PM.png',\n",
       " 'freshapples\\\\rotated_by_75_Screen Shot 2018-06-08 at 5.22.58 PM.png',\n",
       " 'freshapples\\\\rotated_by_75_Screen Shot 2018-06-08 at 5.23.07 PM.png',\n",
       " 'freshapples\\\\rotated_by_75_Screen Shot 2018-06-08 at 5.23.14 PM.png',\n",
       " 'freshapples\\\\rotated_by_75_Screen Shot 2018-06-08 at 5.23.26 PM.png',\n",
       " 'freshapples\\\\rotated_by_75_Screen Shot 2018-06-08 at 5.23.31 PM.png',\n",
       " 'freshapples\\\\rotated_by_75_Screen Shot 2018-06-08 at 5.23.51 PM.png',\n",
       " 'freshapples\\\\rotated_by_75_Screen Shot 2018-06-08 at 5.24.04 PM.png',\n",
       " 'freshapples\\\\rotated_by_75_Screen Shot 2018-06-08 at 5.24.12 PM.png',\n",
       " 'freshapples\\\\rotated_by_75_Screen Shot 2018-06-08 at 5.24.19 PM.png',\n",
       " 'freshapples\\\\rotated_by_75_Screen Shot 2018-06-08 at 5.24.26 PM.png',\n",
       " 'freshapples\\\\rotated_by_75_Screen Shot 2018-06-08 at 5.24.35 PM.png',\n",
       " 'freshapples\\\\rotated_by_75_Screen Shot 2018-06-08 at 5.25.02 PM.png',\n",
       " 'freshapples\\\\rotated_by_75_Screen Shot 2018-06-08 at 5.25.22 PM.png',\n",
       " 'freshapples\\\\rotated_by_75_Screen Shot 2018-06-08 at 5.25.28 PM.png',\n",
       " 'freshapples\\\\rotated_by_75_Screen Shot 2018-06-08 at 5.25.33 PM.png',\n",
       " 'freshapples\\\\rotated_by_75_Screen Shot 2018-06-08 at 5.25.37 PM.png',\n",
       " 'freshapples\\\\rotated_by_75_Screen Shot 2018-06-08 at 5.25.49 PM.png',\n",
       " 'freshapples\\\\rotated_by_75_Screen Shot 2018-06-08 at 5.26.13 PM.png',\n",
       " 'freshapples\\\\rotated_by_75_Screen Shot 2018-06-08 at 5.26.19 PM.png',\n",
       " 'freshapples\\\\rotated_by_75_Screen Shot 2018-06-08 at 5.26.24 PM.png',\n",
       " 'freshapples\\\\rotated_by_75_Screen Shot 2018-06-08 at 5.26.29 PM.png',\n",
       " 'freshapples\\\\rotated_by_75_Screen Shot 2018-06-08 at 5.26.36 PM.png',\n",
       " 'freshapples\\\\rotated_by_75_Screen Shot 2018-06-08 at 5.26.41 PM.png',\n",
       " 'freshapples\\\\rotated_by_75_Screen Shot 2018-06-08 at 5.26.52 PM.png',\n",
       " 'freshapples\\\\rotated_by_75_Screen Shot 2018-06-08 at 5.26.58 PM.png',\n",
       " 'freshapples\\\\rotated_by_75_Screen Shot 2018-06-08 at 5.27.06 PM.png',\n",
       " 'freshapples\\\\rotated_by_75_Screen Shot 2018-06-08 at 5.27.13 PM.png',\n",
       " 'freshapples\\\\rotated_by_75_Screen Shot 2018-06-08 at 5.27.19 PM.png',\n",
       " 'freshapples\\\\rotated_by_75_Screen Shot 2018-06-08 at 5.27.27 PM.png',\n",
       " 'freshapples\\\\rotated_by_75_Screen Shot 2018-06-08 at 5.27.34 PM.png',\n",
       " 'freshapples\\\\rotated_by_75_Screen Shot 2018-06-08 at 5.27.49 PM.png',\n",
       " 'freshapples\\\\rotated_by_75_Screen Shot 2018-06-08 at 5.27.54 PM.png',\n",
       " 'freshapples\\\\rotated_by_75_Screen Shot 2018-06-08 at 5.28.04 PM.png',\n",
       " 'freshapples\\\\rotated_by_75_Screen Shot 2018-06-08 at 5.28.15 PM.png',\n",
       " 'freshapples\\\\rotated_by_75_Screen Shot 2018-06-08 at 5.28.24 PM.png',\n",
       " 'freshapples\\\\rotated_by_75_Screen Shot 2018-06-08 at 5.28.32 PM.png',\n",
       " 'freshapples\\\\rotated_by_75_Screen Shot 2018-06-08 at 5.28.38 PM.png',\n",
       " 'freshapples\\\\rotated_by_75_Screen Shot 2018-06-08 at 5.28.42 PM.png',\n",
       " 'freshapples\\\\rotated_by_75_Screen Shot 2018-06-08 at 5.28.48 PM.png',\n",
       " 'freshapples\\\\rotated_by_75_Screen Shot 2018-06-08 at 5.29.07 PM.png',\n",
       " 'freshapples\\\\rotated_by_75_Screen Shot 2018-06-08 at 5.29.13 PM.png',\n",
       " 'freshapples\\\\rotated_by_75_Screen Shot 2018-06-08 at 5.29.18 PM.png',\n",
       " 'freshapples\\\\rotated_by_75_Screen Shot 2018-06-08 at 5.29.31 PM.png',\n",
       " 'freshapples\\\\rotated_by_75_Screen Shot 2018-06-08 at 5.32.33 PM.png',\n",
       " 'freshapples\\\\rotated_by_75_Screen Shot 2018-06-08 at 5.32.38 PM.png',\n",
       " 'freshapples\\\\rotated_by_75_Screen Shot 2018-06-08 at 5.32.43 PM.png',\n",
       " 'freshapples\\\\rotated_by_75_Screen Shot 2018-06-08 at 5.33.11 PM.png',\n",
       " 'freshapples\\\\rotated_by_75_Screen Shot 2018-06-08 at 5.33.18 PM.png',\n",
       " 'freshapples\\\\rotated_by_75_Screen Shot 2018-06-08 at 5.33.27 PM.png',\n",
       " 'freshapples\\\\rotated_by_75_Screen Shot 2018-06-08 at 5.33.33 PM.png',\n",
       " 'freshapples\\\\rotated_by_75_Screen Shot 2018-06-08 at 5.33.47 PM.png',\n",
       " 'freshapples\\\\rotated_by_75_Screen Shot 2018-06-08 at 5.33.55 PM.png',\n",
       " 'freshapples\\\\rotated_by_75_Screen Shot 2018-06-08 at 5.34.01 PM.png',\n",
       " 'freshapples\\\\rotated_by_75_Screen Shot 2018-06-08 at 5.34.07 PM.png',\n",
       " 'freshapples\\\\rotated_by_75_Screen Shot 2018-06-08 at 5.34.14 PM.png',\n",
       " 'freshapples\\\\rotated_by_75_Screen Shot 2018-06-08 at 5.34.21 PM.png',\n",
       " 'freshapples\\\\saltandpepper_Screen Shot 2018-06-08 at 4.59.36 PM.png',\n",
       " 'freshapples\\\\saltandpepper_Screen Shot 2018-06-08 at 4.59.44 PM.png',\n",
       " 'freshapples\\\\saltandpepper_Screen Shot 2018-06-08 at 4.59.49 PM.png',\n",
       " 'freshapples\\\\saltandpepper_Screen Shot 2018-06-08 at 4.59.57 PM.png',\n",
       " 'freshapples\\\\saltandpepper_Screen Shot 2018-06-08 at 5.00.03 PM.png',\n",
       " 'freshapples\\\\saltandpepper_Screen Shot 2018-06-08 at 5.00.18 PM.png',\n",
       " 'freshapples\\\\saltandpepper_Screen Shot 2018-06-08 at 5.00.26 PM.png',\n",
       " 'freshapples\\\\saltandpepper_Screen Shot 2018-06-08 at 5.00.35 PM.png',\n",
       " 'freshapples\\\\saltandpepper_Screen Shot 2018-06-08 at 5.01.01 PM.png',\n",
       " 'freshapples\\\\saltandpepper_Screen Shot 2018-06-08 at 5.01.08 PM.png',\n",
       " 'freshapples\\\\saltandpepper_Screen Shot 2018-06-08 at 5.01.15 PM.png',\n",
       " 'freshapples\\\\saltandpepper_Screen Shot 2018-06-08 at 5.01.22 PM.png',\n",
       " 'freshapples\\\\saltandpepper_Screen Shot 2018-06-08 at 5.01.29 PM.png',\n",
       " 'freshapples\\\\saltandpepper_Screen Shot 2018-06-08 at 5.01.41 PM.png',\n",
       " 'freshapples\\\\saltandpepper_Screen Shot 2018-06-08 at 5.02.08 PM.png',\n",
       " 'freshapples\\\\saltandpepper_Screen Shot 2018-06-08 at 5.02.24 PM.png',\n",
       " 'freshapples\\\\saltandpepper_Screen Shot 2018-06-08 at 5.02.31 PM.png',\n",
       " 'freshapples\\\\saltandpepper_Screen Shot 2018-06-08 at 5.02.43 PM.png',\n",
       " 'freshapples\\\\saltandpepper_Screen Shot 2018-06-08 at 5.02.48 PM.png',\n",
       " 'freshapples\\\\saltandpepper_Screen Shot 2018-06-08 at 5.02.54 PM.png',\n",
       " 'freshapples\\\\saltandpepper_Screen Shot 2018-06-08 at 5.03.05 PM.png',\n",
       " 'freshapples\\\\saltandpepper_Screen Shot 2018-06-08 at 5.03.10 PM.png',\n",
       " 'freshapples\\\\saltandpepper_Screen Shot 2018-06-08 at 5.03.17 PM.png',\n",
       " 'freshapples\\\\saltandpepper_Screen Shot 2018-06-08 at 5.03.26 PM.png',\n",
       " 'freshapples\\\\saltandpepper_Screen Shot 2018-06-08 at 5.03.34 PM.png',\n",
       " 'freshapples\\\\saltandpepper_Screen Shot 2018-06-08 at 5.03.40 PM.png',\n",
       " 'freshapples\\\\saltandpepper_Screen Shot 2018-06-08 at 5.03.59 PM.png',\n",
       " 'freshapples\\\\saltandpepper_Screen Shot 2018-06-08 at 5.04.05 PM.png',\n",
       " 'freshapples\\\\saltandpepper_Screen Shot 2018-06-08 at 5.04.11 PM.png',\n",
       " 'freshapples\\\\saltandpepper_Screen Shot 2018-06-08 at 5.04.16 PM.png',\n",
       " 'freshapples\\\\saltandpepper_Screen Shot 2018-06-08 at 5.04.24 PM.png',\n",
       " 'freshapples\\\\saltandpepper_Screen Shot 2018-06-08 at 5.04.31 PM.png',\n",
       " 'freshapples\\\\saltandpepper_Screen Shot 2018-06-08 at 5.04.42 PM.png',\n",
       " 'freshapples\\\\saltandpepper_Screen Shot 2018-06-08 at 5.04.59 PM.png',\n",
       " 'freshapples\\\\saltandpepper_Screen Shot 2018-06-08 at 5.05.12 PM.png',\n",
       " 'freshapples\\\\saltandpepper_Screen Shot 2018-06-08 at 5.05.18 PM.png',\n",
       " 'freshapples\\\\saltandpepper_Screen Shot 2018-06-08 at 5.05.27 PM.png',\n",
       " 'freshapples\\\\saltandpepper_Screen Shot 2018-06-08 at 5.05.34 PM.png',\n",
       " 'freshapples\\\\saltandpepper_Screen Shot 2018-06-08 at 5.05.48 PM.png',\n",
       " 'freshapples\\\\saltandpepper_Screen Shot 2018-06-08 at 5.06.10 PM.png',\n",
       " 'freshapples\\\\saltandpepper_Screen Shot 2018-06-08 at 5.06.19 PM.png',\n",
       " 'freshapples\\\\saltandpepper_Screen Shot 2018-06-08 at 5.06.23 PM.png',\n",
       " 'freshapples\\\\saltandpepper_Screen Shot 2018-06-08 at 5.06.28 PM.png',\n",
       " 'freshapples\\\\saltandpepper_Screen Shot 2018-06-08 at 5.06.33 PM.png',\n",
       " 'freshapples\\\\saltandpepper_Screen Shot 2018-06-08 at 5.06.40 PM.png',\n",
       " 'freshapples\\\\saltandpepper_Screen Shot 2018-06-08 at 5.06.47 PM.png',\n",
       " 'freshapples\\\\saltandpepper_Screen Shot 2018-06-08 at 5.07.18 PM.png',\n",
       " 'freshapples\\\\saltandpepper_Screen Shot 2018-06-08 at 5.07.32 PM.png',\n",
       " 'freshapples\\\\saltandpepper_Screen Shot 2018-06-08 at 5.07.52 PM.png',\n",
       " 'freshapples\\\\saltandpepper_Screen Shot 2018-06-08 at 5.08.37 PM.png',\n",
       " 'freshapples\\\\saltandpepper_Screen Shot 2018-06-08 at 5.08.46 PM.png',\n",
       " 'freshapples\\\\saltandpepper_Screen Shot 2018-06-08 at 5.08.52 PM.png',\n",
       " 'freshapples\\\\saltandpepper_Screen Shot 2018-06-08 at 5.08.58 PM.png',\n",
       " 'freshapples\\\\saltandpepper_Screen Shot 2018-06-08 at 5.09.10 PM.png',\n",
       " 'freshapples\\\\saltandpepper_Screen Shot 2018-06-08 at 5.09.17 PM.png',\n",
       " ...]"
      ]
     },
     "execution_count": 4,
     "metadata": {},
     "output_type": "execute_result"
    }
   ],
   "source": [
    "fresh_apples"
   ]
  },
  {
   "cell_type": "code",
   "execution_count": 5,
   "metadata": {},
   "outputs": [],
   "source": [
    "im_list_fresh = [np.array((Image.open(i).resize((200,200))).convert('L')) for i in fresh_apples]"
   ]
  },
  {
   "cell_type": "code",
   "execution_count": 6,
   "metadata": {},
   "outputs": [],
   "source": [
    "im_list_fresh_100 = [np.array((Image.open(i).resize((100,100))).convert('L')) for i in fresh_apples]"
   ]
  },
  {
   "cell_type": "code",
   "execution_count": 7,
   "metadata": {},
   "outputs": [
    {
     "data": {
      "text/plain": [
       "array([[0, 0, 0, ..., 0, 0, 0],\n",
       "       [0, 0, 0, ..., 0, 0, 0],\n",
       "       [0, 0, 0, ..., 0, 0, 0],\n",
       "       ...,\n",
       "       [0, 0, 0, ..., 0, 0, 0],\n",
       "       [0, 0, 0, ..., 0, 0, 0],\n",
       "       [0, 0, 0, ..., 0, 0, 0]], dtype=uint8)"
      ]
     },
     "execution_count": 7,
     "metadata": {},
     "output_type": "execute_result"
    }
   ],
   "source": [
    "im_list_fresh[0]"
   ]
  },
  {
   "cell_type": "code",
   "execution_count": 8,
   "metadata": {},
   "outputs": [],
   "source": [
    "rotten_apples = glob.glob('rottenapples/*.*')"
   ]
  },
  {
   "cell_type": "code",
   "execution_count": 9,
   "metadata": {},
   "outputs": [
    {
     "data": {
      "text/plain": [
       "2342"
      ]
     },
     "execution_count": 9,
     "metadata": {},
     "output_type": "execute_result"
    }
   ],
   "source": [
    "len(rotten_apples)"
   ]
  },
  {
   "cell_type": "code",
   "execution_count": 10,
   "metadata": {},
   "outputs": [],
   "source": [
    "im_list_rotten = [np.array((Image.open(i).resize((200,200))).convert('L')) for i in rotten_apples]"
   ]
  },
  {
   "cell_type": "code",
   "execution_count": 11,
   "metadata": {},
   "outputs": [],
   "source": [
    "im_list_rotten_100 = [np.array((Image.open(i).resize((100,100))).convert('L')) for i in rotten_apples]"
   ]
  },
  {
   "cell_type": "code",
   "execution_count": 12,
   "metadata": {},
   "outputs": [
    {
     "data": {
      "text/plain": [
       "<matplotlib.image.AxesImage at 0x1788b1cc048>"
      ]
     },
     "execution_count": 12,
     "metadata": {},
     "output_type": "execute_result"
    },
    {
     "data": {
      "image/png": "[encoded data removed]",
      "text/plain": [
       "<Figure size 432x288 with 1 Axes>"
      ]
     },
     "metadata": {
      "needs_background": "light"
     },
     "output_type": "display_data"
    }
   ],
   "source": [
    "imshow(im_list_rotten_100[1120],'gray')"
   ]
  },
  {
   "cell_type": "code",
   "execution_count": 13,
   "metadata": {},
   "outputs": [],
   "source": [
    "im_fruits = im_list_fresh+im_list_rotten"
   ]
  },
  {
   "cell_type": "code",
   "execution_count": 14,
   "metadata": {},
   "outputs": [],
   "source": [
    "im_fruits_100 = im_list_fresh_100+im_list_rotten_100"
   ]
  },
  {
   "cell_type": "code",
   "execution_count": 15,
   "metadata": {},
   "outputs": [
    {
     "data": {
      "text/plain": [
       "4035"
      ]
     },
     "execution_count": 15,
     "metadata": {},
     "output_type": "execute_result"
    }
   ],
   "source": [
    "len(im_fruits_100)"
   ]
  },
  {
   "cell_type": "code",
   "execution_count": 16,
   "metadata": {},
   "outputs": [],
   "source": [
    "y_fresh = [1 for i in range(len(im_list_fresh))]"
   ]
  },
  {
   "cell_type": "code",
   "execution_count": 17,
   "metadata": {},
   "outputs": [],
   "source": [
    "y_fresh_100 = [1 for i in range(len(im_list_fresh_100))]"
   ]
  },
  {
   "cell_type": "code",
   "execution_count": 18,
   "metadata": {},
   "outputs": [],
   "source": [
    "y_rotten = [0 for i in range(len(im_list_rotten))]"
   ]
  },
  {
   "cell_type": "code",
   "execution_count": 19,
   "metadata": {},
   "outputs": [],
   "source": [
    "y_rotten_100 = [0 for i in range(len(im_list_rotten_100))]"
   ]
  },
  {
   "cell_type": "code",
   "execution_count": 20,
   "metadata": {},
   "outputs": [],
   "source": [
    "y = y_fresh+y_rotten"
   ]
  },
  {
   "cell_type": "code",
   "execution_count": 21,
   "metadata": {},
   "outputs": [],
   "source": [
    "y_100 = y_fresh_100+y_rotten_100"
   ]
  },
  {
   "cell_type": "code",
   "execution_count": 22,
   "metadata": {},
   "outputs": [
    {
     "data": {
      "text/plain": [
       "4035"
      ]
     },
     "execution_count": 22,
     "metadata": {},
     "output_type": "execute_result"
    }
   ],
   "source": [
    "len(y_100)"
   ]
  },
  {
   "cell_type": "code",
   "execution_count": 23,
   "metadata": {},
   "outputs": [],
   "source": [
    "import random\n",
    "temp = list(zip(im_fruits, y)) \n",
    "random.shuffle(temp) \n",
    "im_fruits, y = zip(*temp) \n",
    "        "
   ]
  },
  {
   "cell_type": "code",
   "execution_count": 24,
   "metadata": {},
   "outputs": [],
   "source": [
    "import random\n",
    "temp = list(zip(im_fruits_100, y_100)) \n",
    "random.shuffle(temp) \n",
    "im_fruits_100, y_100 = zip(*temp) "
   ]
  },
  {
   "cell_type": "code",
   "execution_count": 25,
   "metadata": {},
   "outputs": [
    {
     "data": {
      "text/plain": [
       "<matplotlib.image.AxesImage at 0x1788b2d8048>"
      ]
     },
     "execution_count": 25,
     "metadata": {},
     "output_type": "execute_result"
    },
    {
     "data": {
      "image/png": "[encoded data removed]",
      "text/plain": [
       "<Figure size 432x288 with 1 Axes>"
      ]
     },
     "metadata": {
      "needs_background": "light"
     },
     "output_type": "display_data"
    }
   ],
   "source": [
    "imshow(im_fruits_100[1],'gray')"
   ]
  },
  {
   "cell_type": "code",
   "execution_count": 26,
   "metadata": {},
   "outputs": [
    {
     "data": {
      "text/plain": [
       "0"
      ]
     },
     "execution_count": 26,
     "metadata": {},
     "output_type": "execute_result"
    }
   ],
   "source": [
    "y_100[1]"
   ]
  },
  {
   "cell_type": "code",
   "execution_count": 27,
   "metadata": {},
   "outputs": [
    {
     "data": {
      "text/plain": [
       "(1, 1, 1, 1, 0, 0, 1, 0, 1, 1)"
      ]
     },
     "execution_count": 27,
     "metadata": {},
     "output_type": "execute_result"
    }
   ],
   "source": [
    "y[0:10]"
   ]
  },
  {
   "cell_type": "code",
   "execution_count": 28,
   "metadata": {},
   "outputs": [],
   "source": [
    "im_fruits = np.array(im_fruits)"
   ]
  },
  {
   "cell_type": "code",
   "execution_count": 29,
   "metadata": {},
   "outputs": [],
   "source": [
    "im_fruits_100 = np.array(im_fruits_100)"
   ]
  },
  {
   "cell_type": "code",
   "execution_count": 30,
   "metadata": {},
   "outputs": [
    {
     "data": {
      "text/plain": [
       "(4035, 100, 100)"
      ]
     },
     "execution_count": 30,
     "metadata": {},
     "output_type": "execute_result"
    }
   ],
   "source": [
    "im_fruits_100.shape"
   ]
  },
  {
   "cell_type": "code",
   "execution_count": 31,
   "metadata": {},
   "outputs": [
    {
     "data": {
      "text/plain": [
       "numpy.ndarray"
      ]
     },
     "execution_count": 31,
     "metadata": {},
     "output_type": "execute_result"
    }
   ],
   "source": [
    "type(im_fruits_100)"
   ]
  },
  {
   "cell_type": "code",
   "execution_count": 32,
   "metadata": {},
   "outputs": [],
   "source": [
    "temp = [i.flatten() for i in im_fruits_100]"
   ]
  },
  {
   "cell_type": "code",
   "execution_count": 33,
   "metadata": {},
   "outputs": [],
   "source": [
    "temp = np.array(temp)"
   ]
  },
  {
   "cell_type": "code",
   "execution_count": 34,
   "metadata": {},
   "outputs": [
    {
     "data": {
      "text/plain": [
       "(4035, 10000)"
      ]
     },
     "execution_count": 34,
     "metadata": {},
     "output_type": "execute_result"
    }
   ],
   "source": [
    "temp.shape"
   ]
  },
  {
   "cell_type": "code",
   "execution_count": 35,
   "metadata": {},
   "outputs": [],
   "source": [
    "X_train,y_train,X_test,y_test = temp[:],y_100[:],temp[400:500],y_100[400:500]"
   ]
  },
  {
   "cell_type": "code",
   "execution_count": 36,
   "metadata": {},
   "outputs": [
    {
     "data": {
      "text/plain": [
       "array([[  0,   0,   0, ...,   0,   0,   0],\n",
       "       [255, 255, 255, ..., 255, 255, 255],\n",
       "       [255, 255, 255, ..., 238, 240, 242],\n",
       "       ...,\n",
       "       [255, 255, 255, ..., 255, 255, 255],\n",
       "       [  0,   0,   0, ..., 255, 255, 255],\n",
       "       [255, 255, 255, ..., 255, 255, 255]], dtype=uint8)"
      ]
     },
     "execution_count": 36,
     "metadata": {},
     "output_type": "execute_result"
    }
   ],
   "source": [
    "X_test[:10]"
   ]
  },
  {
   "cell_type": "code",
   "execution_count": 37,
   "metadata": {},
   "outputs": [
    {
     "data": {
      "text/plain": [
       "<matplotlib.image.AxesImage at 0x1788b314f60>"
      ]
     },
     "execution_count": 37,
     "metadata": {},
     "output_type": "execute_result"
    },
    {
     "data": {
      "image/png": "[encoded data removed]",
      "text/plain": [
       "<Figure size 432x288 with 1 Axes>"
      ]
     },
     "metadata": {
      "needs_background": "light"
     },
     "output_type": "display_data"
    }
   ],
   "source": [
    "imshow(X_train[3].reshape(100,100),'gray')"
   ]
  },
  {
   "cell_type": "code",
   "execution_count": 38,
   "metadata": {},
   "outputs": [],
   "source": [
    "y_train = [i==1 for i in y_train]"
   ]
  },
  {
   "cell_type": "code",
   "execution_count": 39,
   "metadata": {},
   "outputs": [],
   "source": [
    "y_train = np.array(y_train)"
   ]
  },
  {
   "cell_type": "code",
   "execution_count": 40,
   "metadata": {},
   "outputs": [
    {
     "data": {
      "text/plain": [
       "numpy.ndarray"
      ]
     },
     "execution_count": 40,
     "metadata": {},
     "output_type": "execute_result"
    }
   ],
   "source": [
    "type(X_train)"
   ]
  },
  {
   "cell_type": "code",
   "execution_count": 41,
   "metadata": {},
   "outputs": [
    {
     "data": {
      "text/plain": [
       "(4035,)"
      ]
     },
     "execution_count": 41,
     "metadata": {},
     "output_type": "execute_result"
    }
   ],
   "source": [
    "y_train.shape"
   ]
  },
  {
   "cell_type": "code",
   "execution_count": 34,
   "metadata": {},
   "outputs": [
    {
     "name": "stderr",
     "output_type": "stream",
     "text": [
      "D:\\anconda\\lib\\site-packages\\sklearn\\linear_model\\stochastic_gradient.py:166: FutureWarning: max_iter and tol parameters have been added in SGDClassifier in 0.19. If both are left unset, they default to max_iter=5 and tol=None. If tol is not None, max_iter defaults to max_iter=1000. From 0.21, default max_iter will be 1000, and default tol will be 1e-3.\n",
      "  FutureWarning)\n"
     ]
    },
    {
     "data": {
      "text/plain": [
       "SGDClassifier(alpha=0.0001, average=False, class_weight=None,\n",
       "       early_stopping=False, epsilon=0.1, eta0=0.0, fit_intercept=True,\n",
       "       l1_ratio=0.15, learning_rate='optimal', loss='hinge', max_iter=None,\n",
       "       n_iter=None, n_iter_no_change=5, n_jobs=None, penalty='l2',\n",
       "       power_t=0.5, random_state=42, shuffle=True, tol=None,\n",
       "       validation_fraction=0.1, verbose=0, warm_start=False)"
      ]
     },
     "execution_count": 34,
     "metadata": {},
     "output_type": "execute_result"
    }
   ],
   "source": [
    "from sklearn.linear_model import SGDClassifier\n",
    "sgd_clf = SGDClassifier(random_state=42)\n",
    "sgd_clf.fit(X_train/255.0, y_train)"
   ]
  },
  {
   "cell_type": "code",
   "execution_count": 35,
   "metadata": {},
   "outputs": [
    {
     "name": "stderr",
     "output_type": "stream",
     "text": [
      "D:\\anconda\\lib\\site-packages\\sklearn\\linear_model\\stochastic_gradient.py:166: FutureWarning: max_iter and tol parameters have been added in SGDClassifier in 0.19. If both are left unset, they default to max_iter=5 and tol=None. If tol is not None, max_iter defaults to max_iter=1000. From 0.21, default max_iter will be 1000, and default tol will be 1e-3.\n",
      "  FutureWarning)\n",
      "D:\\anconda\\lib\\site-packages\\sklearn\\linear_model\\stochastic_gradient.py:166: FutureWarning: max_iter and tol parameters have been added in SGDClassifier in 0.19. If both are left unset, they default to max_iter=5 and tol=None. If tol is not None, max_iter defaults to max_iter=1000. From 0.21, default max_iter will be 1000, and default tol will be 1e-3.\n",
      "  FutureWarning)\n",
      "D:\\anconda\\lib\\site-packages\\sklearn\\linear_model\\stochastic_gradient.py:166: FutureWarning: max_iter and tol parameters have been added in SGDClassifier in 0.19. If both are left unset, they default to max_iter=5 and tol=None. If tol is not None, max_iter defaults to max_iter=1000. From 0.21, default max_iter will be 1000, and default tol will be 1e-3.\n",
      "  FutureWarning)\n"
     ]
    },
    {
     "data": {
      "text/plain": [
       "array([0.52451709, 0.67806691, 0.70535714])"
      ]
     },
     "execution_count": 35,
     "metadata": {},
     "output_type": "execute_result"
    }
   ],
   "source": [
    "from sklearn.model_selection import cross_val_score\n",
    "cross_val_score(sgd_clf, X_train/255.0, y_train, cv=3, scoring=\"accuracy\")"
   ]
  },
  {
   "cell_type": "code",
   "execution_count": 36,
   "metadata": {},
   "outputs": [
    {
     "data": {
      "text/plain": [
       "array([False, False, False, False, False, False, False, False, False])"
      ]
     },
     "execution_count": 36,
     "metadata": {},
     "output_type": "execute_result"
    }
   ],
   "source": [
    "sgd_clf.predict(X_train[1:10]/255.0)"
   ]
  },
  {
   "cell_type": "code",
   "execution_count": 42,
   "metadata": {},
   "outputs": [],
   "source": [
    "import tensorflow as tf\n",
    "from tensorflow import keras"
   ]
  },
  {
   "cell_type": "code",
   "execution_count": 35,
   "metadata": {},
   "outputs": [
    {
     "name": "stderr",
     "output_type": "stream",
     "text": [
      "Using TensorFlow backend.\n"
     ]
    }
   ],
   "source": [
    "from keras.optimizers import Adam"
   ]
  },
  {
   "cell_type": "code",
   "execution_count": 45,
   "metadata": {},
   "outputs": [],
   "source": [
    " model = keras.models.Sequential()"
   ]
  },
  {
   "cell_type": "code",
   "execution_count": 46,
   "metadata": {},
   "outputs": [],
   "source": [
    "model.add(keras.layers.Flatten(input_shape=[200,200]))"
   ]
  },
  {
   "cell_type": "code",
   "execution_count": 47,
   "metadata": {},
   "outputs": [],
   "source": [
    "model.add(keras.layers.Dense(6000,activation=\"relu\"))\n",
    "model.add(keras.layers.Dense(300,activation=\"relu\"))\n",
    "model.add(keras.layers.Dense(100,activation=\"relu\"))\n",
    "model.add(keras.layers.Dense(2,activation=\"sigmoid\"))"
   ]
  },
  {
   "cell_type": "code",
   "execution_count": 48,
   "metadata": {},
   "outputs": [],
   "source": [
    "model.compile(loss=\"sparse_categorical_crossentropy\",optimizer=\"sgd\",\n",
    "              metrics=[\"accuracy\"])"
   ]
  },
  {
   "cell_type": "code",
   "execution_count": 49,
   "metadata": {
    "scrolled": true
   },
   "outputs": [
    {
     "name": "stdout",
     "output_type": "stream",
     "text": [
      "Train on 3000 samples, validate on 1035 samples\n",
      "Epoch 1/35\n",
      "3000/3000 [==============================] - 51s 17ms/sample - loss: 0.7075 - acc: 0.5620 - val_loss: 0.6930 - val_acc: 0.4425\n",
      "Epoch 2/35\n",
      "3000/3000 [==============================] - 47s 16ms/sample - loss: 0.6827 - acc: 0.5747 - val_loss: 0.6900 - val_acc: 0.6184\n",
      "Epoch 3/35\n",
      "3000/3000 [==============================] - 48s 16ms/sample - loss: 0.6723 - acc: 0.5843 - val_loss: 0.6879 - val_acc: 0.5671\n",
      "Epoch 4/35\n",
      "3000/3000 [==============================] - 53s 18ms/sample - loss: 0.6546 - acc: 0.6100 - val_loss: 0.6243 - val_acc: 0.6415\n",
      "Epoch 5/35\n",
      "3000/3000 [==============================] - 51s 17ms/sample - loss: 0.6359 - acc: 0.6313 - val_loss: 0.6012 - val_acc: 0.6522\n",
      "Epoch 6/35\n",
      "3000/3000 [==============================] - 50s 17ms/sample - loss: 0.6250 - acc: 0.6420 - val_loss: 0.6210 - val_acc: 0.6667\n",
      "Epoch 7/35\n",
      "3000/3000 [==============================] - 49s 16ms/sample - loss: 0.6096 - acc: 0.6600 - val_loss: 0.5958 - val_acc: 0.6609\n",
      "Epoch 8/35\n",
      "3000/3000 [==============================] - 49s 16ms/sample - loss: 0.5989 - acc: 0.6653 - val_loss: 0.5788 - val_acc: 0.6995\n",
      "Epoch 9/35\n",
      "3000/3000 [==============================] - 52s 17ms/sample - loss: 0.5856 - acc: 0.6727 - val_loss: 0.5641 - val_acc: 0.7121\n",
      "Epoch 10/35\n",
      "3000/3000 [==============================] - 51s 17ms/sample - loss: 0.5758 - acc: 0.6897 - val_loss: 0.5600 - val_acc: 0.6908\n",
      "Epoch 11/35\n",
      "3000/3000 [==============================] - 50s 17ms/sample - loss: 0.5651 - acc: 0.6887 - val_loss: 0.5528 - val_acc: 0.7121\n",
      "Epoch 12/35\n",
      "3000/3000 [==============================] - 51s 17ms/sample - loss: 0.5597 - acc: 0.7103 - val_loss: 0.5347 - val_acc: 0.7159\n",
      "Epoch 13/35\n",
      "3000/3000 [==============================] - 50s 17ms/sample - loss: 0.5484 - acc: 0.7100 - val_loss: 0.5326 - val_acc: 0.7179\n",
      "Epoch 14/35\n",
      "3000/3000 [==============================] - 52s 17ms/sample - loss: 0.5556 - acc: 0.7113 - val_loss: 0.5940 - val_acc: 0.6734\n",
      "Epoch 15/35\n",
      "3000/3000 [==============================] - 51s 17ms/sample - loss: 0.5438 - acc: 0.7117 - val_loss: 0.5616 - val_acc: 0.7024\n",
      "Epoch 16/35\n",
      "3000/3000 [==============================] - 50s 17ms/sample - loss: 0.5243 - acc: 0.7257 - val_loss: 0.5282 - val_acc: 0.7179\n",
      "Epoch 17/35\n",
      "3000/3000 [==============================] - 49s 16ms/sample - loss: 0.5310 - acc: 0.7293 - val_loss: 0.5276 - val_acc: 0.7208\n",
      "Epoch 18/35\n",
      "3000/3000 [==============================] - 49s 16ms/sample - loss: 0.5133 - acc: 0.7417 - val_loss: 0.5429 - val_acc: 0.7159\n",
      "Epoch 19/35\n",
      "3000/3000 [==============================] - 49s 16ms/sample - loss: 0.5043 - acc: 0.7460 - val_loss: 0.5400 - val_acc: 0.7111\n",
      "Epoch 20/35\n",
      "3000/3000 [==============================] - 48s 16ms/sample - loss: 0.4988 - acc: 0.7530 - val_loss: 0.5434 - val_acc: 0.7217\n",
      "Epoch 21/35\n",
      "3000/3000 [==============================] - 48s 16ms/sample - loss: 0.4906 - acc: 0.7537 - val_loss: 0.6308 - val_acc: 0.6425\n",
      "Epoch 22/35\n",
      "3000/3000 [==============================] - 49s 16ms/sample - loss: 0.4857 - acc: 0.7553 - val_loss: 0.8348 - val_acc: 0.5623\n",
      "Epoch 23/35\n",
      "3000/3000 [==============================] - 50s 17ms/sample - loss: 0.4720 - acc: 0.7633 - val_loss: 0.5276 - val_acc: 0.7324\n",
      "Epoch 24/35\n",
      "3000/3000 [==============================] - 48s 16ms/sample - loss: 0.4771 - acc: 0.7707 - val_loss: 0.6004 - val_acc: 0.6618\n",
      "Epoch 25/35\n",
      "3000/3000 [==============================] - 49s 16ms/sample - loss: 0.4721 - acc: 0.7660 - val_loss: 0.4862 - val_acc: 0.7556\n",
      "Epoch 26/35\n",
      "3000/3000 [==============================] - 48s 16ms/sample - loss: 0.4650 - acc: 0.7793 - val_loss: 0.4950 - val_acc: 0.7440\n",
      "Epoch 27/35\n",
      "3000/3000 [==============================] - 53s 18ms/sample - loss: 0.4448 - acc: 0.7817 - val_loss: 0.5341 - val_acc: 0.7275\n",
      "Epoch 28/35\n",
      "3000/3000 [==============================] - 52s 17ms/sample - loss: 0.4396 - acc: 0.7917 - val_loss: 0.4928 - val_acc: 0.7498\n",
      "Epoch 29/35\n",
      "3000/3000 [==============================] - 51s 17ms/sample - loss: 0.4408 - acc: 0.7863 - val_loss: 0.5089 - val_acc: 0.7391\n",
      "Epoch 30/35\n",
      "3000/3000 [==============================] - 50s 17ms/sample - loss: 0.4406 - acc: 0.7920 - val_loss: 0.4843 - val_acc: 0.7382\n",
      "Epoch 31/35\n",
      "3000/3000 [==============================] - 49s 16ms/sample - loss: 0.4202 - acc: 0.7977 - val_loss: 0.4796 - val_acc: 0.7585\n",
      "Epoch 32/35\n",
      "3000/3000 [==============================] - 48s 16ms/sample - loss: 0.4258 - acc: 0.7997 - val_loss: 0.4733 - val_acc: 0.7556\n",
      "Epoch 33/35\n",
      "3000/3000 [==============================] - 48s 16ms/sample - loss: 0.4133 - acc: 0.8067 - val_loss: 0.6746 - val_acc: 0.6174\n",
      "Epoch 34/35\n",
      "3000/3000 [==============================] - 49s 16ms/sample - loss: 0.4065 - acc: 0.8090 - val_loss: 0.5082 - val_acc: 0.7440\n",
      "Epoch 35/35\n",
      "3000/3000 [==============================] - 48s 16ms/sample - loss: 0.4208 - acc: 0.8060 - val_loss: 0.4817 - val_acc: 0.7565\n"
     ]
    }
   ],
   "source": [
    "history = model.fit(im_fruits[:3000]/255.0, y_train[:3000], \n",
    "                    epochs=35,validation_data=(im_fruits[3000:]/255.0,y_train[3000:]))"
   ]
  },
  {
   "cell_type": "code",
   "execution_count": 50,
   "metadata": {},
   "outputs": [],
   "source": [
    "model.save(\"4000_35_keras.h5\")"
   ]
  },
  {
   "cell_type": "code",
   "execution_count": 36,
   "metadata": {},
   "outputs": [],
   "source": [
    " model = keras.models.Sequential()"
   ]
  },
  {
   "cell_type": "code",
   "execution_count": 37,
   "metadata": {},
   "outputs": [],
   "source": [
    "model.add(keras.layers.Flatten(input_shape=[200,200]))"
   ]
  },
  {
   "cell_type": "code",
   "execution_count": 38,
   "metadata": {},
   "outputs": [
    {
     "name": "stdout",
     "output_type": "stream",
     "text": [
      "WARNING:tensorflow:From D:\\anconda\\lib\\site-packages\\tensorflow\\python\\ops\\init_ops.py:1251: calling VarianceScaling.__init__ (from tensorflow.python.ops.init_ops) with dtype is deprecated and will be removed in a future version.\n",
      "Instructions for updating:\n",
      "Call initializer instance with the dtype argument instead of passing it to the constructor\n"
     ]
    }
   ],
   "source": [
    "model.add(keras.layers.Dense(1000,activation=\"relu\"))\n",
    "model.add(keras.layers.Dense(1000,activation=\"relu\"))\n",
    "model.add(keras.layers.Dense(1000,activation=\"relu\"))\n",
    "model.add(keras.layers.Dense(2,activation=\"sigmoid\"))"
   ]
  },
  {
   "cell_type": "code",
   "execution_count": 39,
   "metadata": {},
   "outputs": [],
   "source": [
    "model.compile(loss=\"sparse_categorical_crossentropy\",optimizer=\"sgd\",\n",
    "              metrics=[\"accuracy\"])"
   ]
  },
  {
   "cell_type": "code",
   "execution_count": 40,
   "metadata": {},
   "outputs": [
    {
     "name": "stdout",
     "output_type": "stream",
     "text": [
      "Train on 3000 samples, validate on 1035 samples\n",
      "WARNING:tensorflow:From D:\\anconda\\lib\\site-packages\\tensorflow\\python\\ops\\math_grad.py:1250: add_dispatch_support.<locals>.wrapper (from tensorflow.python.ops.array_ops) is deprecated and will be removed in a future version.\n",
      "Instructions for updating:\n",
      "Use tf.where in 2.0, which has the same broadcast rule as np.where\n",
      "Epoch 1/35\n",
      "3000/3000 [==============================] - 20s 7ms/sample - loss: 0.6704 - acc: 0.5940 - val_loss: 0.6242 - val_acc: 0.6300\n",
      "Epoch 2/35\n",
      "3000/3000 [==============================] - 18s 6ms/sample - loss: 0.6426 - acc: 0.6200 - val_loss: 0.6051 - val_acc: 0.6473\n",
      "Epoch 3/35\n",
      "3000/3000 [==============================] - 19s 6ms/sample - loss: 0.6295 - acc: 0.6323 - val_loss: 0.5883 - val_acc: 0.6812\n",
      "Epoch 4/35\n",
      "3000/3000 [==============================] - 18s 6ms/sample - loss: 0.6045 - acc: 0.6567 - val_loss: 0.6098 - val_acc: 0.6638\n",
      "Epoch 5/35\n",
      "3000/3000 [==============================] - 19s 6ms/sample - loss: 0.6018 - acc: 0.6667 - val_loss: 0.6176 - val_acc: 0.6338\n",
      "Epoch 6/35\n",
      "3000/3000 [==============================] - 19s 6ms/sample - loss: 0.5772 - acc: 0.6817 - val_loss: 0.6438 - val_acc: 0.5903\n",
      "Epoch 7/35\n",
      "3000/3000 [==============================] - 19s 6ms/sample - loss: 0.5913 - acc: 0.6777 - val_loss: 0.5763 - val_acc: 0.6783: 8s - loss: 0.6063 - - ETA: 6s - loss: 0.6083 - acc: 0.65 - E\n",
      "Epoch 8/35\n",
      "3000/3000 [==============================] - 18s 6ms/sample - loss: 0.5666 - acc: 0.6930 - val_loss: 0.6049 - val_acc: 0.6338\n",
      "Epoch 9/35\n",
      "3000/3000 [==============================] - 19s 6ms/sample - loss: 0.5547 - acc: 0.7020 - val_loss: 0.6020 - val_acc: 0.6309\n",
      "Epoch 10/35\n",
      "3000/3000 [==============================] - 19s 6ms/sample - loss: 0.5483 - acc: 0.7070 - val_loss: 0.5590 - val_acc: 0.6957\n",
      "Epoch 11/35\n",
      "3000/3000 [==============================] - 18s 6ms/sample - loss: 0.5520 - acc: 0.7130 - val_loss: 0.5399 - val_acc: 0.7198\n",
      "Epoch 12/35\n",
      "3000/3000 [==============================] - 18s 6ms/sample - loss: 0.5408 - acc: 0.7267 - val_loss: 0.5355 - val_acc: 0.7246\n",
      "Epoch 13/35\n",
      "3000/3000 [==============================] - 19s 6ms/sample - loss: 0.5258 - acc: 0.7320 - val_loss: 0.5315 - val_acc: 0.7256\n",
      "Epoch 14/35\n",
      "3000/3000 [==============================] - 18s 6ms/sample - loss: 0.5155 - acc: 0.7337 - val_loss: 0.5259 - val_acc: 0.7343\n",
      "Epoch 15/35\n",
      "3000/3000 [==============================] - 18s 6ms/sample - loss: 0.5120 - acc: 0.7287 - val_loss: 0.5493 - val_acc: 0.7092\n",
      "Epoch 16/35\n",
      "3000/3000 [==============================] - 19s 6ms/sample - loss: 0.5044 - acc: 0.7457 - val_loss: 0.5078 - val_acc: 0.7449\n",
      "Epoch 17/35\n",
      "3000/3000 [==============================] - 18s 6ms/sample - loss: 0.4811 - acc: 0.7620 - val_loss: 0.5387 - val_acc: 0.7411\n",
      "Epoch 18/35\n",
      "3000/3000 [==============================] - 19s 6ms/sample - loss: 0.4910 - acc: 0.7517 - val_loss: 0.5344 - val_acc: 0.7391loss: 0.4886 - acc: 0.75\n",
      "Epoch 19/35\n",
      "3000/3000 [==============================] - 19s 6ms/sample - loss: 0.4775 - acc: 0.7557 - val_loss: 0.5109 - val_acc: 0.7536\n",
      "Epoch 20/35\n",
      "3000/3000 [==============================] - 18s 6ms/sample - loss: 0.4852 - acc: 0.7590 - val_loss: 0.5113 - val_acc: 0.7527\n",
      "Epoch 21/35\n",
      "3000/3000 [==============================] - 18s 6ms/sample - loss: 0.4639 - acc: 0.7597 - val_loss: 0.5225 - val_acc: 0.7546\n",
      "Epoch 22/35\n",
      "3000/3000 [==============================] - 19s 6ms/sample - loss: 0.4699 - acc: 0.7593 - val_loss: 0.5274 - val_acc: 0.7507\n",
      "Epoch 23/35\n",
      "3000/3000 [==============================] - 19s 6ms/sample - loss: 0.4579 - acc: 0.7720 - val_loss: 0.5387 - val_acc: 0.7498\n",
      "Epoch 24/35\n",
      "3000/3000 [==============================] - 19s 6ms/sample - loss: 0.4464 - acc: 0.7697 - val_loss: 0.5088 - val_acc: 0.7517\n",
      "Epoch 25/35\n",
      "3000/3000 [==============================] - 19s 6ms/sample - loss: 0.4511 - acc: 0.7800 - val_loss: 0.8144 - val_acc: 0.5894\n",
      "Epoch 26/35\n",
      "3000/3000 [==============================] - 19s 6ms/sample - loss: 0.4366 - acc: 0.7853 - val_loss: 0.5385 - val_acc: 0.7111\n",
      "Epoch 27/35\n",
      "3000/3000 [==============================] - 18s 6ms/sample - loss: 0.4315 - acc: 0.7950 - val_loss: 0.5426 - val_acc: 0.7179\n",
      "Epoch 28/35\n",
      "3000/3000 [==============================] - 18s 6ms/sample - loss: 0.4192 - acc: 0.7967 - val_loss: 0.4765 - val_acc: 0.7749\n",
      "Epoch 29/35\n",
      "3000/3000 [==============================] - 19s 6ms/sample - loss: 0.4152 - acc: 0.7990 - val_loss: 0.6936 - val_acc: 0.6415\n",
      "Epoch 30/35\n",
      "3000/3000 [==============================] - 18s 6ms/sample - loss: 0.4186 - acc: 0.7993 - val_loss: 0.4963 - val_acc: 0.7681\n",
      "Epoch 31/35\n",
      "3000/3000 [==============================] - 18s 6ms/sample - loss: 0.4024 - acc: 0.8123 - val_loss: 0.5630 - val_acc: 0.7005983 - acc:\n",
      "Epoch 32/35\n",
      "3000/3000 [==============================] - 19s 6ms/sample - loss: 0.4087 - acc: 0.8037 - val_loss: 0.4943 - val_acc: 0.7816\n",
      "Epoch 33/35\n",
      "3000/3000 [==============================] - 18s 6ms/sample - loss: 0.4220 - acc: 0.8003 - val_loss: 0.5864 - val_acc: 0.6647\n",
      "Epoch 34/35\n",
      "3000/3000 [==============================] - 18s 6ms/sample - loss: 0.3976 - acc: 0.8040 - val_loss: 0.5189 - val_acc: 0.7507\n",
      "Epoch 35/35\n",
      "3000/3000 [==============================] - 19s 6ms/sample - loss: 0.3840 - acc: 0.8210 - val_loss: 0.5894 - val_acc: 0.7169\n"
     ]
    }
   ],
   "source": [
    "history = model.fit(im_fruits[:3000]/255.0, y_train[:3000], \n",
    "                    epochs=35,validation_data=(im_fruits[3000:]/255.0,y_train[3000:]))"
   ]
  },
  {
   "cell_type": "code",
   "execution_count": 42,
   "metadata": {},
   "outputs": [],
   "source": [
    "model.save(\"4x1000_35_keras.h5\")"
   ]
  },
  {
   "cell_type": "code",
   "execution_count": 1,
   "metadata": {},
   "outputs": [
    {
     "ename": "NameError",
     "evalue": "name 'keras' is not defined",
     "output_type": "error",
     "traceback": [
      "\u001b[1;31m---------------------------------------------------------------------------\u001b[0m",
      "\u001b[1;31mNameError\u001b[0m                                 Traceback (most recent call last)",
      "\u001b[1;32m<ipython-input-1-21fb7547fffc>\u001b[0m in \u001b[0;36m<module>\u001b[1;34m\u001b[0m\n\u001b[1;32m----> 1\u001b[1;33m \u001b[0mmodel\u001b[0m \u001b[1;33m=\u001b[0m \u001b[0mkeras\u001b[0m\u001b[1;33m.\u001b[0m\u001b[0mmodels\u001b[0m\u001b[1;33m.\u001b[0m\u001b[0mSequential\u001b[0m\u001b[1;33m(\u001b[0m\u001b[1;33m)\u001b[0m\u001b[1;33m\u001b[0m\u001b[1;33m\u001b[0m\u001b[0m\n\u001b[0m\u001b[0;32m      2\u001b[0m \u001b[0mmodel\u001b[0m\u001b[1;33m.\u001b[0m\u001b[0madd\u001b[0m\u001b[1;33m(\u001b[0m\u001b[0mkeras\u001b[0m\u001b[1;33m.\u001b[0m\u001b[0mlayers\u001b[0m\u001b[1;33m.\u001b[0m\u001b[0mFlatten\u001b[0m\u001b[1;33m(\u001b[0m\u001b[0minput_shape\u001b[0m\u001b[1;33m=\u001b[0m\u001b[1;33m[\u001b[0m\u001b[1;36m200\u001b[0m\u001b[1;33m,\u001b[0m\u001b[1;36m200\u001b[0m\u001b[1;33m]\u001b[0m\u001b[1;33m)\u001b[0m\u001b[1;33m)\u001b[0m\u001b[1;33m\u001b[0m\u001b[1;33m\u001b[0m\u001b[0m\n\u001b[0;32m      3\u001b[0m \u001b[1;33m\u001b[0m\u001b[0m\n\u001b[0;32m      4\u001b[0m \u001b[0mmodel\u001b[0m\u001b[1;33m.\u001b[0m\u001b[0madd\u001b[0m\u001b[1;33m(\u001b[0m\u001b[0mkeras\u001b[0m\u001b[1;33m.\u001b[0m\u001b[0mlayers\u001b[0m\u001b[1;33m.\u001b[0m\u001b[0mDense\u001b[0m\u001b[1;33m(\u001b[0m\u001b[1;36m2000\u001b[0m\u001b[1;33m,\u001b[0m\u001b[0mactivation\u001b[0m\u001b[1;33m=\u001b[0m\u001b[1;34m\"relu\"\u001b[0m\u001b[1;33m)\u001b[0m\u001b[1;33m)\u001b[0m\u001b[1;33m\u001b[0m\u001b[1;33m\u001b[0m\u001b[0m\n\u001b[0;32m      5\u001b[0m \u001b[0mmodel\u001b[0m\u001b[1;33m.\u001b[0m\u001b[0madd\u001b[0m\u001b[1;33m(\u001b[0m\u001b[0mkeras\u001b[0m\u001b[1;33m.\u001b[0m\u001b[0mlayers\u001b[0m\u001b[1;33m.\u001b[0m\u001b[0mDense\u001b[0m\u001b[1;33m(\u001b[0m\u001b[1;36m1000\u001b[0m\u001b[1;33m,\u001b[0m\u001b[0mactivation\u001b[0m\u001b[1;33m=\u001b[0m\u001b[1;34m\"relu\"\u001b[0m\u001b[1;33m)\u001b[0m\u001b[1;33m)\u001b[0m\u001b[1;33m\u001b[0m\u001b[1;33m\u001b[0m\u001b[0m\n",
      "\u001b[1;31mNameError\u001b[0m: name 'keras' is not defined"
     ]
    }
   ],
   "source": [
    "model = keras.models.Sequential()\n",
    "model.add(keras.layers.Flatten(input_shape=[200,200]))\n",
    "\n",
    "model.add(keras.layers.Dense(2000,activation=\"relu\"))\n",
    "model.add(keras.layers.Dense(1000,activation=\"relu\"))\n",
    "model.add(keras.layers.Dense(1000,activation=\"relu\"))\n",
    "model.add(keras.layers.Dense(300,activation=\"relu\"))\n",
    "model.add(keras.layers.Dense(30,activation=\"relu\"))\n",
    "model.add(keras.layers.Dense(2,activation=\"sigmoid\"))\n",
    "\n",
    "model.compile(loss=\"sparse_categorical_crossentropy\",optimizer='sgd',\n",
    "              metrics=[\"accuracy\"])\n",
    "\n",
    "history = model.fit(im_fruits[:3000]/255.0, y_train[:3000], \n",
    "                    epochs=35,validation_data=(im_fruits[3000:]/255.0,y_train[3000:]))"
   ]
  },
  {
   "cell_type": "code",
   "execution_count": 50,
   "metadata": {},
   "outputs": [],
   "source": [
    "def hist_norm(image,bins = 256):\n",
    "    im_hist,bins = histogram(image.flatten(),bins,normed = True)\n",
    "    cdf = im_hist.cumsum()\n",
    "    cdf = 255*cdf/cdf[-1]\n",
    "    im_array_gray_norm = interp(image.flatten(),bins[:-1],cdf)\n",
    "    return im_array_gray_norm.reshape(image.shape)"
   ]
  },
  {
   "cell_type": "code",
   "execution_count": 51,
   "metadata": {},
   "outputs": [
    {
     "name": "stderr",
     "output_type": "stream",
     "text": [
      "D:\\anconda\\lib\\site-packages\\ipykernel_launcher.py:2: VisibleDeprecationWarning: Passing `normed=True` on non-uniform bins has always been broken, and computes neither the probability density function nor the probability mass function. The result is only correct if the bins are uniform, when density=True will produce the same result anyway. The argument will be removed in a future version of numpy.\n",
      "  \n"
     ]
    }
   ],
   "source": [
    "im_fruits_hist_normed = [hist_norm(i) for i in im_fruits] "
   ]
  },
  {
   "cell_type": "code",
   "execution_count": 61,
   "metadata": {},
   "outputs": [
    {
     "data": {
      "text/plain": [
       "<matplotlib.image.AxesImage at 0x2d4faabd710>"
      ]
     },
     "execution_count": 61,
     "metadata": {},
     "output_type": "execute_result"
    },
    {
     "data": {
      "image/png": "[encoded data removed]",
      "text/plain": [
       "<Figure size 432x288 with 1 Axes>"
      ]
     },
     "metadata": {
      "needs_background": "light"
     },
     "output_type": "display_data"
    }
   ],
   "source": [
    "imshow(im_fruits_hist_normed[3],'gray')"
   ]
  },
  {
   "cell_type": "code",
   "execution_count": 49,
   "metadata": {},
   "outputs": [
    {
     "name": "stdout",
     "output_type": "stream",
     "text": [
      "WARNING:tensorflow:From D:\\anconda\\lib\\site-packages\\tensorflow\\python\\ops\\init_ops.py:1251: calling VarianceScaling.__init__ (from tensorflow.python.ops.init_ops) with dtype is deprecated and will be removed in a future version.\n",
      "Instructions for updating:\n",
      "Call initializer instance with the dtype argument instead of passing it to the constructor\n",
      "Train on 3000 samples, validate on 1035 samples\n",
      "WARNING:tensorflow:From D:\\anconda\\lib\\site-packages\\tensorflow\\python\\ops\\math_grad.py:1250: add_dispatch_support.<locals>.wrapper (from tensorflow.python.ops.array_ops) is deprecated and will be removed in a future version.\n",
      "Instructions for updating:\n",
      "Use tf.where in 2.0, which has the same broadcast rule as np.where\n",
      "Epoch 1/35\n",
      "3000/3000 [==============================] - 10s 3ms/sample - loss: 0.6619 - acc: 0.5943 - val_loss: 0.6631 - val_acc: 0.6213\n",
      "Epoch 2/35\n",
      "3000/3000 [==============================] - 11s 4ms/sample - loss: 0.6215 - acc: 0.6480 - val_loss: 0.6233 - val_acc: 0.6734\n",
      "Epoch 3/35\n",
      "3000/3000 [==============================] - 11s 4ms/sample - loss: 0.6144 - acc: 0.6630 - val_loss: 0.5915 - val_acc: 0.6676\n",
      "Epoch 4/35\n",
      "3000/3000 [==============================] - 11s 4ms/sample - loss: 0.5923 - acc: 0.6727 - val_loss: 0.5718 - val_acc: 0.6928\n",
      "Epoch 5/35\n",
      "3000/3000 [==============================] - 11s 4ms/sample - loss: 0.5835 - acc: 0.6843 - val_loss: 0.6040 - val_acc: 0.6918\n",
      "Epoch 6/35\n",
      "3000/3000 [==============================] - 11s 4ms/sample - loss: 0.5680 - acc: 0.6997 - val_loss: 0.5659 - val_acc: 0.7101\n",
      "Epoch 7/35\n",
      "3000/3000 [==============================] - 13s 4ms/sample - loss: 0.5601 - acc: 0.7060 - val_loss: 0.5613 - val_acc: 0.6899\n",
      "Epoch 8/35\n",
      "3000/3000 [==============================] - 13s 4ms/sample - loss: 0.5406 - acc: 0.7227 - val_loss: 0.5506 - val_acc: 0.6966\n",
      "Epoch 9/35\n",
      "3000/3000 [==============================] - 11s 4ms/sample - loss: 0.5460 - acc: 0.7127 - val_loss: 0.5629 - val_acc: 0.6850\n",
      "Epoch 10/35\n",
      "3000/3000 [==============================] - 11s 4ms/sample - loss: 0.5298 - acc: 0.7253 - val_loss: 0.5387 - val_acc: 0.7314\n",
      "Epoch 11/35\n",
      "3000/3000 [==============================] - 11s 4ms/sample - loss: 0.5245 - acc: 0.7323 - val_loss: 0.5860 - val_acc: 0.6792\n",
      "Epoch 12/35\n",
      "3000/3000 [==============================] - 11s 4ms/sample - loss: 0.5040 - acc: 0.7513 - val_loss: 0.4986 - val_acc: 0.7449\n",
      "Epoch 13/35\n",
      "3000/3000 [==============================] - 11s 4ms/sample - loss: 0.5005 - acc: 0.7620 - val_loss: 0.5455 - val_acc: 0.7140\n",
      "Epoch 14/35\n",
      "3000/3000 [==============================] - 11s 4ms/sample - loss: 0.4982 - acc: 0.7517 - val_loss: 0.5118 - val_acc: 0.7391\n",
      "Epoch 15/35\n",
      "3000/3000 [==============================] - 11s 4ms/sample - loss: 0.4927 - acc: 0.7617 - val_loss: 0.6517 - val_acc: 0.6357\n",
      "Epoch 16/35\n",
      "3000/3000 [==============================] - 11s 4ms/sample - loss: 0.4767 - acc: 0.7650 - val_loss: 0.5041 - val_acc: 0.7517\n",
      "Epoch 17/35\n",
      "3000/3000 [==============================] - 11s 4ms/sample - loss: 0.4711 - acc: 0.7763 - val_loss: 0.5412 - val_acc: 0.7285\n",
      "Epoch 18/35\n",
      "3000/3000 [==============================] - 11s 4ms/sample - loss: 0.4731 - acc: 0.7733 - val_loss: 0.5144 - val_acc: 0.7459\n",
      "Epoch 19/35\n",
      "3000/3000 [==============================] - 11s 4ms/sample - loss: 0.4506 - acc: 0.7850 - val_loss: 0.4762 - val_acc: 0.7623\n",
      "Epoch 20/35\n",
      "3000/3000 [==============================] - 11s 4ms/sample - loss: 0.4391 - acc: 0.7917 - val_loss: 0.5488 - val_acc: 0.7169\n",
      "Epoch 21/35\n",
      "3000/3000 [==============================] - 11s 4ms/sample - loss: 0.4446 - acc: 0.7870 - val_loss: 0.4870 - val_acc: 0.7700\n",
      "Epoch 22/35\n",
      "3000/3000 [==============================] - 11s 4ms/sample - loss: 0.4352 - acc: 0.7947 - val_loss: 0.4647 - val_acc: 0.7797\n",
      "Epoch 23/35\n",
      "3000/3000 [==============================] - 11s 4ms/sample - loss: 0.4182 - acc: 0.7993 - val_loss: 0.7089 - val_acc: 0.6860\n",
      "Epoch 24/35\n",
      "3000/3000 [==============================] - 11s 4ms/sample - loss: 0.4075 - acc: 0.8050 - val_loss: 0.4892 - val_acc: 0.7681\n",
      "Epoch 25/35\n",
      "3000/3000 [==============================] - 11s 4ms/sample - loss: 0.4170 - acc: 0.8030 - val_loss: 0.5212 - val_acc: 0.7623\n",
      "Epoch 26/35\n",
      "3000/3000 [==============================] - 11s 4ms/sample - loss: 0.3935 - acc: 0.8200 - val_loss: 0.4529 - val_acc: 0.7971\n",
      "Epoch 27/35\n",
      "3000/3000 [==============================] - 11s 4ms/sample - loss: 0.4058 - acc: 0.8050 - val_loss: 0.5922 - val_acc: 0.7227\n",
      "Epoch 28/35\n",
      "3000/3000 [==============================] - 11s 4ms/sample - loss: 0.3842 - acc: 0.8257 - val_loss: 0.5111 - val_acc: 0.7633\n",
      "Epoch 29/35\n",
      "3000/3000 [==============================] - 11s 4ms/sample - loss: 0.3933 - acc: 0.8117 - val_loss: 0.4739 - val_acc: 0.7855\n",
      "Epoch 30/35\n",
      "3000/3000 [==============================] - 11s 4ms/sample - loss: 0.3782 - acc: 0.8273 - val_loss: 0.4742 - val_acc: 0.7942\n",
      "Epoch 31/35\n",
      "3000/3000 [==============================] - 11s 4ms/sample - loss: 0.3680 - acc: 0.8280 - val_loss: 0.4809 - val_acc: 0.7710\n",
      "Epoch 32/35\n",
      "3000/3000 [==============================] - 11s 4ms/sample - loss: 0.3599 - acc: 0.8340 - val_loss: 0.5202 - val_acc: 0.7575\n",
      "Epoch 33/35\n",
      "3000/3000 [==============================] - 11s 4ms/sample - loss: 0.3607 - acc: 0.8330 - val_loss: 0.4900 - val_acc: 0.7758\n",
      "Epoch 34/35\n",
      "3000/3000 [==============================] - 11s 4ms/sample - loss: 0.3564 - acc: 0.8350 - val_loss: 0.4382 - val_acc: 0.8039\n",
      "Epoch 35/35\n",
      "3000/3000 [==============================] - 11s 4ms/sample - loss: 0.3365 - acc: 0.8503 - val_loss: 0.4819 - val_acc: 0.7749\n"
     ]
    }
   ],
   "source": [
    "model = keras.models.Sequential()\n",
    "model.add(keras.layers.Flatten(input_shape=[100,100]))\n",
    "\n",
    "model.add(keras.layers.Dense(2000,activation=\"relu\"))\n",
    "model.add(keras.layers.Dense(2000,activation=\"relu\"))\n",
    "model.add(keras.layers.Dense(2000,activation=\"relu\"))\n",
    "model.add(keras.layers.Dense(300,activation=\"relu\"))\n",
    "model.add(keras.layers.Dense(30,activation=\"relu\"))\n",
    "model.add(keras.layers.Dense(2,activation=\"sigmoid\"))\n",
    "\n",
    "model.compile(loss=\"sparse_categorical_crossentropy\",optimizer='sgd',\n",
    "              metrics=[\"accuracy\"])\n",
    "\n",
    "history = model.fit(im_fruits_100[:3000]/255.0, y_train[:3000], \n",
    "                    epochs=35,validation_data=(im_fruits_100[3000:]/255.0,y_train[3000:]))"
   ]
  },
  {
   "cell_type": "code",
   "execution_count": 50,
   "metadata": {},
   "outputs": [],
   "source": [
    "model.save(\"3x2000_100x100_keras.h5\")"
   ]
  },
  {
   "cell_type": "code",
   "execution_count": 48,
   "metadata": {
    "scrolled": true
   },
   "outputs": [
    {
     "name": "stdout",
     "output_type": "stream",
     "text": [
      "Train on 3000 samples, validate on 1035 samples\n",
      "Epoch 1/55\n",
      "3000/3000 [==============================] - 14s 5ms/sample - loss: 0.6619 - acc: 0.5997 - val_loss: 0.6167 - val_acc: 0.6628\n",
      "Epoch 2/55\n",
      "3000/3000 [==============================] - 14s 5ms/sample - loss: 0.6346 - acc: 0.6377 - val_loss: 0.5932 - val_acc: 0.6599\n",
      "Epoch 3/55\n",
      "3000/3000 [==============================] - 14s 5ms/sample - loss: 0.6149 - acc: 0.6490 - val_loss: 0.6318 - val_acc: 0.6300\n",
      "Epoch 4/55\n",
      "3000/3000 [==============================] - 14s 5ms/sample - loss: 0.5964 - acc: 0.6787 - val_loss: 0.5716 - val_acc: 0.6754\n",
      "Epoch 5/55\n",
      "3000/3000 [==============================] - 14s 5ms/sample - loss: 0.5757 - acc: 0.6923 - val_loss: 0.6143 - val_acc: 0.6473\n",
      "Epoch 6/55\n",
      "3000/3000 [==============================] - 14s 5ms/sample - loss: 0.5763 - acc: 0.6883 - val_loss: 0.5509 - val_acc: 0.7053\n",
      "Epoch 7/55\n",
      "3000/3000 [==============================] - 14s 5ms/sample - loss: 0.5579 - acc: 0.7047 - val_loss: 0.7900 - val_acc: 0.5082\n",
      "Epoch 8/55\n",
      "3000/3000 [==============================] - 14s 5ms/sample - loss: 0.5516 - acc: 0.7107 - val_loss: 0.5273 - val_acc: 0.7324\n",
      "Epoch 9/55\n",
      "3000/3000 [==============================] - 15s 5ms/sample - loss: 0.5412 - acc: 0.7230 - val_loss: 0.5447 - val_acc: 0.6976\n",
      "Epoch 10/55\n",
      "3000/3000 [==============================] - 15s 5ms/sample - loss: 0.5299 - acc: 0.7317 - val_loss: 0.5752 - val_acc: 0.6783\n",
      "Epoch 11/55\n",
      "3000/3000 [==============================] - 15s 5ms/sample - loss: 0.5126 - acc: 0.7453 - val_loss: 0.5933 - val_acc: 0.7005\n",
      "Epoch 12/55\n",
      "3000/3000 [==============================] - 14s 5ms/sample - loss: 0.5163 - acc: 0.7360 - val_loss: 0.5240 - val_acc: 0.7275\n",
      "Epoch 13/55\n",
      "3000/3000 [==============================] - 14s 5ms/sample - loss: 0.4984 - acc: 0.7500 - val_loss: 0.5358 - val_acc: 0.7362\n",
      "Epoch 14/55\n",
      "3000/3000 [==============================] - 14s 5ms/sample - loss: 0.4830 - acc: 0.7737 - val_loss: 0.5072 - val_acc: 0.7469\n",
      "Epoch 15/55\n",
      "3000/3000 [==============================] - 14s 5ms/sample - loss: 0.4721 - acc: 0.7757 - val_loss: 0.4993 - val_acc: 0.7430\n",
      "Epoch 16/55\n",
      "3000/3000 [==============================] - 14s 5ms/sample - loss: 0.4729 - acc: 0.7713 - val_loss: 0.4688 - val_acc: 0.7778\n",
      "Epoch 17/55\n",
      "3000/3000 [==============================] - 14s 5ms/sample - loss: 0.4720 - acc: 0.7697 - val_loss: 0.4853 - val_acc: 0.7681\n",
      "Epoch 18/55\n",
      "3000/3000 [==============================] - 14s 5ms/sample - loss: 0.4632 - acc: 0.7770 - val_loss: 0.4501 - val_acc: 0.7865\n",
      "Epoch 19/55\n",
      "3000/3000 [==============================] - 15s 5ms/sample - loss: 0.4379 - acc: 0.7927 - val_loss: 0.8009 - val_acc: 0.6522\n",
      "Epoch 20/55\n",
      "3000/3000 [==============================] - 14s 5ms/sample - loss: 0.4404 - acc: 0.7900 - val_loss: 0.7274 - val_acc: 0.6048\n",
      "Epoch 21/55\n",
      "3000/3000 [==============================] - 14s 5ms/sample - loss: 0.4297 - acc: 0.8010 - val_loss: 0.4610 - val_acc: 0.7710\n",
      "Epoch 22/55\n",
      "3000/3000 [==============================] - 14s 5ms/sample - loss: 0.4341 - acc: 0.7987 - val_loss: 0.4493 - val_acc: 0.7855\n",
      "Epoch 23/55\n",
      "3000/3000 [==============================] - 14s 5ms/sample - loss: 0.4092 - acc: 0.8110 - val_loss: 0.5993 - val_acc: 0.7208\n",
      "Epoch 24/55\n",
      "3000/3000 [==============================] - 14s 5ms/sample - loss: 0.4170 - acc: 0.8000 - val_loss: 0.5071 - val_acc: 0.7333\n",
      "Epoch 25/55\n",
      "3000/3000 [==============================] - 14s 5ms/sample - loss: 0.4007 - acc: 0.8190 - val_loss: 0.5588 - val_acc: 0.7256\n",
      "Epoch 26/55\n",
      "3000/3000 [==============================] - 14s 5ms/sample - loss: 0.3905 - acc: 0.8223 - val_loss: 0.4741 - val_acc: 0.7662\n",
      "Epoch 27/55\n",
      "3000/3000 [==============================] - 14s 5ms/sample - loss: 0.3779 - acc: 0.8337 - val_loss: 0.4408 - val_acc: 0.7884\n",
      "Epoch 28/55\n",
      "3000/3000 [==============================] - 14s 5ms/sample - loss: 0.3859 - acc: 0.8233 - val_loss: 0.4283 - val_acc: 0.8000\n",
      "Epoch 29/55\n",
      "3000/3000 [==============================] - 14s 5ms/sample - loss: 0.3750 - acc: 0.8340 - val_loss: 0.4570 - val_acc: 0.7807\n",
      "Epoch 30/55\n",
      "3000/3000 [==============================] - 14s 5ms/sample - loss: 0.3763 - acc: 0.8390 - val_loss: 0.4998 - val_acc: 0.7449\n",
      "Epoch 31/55\n",
      "3000/3000 [==============================] - 14s 5ms/sample - loss: 0.3551 - acc: 0.8383 - val_loss: 0.5651 - val_acc: 0.7140\n",
      "Epoch 32/55\n",
      "3000/3000 [==============================] - 14s 5ms/sample - loss: 0.3535 - acc: 0.8363 - val_loss: 0.4984 - val_acc: 0.7527\n",
      "Epoch 33/55\n",
      "3000/3000 [==============================] - 14s 5ms/sample - loss: 0.3364 - acc: 0.8463 - val_loss: 0.6891 - val_acc: 0.6957\n",
      "Epoch 34/55\n",
      "3000/3000 [==============================] - 14s 5ms/sample - loss: 0.3628 - acc: 0.8453 - val_loss: 0.4050 - val_acc: 0.8145\n",
      "Epoch 35/55\n",
      "3000/3000 [==============================] - 14s 5ms/sample - loss: 0.3431 - acc: 0.8517 - val_loss: 0.4637 - val_acc: 0.7903\n",
      "Epoch 36/55\n",
      "3000/3000 [==============================] - 14s 5ms/sample - loss: 0.3288 - acc: 0.8510 - val_loss: 0.5749 - val_acc: 0.7217\n",
      "Epoch 37/55\n",
      "3000/3000 [==============================] - 14s 5ms/sample - loss: 0.3187 - acc: 0.8540 - val_loss: 0.5002 - val_acc: 0.7749\n",
      "Epoch 38/55\n",
      "3000/3000 [==============================] - 14s 5ms/sample - loss: 0.3235 - acc: 0.8603 - val_loss: 0.4809 - val_acc: 0.7845\n",
      "Epoch 39/55\n",
      "3000/3000 [==============================] - 20s 7ms/sample - loss: 0.2900 - acc: 0.8737 - val_loss: 0.5665 - val_acc: 0.7343\n",
      "Epoch 40/55\n",
      "3000/3000 [==============================] - 23s 8ms/sample - loss: 0.3295 - acc: 0.8577 - val_loss: 0.3929 - val_acc: 0.8203\n",
      "Epoch 41/55\n",
      "3000/3000 [==============================] - 20s 7ms/sample - loss: 0.2878 - acc: 0.8743 - val_loss: 0.4948 - val_acc: 0.7681\n",
      "Epoch 42/55\n",
      "3000/3000 [==============================] - 11s 4ms/sample - loss: 0.3041 - acc: 0.8663 - val_loss: 0.5052 - val_acc: 0.7710\n",
      "Epoch 43/55\n",
      "3000/3000 [==============================] - 11s 4ms/sample - loss: 0.2914 - acc: 0.8737 - val_loss: 0.6883 - val_acc: 0.6696\n",
      "Epoch 44/55\n",
      "3000/3000 [==============================] - 11s 4ms/sample - loss: 0.2894 - acc: 0.8840 - val_loss: 0.4384 - val_acc: 0.7816\n",
      "Epoch 45/55\n",
      "3000/3000 [==============================] - 11s 4ms/sample - loss: 0.2774 - acc: 0.8877 - val_loss: 0.7359 - val_acc: 0.7150\n",
      "Epoch 46/55\n",
      "3000/3000 [==============================] - 11s 4ms/sample - loss: 0.2652 - acc: 0.8863 - val_loss: 0.4343 - val_acc: 0.8039\n",
      "Epoch 47/55\n",
      "3000/3000 [==============================] - 11s 4ms/sample - loss: 0.2731 - acc: 0.8853 - val_loss: 0.4845 - val_acc: 0.7768\n",
      "Epoch 48/55\n",
      "3000/3000 [==============================] - 11s 4ms/sample - loss: 0.2783 - acc: 0.8893 - val_loss: 0.6628 - val_acc: 0.7353\n",
      "Epoch 49/55\n",
      "3000/3000 [==============================] - 11s 4ms/sample - loss: 0.2311 - acc: 0.9053 - val_loss: 0.4802 - val_acc: 0.7913\n",
      "Epoch 50/55\n",
      "3000/3000 [==============================] - 11s 4ms/sample - loss: 0.2229 - acc: 0.9127 - val_loss: 0.4608 - val_acc: 0.7932\n",
      "Epoch 51/55\n",
      "3000/3000 [==============================] - 11s 4ms/sample - loss: 0.2541 - acc: 0.8970 - val_loss: 0.6403 - val_acc: 0.7382\n",
      "Epoch 52/55\n",
      "3000/3000 [==============================] - 11s 4ms/sample - loss: 0.2407 - acc: 0.8967 - val_loss: 0.3829 - val_acc: 0.8290\n",
      "Epoch 53/55\n",
      "3000/3000 [==============================] - 11s 4ms/sample - loss: 0.2321 - acc: 0.9063 - val_loss: 0.3953 - val_acc: 0.8145\n",
      "Epoch 54/55\n",
      "3000/3000 [==============================] - 11s 4ms/sample - loss: 0.2635 - acc: 0.8873 - val_loss: 0.4099 - val_acc: 0.8184\n",
      "Epoch 55/55\n",
      "3000/3000 [==============================] - 11s 4ms/sample - loss: 0.2312 - acc: 0.9050 - val_loss: 0.5405 - val_acc: 0.7382\n"
     ]
    }
   ],
   "source": [
    "checkpoint_cb = keras.callbacks.ModelCheckpoint(\"my_keras_model.h5\",\n",
    "save_best_only=True)\n",
    "\n",
    "model = keras.models.Sequential()\n",
    "model.add(keras.layers.Flatten(input_shape=[100,100]))\n",
    "\n",
    "model.add(keras.layers.Dense(2000,activation=\"relu\"))\n",
    "model.add(keras.layers.Dense(2000,activation=\"relu\"))\n",
    "model.add(keras.layers.Dense(2000,activation=\"relu\"))\n",
    "model.add(keras.layers.Dense(300,activation=\"relu\"))\n",
    "model.add(keras.layers.Dense(30,activation=\"relu\"))\n",
    "model.add(keras.layers.Dense(2,activation=\"sigmoid\"))\n",
    "\n",
    "model.compile(loss=\"sparse_categorical_crossentropy\",optimizer='sgd',\n",
    "              metrics=[\"accuracy\"])\n",
    "\n",
    "history = model.fit(im_fruits_100[:3000]/255.0, y_train[:3000], \n",
    "                    epochs=55,validation_data=(im_fruits_100[3000:]/255.0,y_train[3000:]))"
   ]
  },
  {
   "cell_type": "code",
   "execution_count": 49,
   "metadata": {},
   "outputs": [],
   "source": [
    "model.save(\"3x2000_100x100_55_keras.h5\")\n"
   ]
  },
  {
   "cell_type": "code",
   "execution_count": 43,
   "metadata": {},
   "outputs": [
    {
     "name": "stdout",
     "output_type": "stream",
     "text": [
      "WARNING:tensorflow:From D:\\anconda\\lib\\site-packages\\tensorflow\\python\\ops\\init_ops.py:1251: calling VarianceScaling.__init__ (from tensorflow.python.ops.init_ops) with dtype is deprecated and will be removed in a future version.\n",
      "Instructions for updating:\n",
      "Call initializer instance with the dtype argument instead of passing it to the constructor\n",
      "Train on 3000 samples, validate on 1035 samples\n",
      "WARNING:tensorflow:From D:\\anconda\\lib\\site-packages\\tensorflow\\python\\ops\\math_grad.py:1250: add_dispatch_support.<locals>.wrapper (from tensorflow.python.ops.array_ops) is deprecated and will be removed in a future version.\n",
      "Instructions for updating:\n",
      "Use tf.where in 2.0, which has the same broadcast rule as np.where\n",
      "Epoch 1/80\n",
      "3000/3000 [==============================] - 24s 8ms/sample - loss: 0.6598 - acc: 0.6013 - val_loss: 0.6303 - val_acc: 0.6251\n",
      "Epoch 2/80\n",
      "3000/3000 [==============================] - 21s 7ms/sample - loss: 0.6229 - acc: 0.6430 - val_loss: 0.6525 - val_acc: 0.6077\n",
      "Epoch 3/80\n",
      "3000/3000 [==============================] - 22s 7ms/sample - loss: 0.6053 - acc: 0.6663 - val_loss: 0.6184 - val_acc: 0.6541\n",
      "Epoch 4/80\n",
      "3000/3000 [==============================] - 22s 7ms/sample - loss: 0.5931 - acc: 0.6743 - val_loss: 0.6139 - val_acc: 0.6329\n",
      "Epoch 5/80\n",
      "3000/3000 [==============================] - 23s 8ms/sample - loss: 0.5709 - acc: 0.6917 - val_loss: 0.5766 - val_acc: 0.6686\n",
      "Epoch 6/80\n",
      "3000/3000 [==============================] - 21s 7ms/sample - loss: 0.5637 - acc: 0.7057 - val_loss: 0.7056 - val_acc: 0.6145\n",
      "Epoch 7/80\n",
      "3000/3000 [==============================] - 22s 7ms/sample - loss: 0.5542 - acc: 0.7127 - val_loss: 0.5403 - val_acc: 0.7140\n",
      "Epoch 8/80\n",
      "3000/3000 [==============================] - 22s 7ms/sample - loss: 0.5359 - acc: 0.7150 - val_loss: 0.5401 - val_acc: 0.7159\n",
      "Epoch 9/80\n",
      "3000/3000 [==============================] - 20s 7ms/sample - loss: 0.5262 - acc: 0.7250 - val_loss: 0.5506 - val_acc: 0.7005\n",
      "Epoch 10/80\n",
      "3000/3000 [==============================] - 16s 5ms/sample - loss: 0.5117 - acc: 0.7420 - val_loss: 0.6172 - val_acc: 0.6647\n",
      "Epoch 11/80\n",
      "3000/3000 [==============================] - 16s 5ms/sample - loss: 0.4978 - acc: 0.7440 - val_loss: 0.5820 - val_acc: 0.6850\n",
      "Epoch 12/80\n",
      "3000/3000 [==============================] - 16s 5ms/sample - loss: 0.5051 - acc: 0.7480 - val_loss: 0.5444 - val_acc: 0.6928\n",
      "Epoch 13/80\n",
      "3000/3000 [==============================] - 17s 6ms/sample - loss: 0.4821 - acc: 0.7683 - val_loss: 0.5016 - val_acc: 0.7459\n",
      "Epoch 14/80\n",
      "3000/3000 [==============================] - 16s 5ms/sample - loss: 0.4746 - acc: 0.7717 - val_loss: 0.5128 - val_acc: 0.7372\n",
      "Epoch 15/80\n",
      "3000/3000 [==============================] - 16s 5ms/sample - loss: 0.4628 - acc: 0.7787 - val_loss: 0.5370 - val_acc: 0.7246\n",
      "Epoch 16/80\n",
      "3000/3000 [==============================] - 18s 6ms/sample - loss: 0.4629 - acc: 0.7793 - val_loss: 0.4954 - val_acc: 0.7498\n",
      "Epoch 17/80\n",
      "3000/3000 [==============================] - 17s 6ms/sample - loss: 0.4460 - acc: 0.7863 - val_loss: 0.6360 - val_acc: 0.6676\n",
      "Epoch 18/80\n",
      "3000/3000 [==============================] - 17s 6ms/sample - loss: 0.4428 - acc: 0.7870 - val_loss: 0.4911 - val_acc: 0.7536\n",
      "Epoch 19/80\n",
      "3000/3000 [==============================] - 17s 6ms/sample - loss: 0.4339 - acc: 0.7977 - val_loss: 0.4860 - val_acc: 0.7536\n",
      "Epoch 20/80\n",
      "3000/3000 [==============================] - 17s 6ms/sample - loss: 0.4196 - acc: 0.7987 - val_loss: 0.4965 - val_acc: 0.7681\n",
      "Epoch 21/80\n",
      "3000/3000 [==============================] - 16s 5ms/sample - loss: 0.4093 - acc: 0.8113 - val_loss: 0.5338 - val_acc: 0.7130\n",
      "Epoch 22/80\n",
      "3000/3000 [==============================] - 16s 5ms/sample - loss: 0.4101 - acc: 0.8070 - val_loss: 0.5100 - val_acc: 0.7449\n",
      "Epoch 23/80\n",
      "3000/3000 [==============================] - 17s 6ms/sample - loss: 0.4043 - acc: 0.8120 - val_loss: 0.4799 - val_acc: 0.7787\n",
      "Epoch 24/80\n",
      "3000/3000 [==============================] - 17s 6ms/sample - loss: 0.3884 - acc: 0.8173 - val_loss: 0.5249 - val_acc: 0.7295\n",
      "Epoch 25/80\n",
      "3000/3000 [==============================] - 16s 5ms/sample - loss: 0.3884 - acc: 0.8213 - val_loss: 0.5158 - val_acc: 0.7671\n",
      "Epoch 26/80\n",
      "3000/3000 [==============================] - 16s 5ms/sample - loss: 0.3843 - acc: 0.8237 - val_loss: 0.8686 - val_acc: 0.6319\n",
      "Epoch 27/80\n",
      "3000/3000 [==============================] - 17s 6ms/sample - loss: 0.3649 - acc: 0.8303 - val_loss: 0.4671 - val_acc: 0.7768\n",
      "Epoch 28/80\n",
      "3000/3000 [==============================] - 17s 6ms/sample - loss: 0.3536 - acc: 0.8357 - val_loss: 0.6725 - val_acc: 0.7188\n",
      "Epoch 29/80\n",
      "3000/3000 [==============================] - 17s 6ms/sample - loss: 0.3557 - acc: 0.8377 - val_loss: 0.4582 - val_acc: 0.7874\n",
      "Epoch 30/80\n",
      "3000/3000 [==============================] - 17s 6ms/sample - loss: 0.3771 - acc: 0.8323 - val_loss: 0.4410 - val_acc: 0.7971\n",
      "Epoch 31/80\n",
      "3000/3000 [==============================] - 17s 6ms/sample - loss: 0.3479 - acc: 0.8427 - val_loss: 0.4499 - val_acc: 0.7874\n",
      "Epoch 32/80\n",
      "3000/3000 [==============================] - 17s 6ms/sample - loss: 0.3343 - acc: 0.8467 - val_loss: 0.4954 - val_acc: 0.7768\n",
      "Epoch 33/80\n",
      "3000/3000 [==============================] - 17s 6ms/sample - loss: 0.3307 - acc: 0.8563 - val_loss: 0.4892 - val_acc: 0.7614\n",
      "Epoch 34/80\n",
      "3000/3000 [==============================] - 17s 6ms/sample - loss: 0.3135 - acc: 0.8667 - val_loss: 0.4573 - val_acc: 0.8048\n",
      "Epoch 35/80\n",
      "3000/3000 [==============================] - 17s 6ms/sample - loss: 0.2959 - acc: 0.8713 - val_loss: 0.4574 - val_acc: 0.7923\n",
      "Epoch 36/80\n",
      "3000/3000 [==============================] - 16s 5ms/sample - loss: 0.2963 - acc: 0.8730 - val_loss: 0.7008 - val_acc: 0.7208\n",
      "Epoch 37/80\n",
      "3000/3000 [==============================] - 16s 5ms/sample - loss: 0.3123 - acc: 0.8527 - val_loss: 0.5218 - val_acc: 0.7614\n",
      "Epoch 38/80\n",
      "3000/3000 [==============================] - 17s 6ms/sample - loss: 0.3127 - acc: 0.8670 - val_loss: 0.4724 - val_acc: 0.7845\n",
      "Epoch 39/80\n",
      "3000/3000 [==============================] - 17s 6ms/sample - loss: 0.2940 - acc: 0.8783 - val_loss: 0.6052 - val_acc: 0.7324\n",
      "Epoch 40/80\n",
      "3000/3000 [==============================] - 17s 6ms/sample - loss: 0.2966 - acc: 0.8760 - val_loss: 0.4659 - val_acc: 0.7758\n",
      "Epoch 41/80\n",
      "3000/3000 [==============================] - 17s 6ms/sample - loss: 0.2727 - acc: 0.8770 - val_loss: 0.8721 - val_acc: 0.6580\n",
      "Epoch 42/80\n",
      "3000/3000 [==============================] - 17s 6ms/sample - loss: 0.2735 - acc: 0.8847 - val_loss: 0.4389 - val_acc: 0.8077\n",
      "Epoch 43/80\n",
      "3000/3000 [==============================] - 17s 6ms/sample - loss: 0.2621 - acc: 0.8927 - val_loss: 0.4767 - val_acc: 0.7884\n",
      "Epoch 44/80\n",
      "3000/3000 [==============================] - 17s 6ms/sample - loss: 0.2604 - acc: 0.8923 - val_loss: 0.4247 - val_acc: 0.8203\n",
      "Epoch 45/80\n",
      "3000/3000 [==============================] - 17s 6ms/sample - loss: 0.2610 - acc: 0.8850 - val_loss: 0.4462 - val_acc: 0.8010\n",
      "Epoch 46/80\n",
      "3000/3000 [==============================] - 17s 6ms/sample - loss: 0.2986 - acc: 0.8727 - val_loss: 0.4904 - val_acc: 0.8039\n",
      "Epoch 47/80\n",
      "3000/3000 [==============================] - 17s 6ms/sample - loss: 0.2435 - acc: 0.8943 - val_loss: 0.4885 - val_acc: 0.8039\n",
      "Epoch 48/80\n",
      "3000/3000 [==============================] - 17s 6ms/sample - loss: 0.2303 - acc: 0.9043 - val_loss: 0.4300 - val_acc: 0.8087\n",
      "Epoch 49/80\n",
      "3000/3000 [==============================] - 17s 6ms/sample - loss: 0.2461 - acc: 0.8933 - val_loss: 0.4294 - val_acc: 0.8145\n",
      "Epoch 50/80\n",
      "3000/3000 [==============================] - 17s 6ms/sample - loss: 0.2392 - acc: 0.8980 - val_loss: 0.4199 - val_acc: 0.8087\n",
      "Epoch 51/80\n",
      "3000/3000 [==============================] - 17s 6ms/sample - loss: 0.2031 - acc: 0.9203 - val_loss: 0.4289 - val_acc: 0.8251\n",
      "Epoch 52/80\n",
      "3000/3000 [==============================] - 17s 6ms/sample - loss: 0.2296 - acc: 0.9057 - val_loss: 0.5704 - val_acc: 0.7739\n",
      "Epoch 53/80\n",
      "3000/3000 [==============================] - 17s 6ms/sample - loss: 0.2309 - acc: 0.9093 - val_loss: 0.5323 - val_acc: 0.7836\n",
      "Epoch 54/80\n",
      "3000/3000 [==============================] - 17s 6ms/sample - loss: 0.2214 - acc: 0.9030 - val_loss: 0.4445 - val_acc: 0.8271\n",
      "Epoch 55/80\n"
     ]
    },
    {
     "name": "stdout",
     "output_type": "stream",
     "text": [
      "3000/3000 [==============================] - 17s 6ms/sample - loss: 0.2250 - acc: 0.9077 - val_loss: 0.4805 - val_acc: 0.7816\n",
      "Epoch 56/80\n",
      "3000/3000 [==============================] - 17s 6ms/sample - loss: 0.2059 - acc: 0.9167 - val_loss: 0.4393 - val_acc: 0.8135\n",
      "Epoch 57/80\n",
      "3000/3000 [==============================] - 17s 6ms/sample - loss: 0.1902 - acc: 0.9237 - val_loss: 0.4036 - val_acc: 0.8203\n",
      "Epoch 58/80\n",
      "3000/3000 [==============================] - 17s 6ms/sample - loss: 0.1946 - acc: 0.9193 - val_loss: 0.5607 - val_acc: 0.7720\n",
      "Epoch 59/80\n",
      "3000/3000 [==============================] - 17s 6ms/sample - loss: 0.2129 - acc: 0.9123 - val_loss: 0.6361 - val_acc: 0.6628\n",
      "Epoch 60/80\n",
      "3000/3000 [==============================] - 17s 6ms/sample - loss: 0.2073 - acc: 0.9167 - val_loss: 0.6009 - val_acc: 0.7671\n",
      "Epoch 61/80\n",
      "3000/3000 [==============================] - 16s 5ms/sample - loss: 0.1830 - acc: 0.9197 - val_loss: 0.6608 - val_acc: 0.7633\n",
      "Epoch 62/80\n",
      "3000/3000 [==============================] - 17s 6ms/sample - loss: 0.1696 - acc: 0.9323 - val_loss: 0.5463 - val_acc: 0.8029\n",
      "Epoch 63/80\n",
      "3000/3000 [==============================] - 17s 6ms/sample - loss: 0.1550 - acc: 0.9370 - val_loss: 0.6918 - val_acc: 0.7903\n",
      "Epoch 64/80\n",
      "3000/3000 [==============================] - 17s 6ms/sample - loss: 0.1676 - acc: 0.9353 - val_loss: 0.4657 - val_acc: 0.8039\n",
      "Epoch 65/80\n",
      "3000/3000 [==============================] - 17s 6ms/sample - loss: 0.2096 - acc: 0.9167 - val_loss: 0.5522 - val_acc: 0.7961\n",
      "Epoch 66/80\n",
      "3000/3000 [==============================] - 17s 6ms/sample - loss: 0.1665 - acc: 0.9307 - val_loss: 0.4622 - val_acc: 0.8145\n",
      "Epoch 67/80\n",
      "3000/3000 [==============================] - 17s 6ms/sample - loss: 0.1619 - acc: 0.9340 - val_loss: 0.4573 - val_acc: 0.8242\n",
      "Epoch 68/80\n",
      "3000/3000 [==============================] - 17s 6ms/sample - loss: 0.1459 - acc: 0.9370 - val_loss: 0.4507 - val_acc: 0.8338\n",
      "Epoch 69/80\n",
      "3000/3000 [==============================] - 16s 5ms/sample - loss: 0.1784 - acc: 0.9293 - val_loss: 0.4973 - val_acc: 0.8135\n",
      "Epoch 70/80\n",
      "3000/3000 [==============================] - 17s 6ms/sample - loss: 0.1571 - acc: 0.9350 - val_loss: 0.7131 - val_acc: 0.7594\n",
      "Epoch 71/80\n",
      "3000/3000 [==============================] - 17s 6ms/sample - loss: 0.1455 - acc: 0.9383 - val_loss: 0.5511 - val_acc: 0.8097\n",
      "Epoch 72/80\n",
      "3000/3000 [==============================] - 17s 6ms/sample - loss: 0.1240 - acc: 0.9517 - val_loss: 0.6053 - val_acc: 0.7913\n",
      "Epoch 73/80\n",
      "3000/3000 [==============================] - 17s 6ms/sample - loss: 0.1554 - acc: 0.9403 - val_loss: 1.1666 - val_acc: 0.6406\n",
      "Epoch 74/80\n",
      "3000/3000 [==============================] - 17s 6ms/sample - loss: 0.1809 - acc: 0.9307 - val_loss: 0.4737 - val_acc: 0.8242\n",
      "Epoch 75/80\n",
      "3000/3000 [==============================] - 17s 6ms/sample - loss: 0.1263 - acc: 0.9493 - val_loss: 0.6114 - val_acc: 0.8039\n",
      "Epoch 76/80\n",
      "3000/3000 [==============================] - 17s 6ms/sample - loss: 0.1344 - acc: 0.9443 - val_loss: 0.4995 - val_acc: 0.7961\n",
      "Epoch 77/80\n",
      "3000/3000 [==============================] - 17s 6ms/sample - loss: 0.1505 - acc: 0.9367 - val_loss: 0.4385 - val_acc: 0.8300\n",
      "Epoch 78/80\n",
      "3000/3000 [==============================] - 17s 6ms/sample - loss: 0.1079 - acc: 0.9560 - val_loss: 0.6461 - val_acc: 0.7807\n",
      "Epoch 79/80\n",
      "3000/3000 [==============================] - 17s 6ms/sample - loss: 0.1057 - acc: 0.9633 - val_loss: 0.4366 - val_acc: 0.8454\n",
      "Epoch 80/80\n",
      "3000/3000 [==============================] - 17s 6ms/sample - loss: 0.1051 - acc: 0.9593 - val_loss: 0.5917 - val_acc: 0.8357\n"
     ]
    }
   ],
   "source": [
    "checkpoint_cb = keras.callbacks.ModelCheckpoint(\"my_keras_model.h5\",\n",
    "save_best_only=True)\n",
    "\n",
    "model = keras.models.Sequential()\n",
    "model.add(keras.layers.Flatten(input_shape=[100,100]))\n",
    "\n",
    "model.add(keras.layers.Dense(4000,activation=\"relu\"))\n",
    "model.add(keras.layers.Dense(2000,activation=\"relu\"))\n",
    "model.add(keras.layers.Dense(2000,activation=\"relu\"))\n",
    "model.add(keras.layers.Dense(300,activation=\"relu\"))\n",
    "model.add(keras.layers.Dense(30,activation=\"relu\"))\n",
    "model.add(keras.layers.Dense(2,activation=\"sigmoid\"))\n",
    "\n",
    "model.compile(loss=\"sparse_categorical_crossentropy\",optimizer='sgd',\n",
    "              metrics=[\"accuracy\"])\n",
    "\n",
    "history = model.fit(im_fruits_100[:3000]/255.0, y_train[:3000], \n",
    "                    epochs=80,validation_data=(im_fruits_100[3000:]/255.0,y_train[3000:]), callbacks = [checkpoint_cb])"
   ]
  },
  {
   "cell_type": "code",
   "execution_count": null,
   "metadata": {},
   "outputs": [],
   "source": []
  }
 ],
 "metadata": {
  "kernelspec": {
   "display_name": "Python 3",
   "language": "python",
   "name": "python3"
  },
  "language_info": {
   "codemirror_mode": {
    "name": "ipython",
    "version": 3
   },
   "file_extension": ".py",
   "mimetype": "text/x-python",
   "name": "python",
   "nbconvert_exporter": "python",
   "pygments_lexer": "ipython3",
   "version": "3.7.3"
  }
 },
 "nbformat": 4,
 "nbformat_minor": 2
}
